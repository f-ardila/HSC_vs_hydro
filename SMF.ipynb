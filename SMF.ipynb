{
 "cells": [
  {
   "cell_type": "markdown",
   "metadata": {},
   "source": [
    "# Stellar Mass Functions (SMFs)"
   ]
  },
  {
   "cell_type": "code",
   "execution_count": 1,
   "metadata": {
    "collapsed": true
   },
   "outputs": [],
   "source": [
    "import h5py\n",
    "import numpy as np\n",
    "import matplotlib.pyplot as plt\n",
    "import matplotlib.lines as mlines\n",
    "plt.rc('text', usetex=True)"
   ]
  },
  {
   "cell_type": "code",
   "execution_count": 2,
   "metadata": {
    "collapsed": true
   },
   "outputs": [],
   "source": [
    "#data\n",
    "Illustris_file = '/Users/fardila/Documents/GitHub/HSC_vs_hydro/Data/Illustris/galaxies_orig_11.2.hdf5'\n",
    "TNG_file = '/Users/fardila/Documents/GitHub/HSC_vs_hydro/Data/TNG/galaxies_tng75_11.2.hdf5'\n"
   ]
  },
  {
   "cell_type": "markdown",
   "metadata": {},
   "source": [
    "### Song's SMF functions"
   ]
  },
  {
   "cell_type": "code",
   "execution_count": 3,
   "metadata": {
    "collapsed": true
   },
   "outputs": [],
   "source": [
    "def compute_smf_song(sm_array, volume, nb, sm_min, sm_max,\n",
    "                smf_only=False, return_bins=False):\n",
    "    \"\"\"\n",
    "    Parameters\n",
    "    ----------\n",
    "    sm_array: ndarray\n",
    "        Array of stellar mass values in log10 values\n",
    "\n",
    "    volume : float\n",
    "        volume of data in comoving Mpc^-3\n",
    "\n",
    "    nb : number of bins\n",
    "\n",
    "    sm_min : min of x axis\n",
    "\n",
    "    sm_max : max of x axis\n",
    "\n",
    "    Returns\n",
    "    -------\n",
    "    x : ndarray\n",
    "        x axis of SMF in units of log10 M*\n",
    "\n",
    "    smf : ndarray in units of dn / dlogM* in units of Mpc^-3 dex^-1\n",
    "\n",
    "    err : ndarray\n",
    "        Poisson error\n",
    "    \"\"\"\n",
    "\n",
    "    smf, bin_edges = np.histogram(sm_array, bins=nb,\n",
    "                                  range=[sm_min, sm_max])\n",
    "\n",
    "    # bin width in dex\n",
    "    # !! Only works for constant bin size now\n",
    "    mass_bin_width = (bin_edges[1] - bin_edges[0])\n",
    "\n",
    "    # Normalize\n",
    "    smf = (smf / volume / mass_bin_width)\n",
    "\n",
    "    # Poison error\n",
    "    if not smf_only:\n",
    "        err = np.sqrt(smf)\n",
    "        # Also normalize the err\n",
    "        err = (err / volume / mass_bin_width)\n",
    "        # X-axis\n",
    "        x = bin_edges[:-1] + (mass_bin_width / 2.0)\n",
    "\n",
    "    if not smf_only:\n",
    "        if return_bins:\n",
    "            return x, smf, err, bin_edges\n",
    "        else:\n",
    "            return x, smf, err\n",
    "    else:\n",
    "        # For bootstrap run\n",
    "        return smf\n",
    "\n",
    "\n",
    "def bootstrap_resample(X, n_boots=1000):\n",
    "    \"\"\"\n",
    "    Bootstrap resample an array_like.\n",
    "    Borrowed from: http://nbviewer.jupyter.org/gist/aflaxman/6871948\n",
    "\n",
    "    Parameters\n",
    "    ----------\n",
    "    X : array_like\n",
    "      data to resample\n",
    "    n_boots : int, optional\n",
    "      Number of bootstrap resamples\n",
    "      default = 1000\n",
    "\n",
    "    Results\n",
    "    -------\n",
    "    returns X_resamples\n",
    "    \"\"\"\n",
    "    return np.vstack(\n",
    "        X[np.floor(np.random.rand(len(X))*len(X)).astype(int)]\n",
    "        for ii in np.arange(n_boots)).T\n",
    "\n",
    "\n",
    "def bootstrap_smf_song(sm_array, volume, nb, sm_min, sm_max,\n",
    "                  n_boots=1000, sm_err=None, resample_err=False):\n",
    "    \"\"\"\n",
    "    Parameters\n",
    "    ----------\n",
    "    sm_array: ndarray\n",
    "        Array of stellar mass values in log10 values\n",
    "\n",
    "    volume : float\n",
    "        volume of data in comoving Mpc^-3\n",
    "\n",
    "    nb : number of bins\n",
    "\n",
    "    sm_min : min of x axis\n",
    "\n",
    "    sm_max : max of y axis\n",
    "\n",
    "    sm_err: ndarray, optional\n",
    "        Array of stellar mass errors\n",
    "\n",
    "\n",
    "    Returns\n",
    "    -------\n",
    "    x : ndarray\n",
    "        x axis of SMF in units of log10 M*\n",
    "\n",
    "    smf : ndarray in units of dn / dlogM* in units of Mpc^-3 dex^-1\n",
    "\n",
    "    err_poison : ndarray\n",
    "        Poisson error\n",
    "\n",
    "    smf_boots : ndarray\n",
    "        Bootstrapped SMFs\n",
    "    \n",
    "    bins : edges of bins \n",
    "    \"\"\"\n",
    "\n",
    "    x, smf, err_poison, bins = compute_smf(sm_array, volume, nb,\n",
    "                                           sm_min, sm_max,\n",
    "                                           return_bins=True)\n",
    "\n",
    "    if resample_err:\n",
    "        msg = \"Need to provide the error of stellar mass!\"\n",
    "        assert sm_err is not None, msg\n",
    "        sm_boots = np.asarray(\n",
    "            map(lambda mass, err: np.random.normal(mass, err, n_boots),\n",
    "                sm_array, sm_err))\n",
    "    else:\n",
    "        sm_boots = bootstrap_resample(sm_array, n_boots=n_boots)\n",
    "\n",
    "    smf_boots = np.vstack(\n",
    "        compute_smf(sm_boots[:, ii], volume, nb, sm_min, sm_max, smf_only=True)\n",
    "        for ii in range(n_boots)\n",
    "    )\n",
    "    \n",
    "    return x, smf, err_poison, smf_boots, bins"
   ]
  },
  {
   "cell_type": "markdown",
   "metadata": {},
   "source": [
    "## Modified functions"
   ]
  },
  {
   "cell_type": "code",
   "execution_count": 4,
   "metadata": {
    "collapsed": true
   },
   "outputs": [],
   "source": [
    "def compute_smf(log_masses, volume, n_bins, min_mass, max_mass):\n",
    "    \"\"\"\n",
    "    Parameters\n",
    "    ----------\n",
    "    log_masses: ndarray\n",
    "        Array of stellar mass values in log10 values\n",
    "\n",
    "    volume : float\n",
    "        volume of data in comoving Mpc^3\n",
    "\n",
    "    n_bins : number of bins\n",
    "\n",
    "    min_mass : min mass\n",
    "\n",
    "    max_mass : max mass\n",
    "\n",
    "    Returns\n",
    "    -------\n",
    "    m_centers : ndarray\n",
    "        mass bin centers (x axis of SMF) in units of log10 M*\n",
    "\n",
    "    log_phi : ndarray in units of dn / dlogM* in units of Mpc^-3 dex^-1\n",
    "\n",
    "    log_err : ndarray\n",
    "        log of Poisson error\n",
    "    \"\"\"\n",
    "    \n",
    "    Phi,edg = np.histogram(log_masses,bins=n_bins, range=[min_mass, max_mass]) #Unnormalized histogram and bin edges\n",
    "    dM    = edg[1] - edg[0]                 #Bin size\n",
    "    m_centers   = edg[0:-1] + dM/2.           #Mass axis\n",
    "    Phi   = Phi / float(volume) / dM             #Normalize to volume and bin size\n",
    "    log_phi= np.log10(Phi) \n",
    "\n",
    "    # Poisson error\n",
    "    err = np.sqrt(Phi)\n",
    "    # Also normalize the err\n",
    "    err = err / float(volume) / dM \n",
    "    \n",
    "    return m_centers, Phi, err\n",
    "\n",
    "\n",
    "def bootstrap_smf(log_masses, volume, n_bins, min_mass, max_mass,\n",
    "                  n_boots=1000, sm_err=None, resample_err=False):\n",
    "    \"\"\"\n",
    "    Parameters\n",
    "    ----------\n",
    "    log_masses: ndarray\n",
    "        Array of stellar mass values in log10 values\n",
    "\n",
    "    volume : float\n",
    "        volume of data in comoving Mpc^3\n",
    "\n",
    "    n_bins : number of bins\n",
    "\n",
    "    min_mass : min mass\n",
    "\n",
    "    max_mass : max mass\n",
    "\n",
    "    sm_err: ndarray, optional\n",
    "        Array of stellar mass errors\n",
    "\n",
    "\n",
    "    Returns\n",
    "    -------\n",
    "    m_centers : ndarray\n",
    "        mass bin centers (x axis of SMF) in units of log10 M*\n",
    "\n",
    "    log_phi : ndarray in units of dn / dlogM* in units of Mpc^-3 dex^-1\n",
    "\n",
    "    log_err : ndarray\n",
    "        log of Poisson error\n",
    "        \n",
    "    log_boot_err : ndarray\n",
    "        log of Poisson error\n",
    "\n",
    "\n",
    "    \"\"\"\n",
    "\n",
    "    m_centers, phi, err_poisson = compute_smf(log_masses, volume, n_bins, min_mass, max_mass)\n",
    "\n",
    "    if resample_err:\n",
    "        msg = \"Need to provide the error of stellar mass!\"\n",
    "        assert sm_err is not None, msg\n",
    "        sm_boots = np.asarray(map(lambda mass, err: np.random.normal(mass, err, n_boots),\n",
    "                log_masses, sm_err))\n",
    "    else:\n",
    "        mass_boot_samples = bootstrap_resample(log_masses, n_boots=n_boots)\n",
    "\n",
    "    phi_boots = np.vstack(compute_smf(mass_boot_samples[:, ii], volume, n_bins, sm_min, sm_max)[1] \n",
    "                              for ii in range(n_boots))\n",
    "    \n",
    "    #bootstrap error\n",
    "    err_bootstrap=np.nanstd(phi_boots, axis=0)\n",
    "    log_err_bootstrap=np.nanstd(np.log10(phi_boots[phi_boots != 0.0]), axis=0)\n",
    "    \n",
    "    \n",
    "    \n",
    "    return m_centers, phi, err_poisson, err_bootstrap, log_err_bootstrap, phi_boots"
   ]
  },
  {
   "cell_type": "markdown",
   "metadata": {},
   "source": [
    "## get masses\n"
   ]
  },
  {
   "cell_type": "code",
   "execution_count": 32,
   "metadata": {
    "collapsed": true
   },
   "outputs": [],
   "source": [
    "# Illustris\n",
    "f = h5py.File(Illustris_file, 'r')\n",
    "cat_sh_mstars = np.array(f['cat_sh_mstar'])\n",
    "f.close()\n",
    "m_stars_illustris=np.log10(cat_sh_mstars)\n",
    "mean_illustris=round(np.mean(m_stars_illustris),2)\n",
    "median_illustris=round(np.median(m_stars_illustris),2)\n",
    "std_illustris=round(np.std(m_stars_illustris),2)\n",
    "\n",
    "#TNG\n",
    "f = h5py.File(TNG_file, 'r')\n",
    "cat_sh_mstars = np.array(f['cat_sh_mstar'])\n",
    "f.close()\n",
    "m_stars_tng=np.log10(cat_sh_mstars)\n",
    "mean_tng=round(np.mean(m_stars_tng),2)\n",
    "median_tng=round(np.median(m_stars_tng),2)\n",
    "std_tng=round(np.std(m_stars_tng),2)\n"
   ]
  },
  {
   "cell_type": "code",
   "execution_count": 33,
   "metadata": {},
   "outputs": [
    {
     "name": "stdout",
     "output_type": "stream",
     "text": [
      "12.4148511258 11.2015086567 339\n",
      "12.4499482946 11.2016944807 235\n"
     ]
    }
   ],
   "source": [
    "print max(m_stars_illustris), min(m_stars_illustris), len(m_stars_illustris)\n",
    "print max(m_stars_tng), min(m_stars_tng), len(m_stars_tng)"
   ]
  },
  {
   "cell_type": "markdown",
   "metadata": {},
   "source": [
    "## other parameters\n"
   ]
  },
  {
   "cell_type": "code",
   "execution_count": 49,
   "metadata": {
    "collapsed": true
   },
   "outputs": [],
   "source": [
    "volume_illustris=106.5**3 #Mpc^3\n",
    "n_bins= 12\n",
    "sm_min=11.2\n",
    "sm_max=12.4"
   ]
  },
  {
   "cell_type": "markdown",
   "metadata": {},
   "source": [
    "## SMFs"
   ]
  },
  {
   "cell_type": "code",
   "execution_count": 50,
   "metadata": {},
   "outputs": [
    {
     "name": "stderr",
     "output_type": "stream",
     "text": [
      "/Users/fardila/anaconda/envs/hsc_hydro/lib/python2.7/site-packages/ipykernel/__main__.py:32: RuntimeWarning: divide by zero encountered in log10\n"
     ]
    }
   ],
   "source": [
    "m_illustris, smf_illustris, err_illustris = compute_smf(m_stars_illustris, volume_illustris,n_bins, sm_min, sm_max)\n",
    "m_tng, smf_tng, err_tng = compute_smf(m_stars_tng, volume_illustris,n_bins, sm_min, sm_max)"
   ]
  },
  {
   "cell_type": "markdown",
   "metadata": {},
   "source": [
    "## PLOTS\n"
   ]
  },
  {
   "cell_type": "code",
   "execution_count": 51,
   "metadata": {},
   "outputs": [
    {
     "name": "stderr",
     "output_type": "stream",
     "text": [
      "/Users/fardila/anaconda/envs/hsc_hydro/lib/python2.7/site-packages/ipykernel/__main__.py:2: RuntimeWarning: divide by zero encountered in log10\n",
      "  from ipykernel import kernelapp as app\n",
      "/Users/fardila/anaconda/envs/hsc_hydro/lib/python2.7/site-packages/ipykernel/__main__.py:5: RuntimeWarning: divide by zero encountered in log10\n"
     ]
    },
    {
     "data": {
      "image/png": "[encoded data removed]",
      "text/plain": [
       "<matplotlib.figure.Figure at 0x112c68e90>"
      ]
     },
     "metadata": {},
     "output_type": "display_data"
    }
   ],
   "source": [
    "plt.plot(m_illustris,np.log10(smf_illustris), linewidth=3, label='Illustris')\n",
    "plt.plot(m_tng,np.log10(smf_tng), linewidth=3, label='TNG')\n",
    "\n",
    "plt.fill_between(m_illustris,np.log10(smf_illustris+10*err_illustris), np.log10(smf_illustris-10*err_illustris)) #Poisson error smaller than line\n",
    "plt.fill_between(m_tng,np.log10(smf_tng+10*err_tng), np.log10(smf_tng-10*err_tng)) #Poisson error smaller than line\n",
    "\n",
    "plt.xlabel(r'$\\log{M_*}$', fontsize=20)\n",
    "plt.ylabel(r'$dn / d\\log{M_*}[Mpc^{-3} dex^{-1}]$', fontsize=20)\n",
    "plt.legend()\n",
    "plt.show()"
   ]
  }
 ],
 "metadata": {
  "kernelspec": {
   "display_name": "Python [conda env:hsc_hydro]",
   "language": "python",
   "name": "conda-env-hsc_hydro-py"
  },
  "language_info": {
   "codemirror_mode": {
    "name": "ipython",
    "version": 2
   },
   "file_extension": ".py",
   "mimetype": "text/x-python",
   "name": "python",
   "nbconvert_exporter": "python",
   "pygments_lexer": "ipython2",
   "version": "2.7.14"
  }
 },
 "nbformat": 4,
 "nbformat_minor": 2
}
