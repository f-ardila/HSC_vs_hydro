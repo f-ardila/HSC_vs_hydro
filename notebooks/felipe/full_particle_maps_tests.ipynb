{
 "cells": [
  {
   "cell_type": "markdown",
   "metadata": {},
   "source": [
    "```\n",
    "Group IDs:\n",
    "[ 29 284 132 269  73 154  86 211 201  94  67 160 260 199   5 163 147   7\n",
    " 384   2  37  74  31 198 178  17  77 222 164  80 221  57 189  96 327 100\n",
    " 220  11 128 273 424 360 122  79 194  70 149 412  55 334 104 153 546 140\n",
    " 459  66 114  28 170 159  63  52 123  84  36 204 380  38 197 351  15  22\n",
    " 243  54 145  82 113 332  69 193  95 331  44 363 339 150 195  46  48  56\n",
    " 214]\n",
    "Galaxy IDs:\n",
    "[100649 260124 198113 255864 156715 210108 167560 235371 231020 173944\n",
    " 151743 213185 253080 230192  31188 214555 206437  39950 285062  15157\n",
    " 113853 157470 104262 229864 222023  72753 160259 239403 214899 162599\n",
    " 239005 141140 226510 175395 271683 178301 238753  55214 195844 256988\n",
    " 292937 279868 192299 161761 228456 154001 207512 290424 138546 273409\n",
    " 180944 209644 313366 202537 299278 150661 187313  98455 217914 212615\n",
    " 147695 134794 192858 165847 112383 232289 284252 115308 229497 277822\n",
    "  67538  85932 247466 137374 205383 164234 186722 272884 153404 227973\n",
    " 174852 272665 123770 280518 274669 208084 228851 126831 129843 139979\n",
    " 236462]\n",
    " ```"
   ]
  },
  {
   "cell_type": "markdown",
   "metadata": {},
   "source": [
    "Note the unit conversion: the coordinates in the new particle files are in comoving (!) kpc/h, not physical kpc. The center of each particle cube is the center of the galaxy in question (SubhaloPos), they go out to 2 R200c."
   ]
  },
  {
   "cell_type": "code",
   "execution_count": 2,
   "metadata": {},
   "outputs": [],
   "source": [
    "import numpy as np\n",
    "import matplotlib.pyplot as plt\n",
    "import h5py\n"
   ]
  },
  {
   "cell_type": "code",
   "execution_count": 65,
   "metadata": {},
   "outputs": [],
   "source": [
    "full_particles_file_location = '/Users/fardila/Documents/GitHub/HSC_vs_hydro/Data/TNG/full_particles/boxptl_tng100_072_profiletest.hdf5'\n",
    "\n",
    "f = h5py.File(full_particles_file_location, 'r')\n"
   ]
  },
  {
   "cell_type": "code",
   "execution_count": 8,
   "metadata": {
    "scrolled": true
   },
   "outputs": [
    {
     "data": {
      "text/plain": [
       "[u'config',\n",
       " u'info',\n",
       " u'subbox_000_ptlstr_Coordinates',\n",
       " u'subbox_000_ptlstr_Masses',\n",
       " u'subbox_001_ptlstr_Coordinates',\n",
       " u'subbox_001_ptlstr_Masses',\n",
       " u'subbox_002_ptlstr_Coordinates',\n",
       " u'subbox_002_ptlstr_Masses',\n",
       " u'subbox_003_ptlstr_Coordinates',\n",
       " u'subbox_003_ptlstr_Masses',\n",
       " u'subbox_004_ptlstr_Coordinates',\n",
       " u'subbox_004_ptlstr_Masses',\n",
       " u'subbox_005_ptlstr_Coordinates',\n",
       " u'subbox_005_ptlstr_Masses',\n",
       " u'subbox_006_ptlstr_Coordinates',\n",
       " u'subbox_006_ptlstr_Masses',\n",
       " u'subbox_007_ptlstr_Coordinates',\n",
       " u'subbox_007_ptlstr_Masses',\n",
       " u'subbox_008_ptlstr_Coordinates',\n",
       " u'subbox_008_ptlstr_Masses',\n",
       " u'subbox_009_ptlstr_Coordinates',\n",
       " u'subbox_009_ptlstr_Masses',\n",
       " u'subbox_010_ptlstr_Coordinates',\n",
       " u'subbox_010_ptlstr_Masses',\n",
       " u'subbox_011_ptlstr_Coordinates',\n",
       " u'subbox_011_ptlstr_Masses',\n",
       " u'subbox_012_ptlstr_Coordinates',\n",
       " u'subbox_012_ptlstr_Masses',\n",
       " u'subbox_013_ptlstr_Coordinates',\n",
       " u'subbox_013_ptlstr_Masses',\n",
       " u'subbox_014_ptlstr_Coordinates',\n",
       " u'subbox_014_ptlstr_Masses',\n",
       " u'subbox_015_ptlstr_Coordinates',\n",
       " u'subbox_015_ptlstr_Masses',\n",
       " u'subbox_016_ptlstr_Coordinates',\n",
       " u'subbox_016_ptlstr_Masses',\n",
       " u'subbox_017_ptlstr_Coordinates',\n",
       " u'subbox_017_ptlstr_Masses',\n",
       " u'subbox_018_ptlstr_Coordinates',\n",
       " u'subbox_018_ptlstr_Masses',\n",
       " u'subbox_019_ptlstr_Coordinates',\n",
       " u'subbox_019_ptlstr_Masses',\n",
       " u'subbox_020_ptlstr_Coordinates',\n",
       " u'subbox_020_ptlstr_Masses',\n",
       " u'subbox_021_ptlstr_Coordinates',\n",
       " u'subbox_021_ptlstr_Masses',\n",
       " u'subbox_022_ptlstr_Coordinates',\n",
       " u'subbox_022_ptlstr_Masses',\n",
       " u'subbox_023_ptlstr_Coordinates',\n",
       " u'subbox_023_ptlstr_Masses',\n",
       " u'subbox_024_ptlstr_Coordinates',\n",
       " u'subbox_024_ptlstr_Masses',\n",
       " u'subbox_025_ptlstr_Coordinates',\n",
       " u'subbox_025_ptlstr_Masses',\n",
       " u'subbox_026_ptlstr_Coordinates',\n",
       " u'subbox_026_ptlstr_Masses',\n",
       " u'subbox_027_ptlstr_Coordinates',\n",
       " u'subbox_027_ptlstr_Masses',\n",
       " u'subbox_028_ptlstr_Coordinates',\n",
       " u'subbox_028_ptlstr_Masses',\n",
       " u'subbox_029_ptlstr_Coordinates',\n",
       " u'subbox_029_ptlstr_Masses',\n",
       " u'subbox_030_ptlstr_Coordinates',\n",
       " u'subbox_030_ptlstr_Masses',\n",
       " u'subbox_031_ptlstr_Coordinates',\n",
       " u'subbox_031_ptlstr_Masses',\n",
       " u'subbox_032_ptlstr_Coordinates',\n",
       " u'subbox_032_ptlstr_Masses',\n",
       " u'subbox_033_ptlstr_Coordinates',\n",
       " u'subbox_033_ptlstr_Masses',\n",
       " u'subbox_034_ptlstr_Coordinates',\n",
       " u'subbox_034_ptlstr_Masses',\n",
       " u'subbox_035_ptlstr_Coordinates',\n",
       " u'subbox_035_ptlstr_Masses',\n",
       " u'subbox_036_ptlstr_Coordinates',\n",
       " u'subbox_036_ptlstr_Masses',\n",
       " u'subbox_037_ptlstr_Coordinates',\n",
       " u'subbox_037_ptlstr_Masses',\n",
       " u'subbox_038_ptlstr_Coordinates',\n",
       " u'subbox_038_ptlstr_Masses',\n",
       " u'subbox_039_ptlstr_Coordinates',\n",
       " u'subbox_039_ptlstr_Masses',\n",
       " u'subbox_040_ptlstr_Coordinates',\n",
       " u'subbox_040_ptlstr_Masses',\n",
       " u'subbox_041_ptlstr_Coordinates',\n",
       " u'subbox_041_ptlstr_Masses',\n",
       " u'subbox_042_ptlstr_Coordinates',\n",
       " u'subbox_042_ptlstr_Masses',\n",
       " u'subbox_043_ptlstr_Coordinates',\n",
       " u'subbox_043_ptlstr_Masses',\n",
       " u'subbox_044_ptlstr_Coordinates',\n",
       " u'subbox_044_ptlstr_Masses',\n",
       " u'subbox_045_ptlstr_Coordinates',\n",
       " u'subbox_045_ptlstr_Masses',\n",
       " u'subbox_046_ptlstr_Coordinates',\n",
       " u'subbox_046_ptlstr_Masses',\n",
       " u'subbox_047_ptlstr_Coordinates',\n",
       " u'subbox_047_ptlstr_Masses',\n",
       " u'subbox_048_ptlstr_Coordinates',\n",
       " u'subbox_048_ptlstr_Masses',\n",
       " u'subbox_049_ptlstr_Coordinates',\n",
       " u'subbox_049_ptlstr_Masses',\n",
       " u'subbox_050_ptlstr_Coordinates',\n",
       " u'subbox_050_ptlstr_Masses',\n",
       " u'subbox_051_ptlstr_Coordinates',\n",
       " u'subbox_051_ptlstr_Masses',\n",
       " u'subbox_052_ptlstr_Coordinates',\n",
       " u'subbox_052_ptlstr_Masses',\n",
       " u'subbox_053_ptlstr_Coordinates',\n",
       " u'subbox_053_ptlstr_Masses',\n",
       " u'subbox_054_ptlstr_Coordinates',\n",
       " u'subbox_054_ptlstr_Masses',\n",
       " u'subbox_055_ptlstr_Coordinates',\n",
       " u'subbox_055_ptlstr_Masses',\n",
       " u'subbox_056_ptlstr_Coordinates',\n",
       " u'subbox_056_ptlstr_Masses',\n",
       " u'subbox_057_ptlstr_Coordinates',\n",
       " u'subbox_057_ptlstr_Masses',\n",
       " u'subbox_058_ptlstr_Coordinates',\n",
       " u'subbox_058_ptlstr_Masses',\n",
       " u'subbox_059_ptlstr_Coordinates',\n",
       " u'subbox_059_ptlstr_Masses',\n",
       " u'subbox_060_ptlstr_Coordinates',\n",
       " u'subbox_060_ptlstr_Masses',\n",
       " u'subbox_061_ptlstr_Coordinates',\n",
       " u'subbox_061_ptlstr_Masses',\n",
       " u'subbox_062_ptlstr_Coordinates',\n",
       " u'subbox_062_ptlstr_Masses',\n",
       " u'subbox_063_ptlstr_Coordinates',\n",
       " u'subbox_063_ptlstr_Masses',\n",
       " u'subbox_064_ptlstr_Coordinates',\n",
       " u'subbox_064_ptlstr_Masses',\n",
       " u'subbox_065_ptlstr_Coordinates',\n",
       " u'subbox_065_ptlstr_Masses',\n",
       " u'subbox_066_ptlstr_Coordinates',\n",
       " u'subbox_066_ptlstr_Masses',\n",
       " u'subbox_067_ptlstr_Coordinates',\n",
       " u'subbox_067_ptlstr_Masses',\n",
       " u'subbox_068_ptlstr_Coordinates',\n",
       " u'subbox_068_ptlstr_Masses',\n",
       " u'subbox_069_ptlstr_Coordinates',\n",
       " u'subbox_069_ptlstr_Masses',\n",
       " u'subbox_070_ptlstr_Coordinates',\n",
       " u'subbox_070_ptlstr_Masses',\n",
       " u'subbox_071_ptlstr_Coordinates',\n",
       " u'subbox_071_ptlstr_Masses',\n",
       " u'subbox_072_ptlstr_Coordinates',\n",
       " u'subbox_072_ptlstr_Masses',\n",
       " u'subbox_073_ptlstr_Coordinates',\n",
       " u'subbox_073_ptlstr_Masses',\n",
       " u'subbox_074_ptlstr_Coordinates',\n",
       " u'subbox_074_ptlstr_Masses',\n",
       " u'subbox_075_ptlstr_Coordinates',\n",
       " u'subbox_075_ptlstr_Masses',\n",
       " u'subbox_076_ptlstr_Coordinates',\n",
       " u'subbox_076_ptlstr_Masses',\n",
       " u'subbox_077_ptlstr_Coordinates',\n",
       " u'subbox_077_ptlstr_Masses',\n",
       " u'subbox_078_ptlstr_Coordinates',\n",
       " u'subbox_078_ptlstr_Masses',\n",
       " u'subbox_079_ptlstr_Coordinates',\n",
       " u'subbox_079_ptlstr_Masses',\n",
       " u'subbox_080_ptlstr_Coordinates',\n",
       " u'subbox_080_ptlstr_Masses',\n",
       " u'subbox_081_ptlstr_Coordinates',\n",
       " u'subbox_081_ptlstr_Masses',\n",
       " u'subbox_082_ptlstr_Coordinates',\n",
       " u'subbox_082_ptlstr_Masses',\n",
       " u'subbox_083_ptlstr_Coordinates',\n",
       " u'subbox_083_ptlstr_Masses',\n",
       " u'subbox_084_ptlstr_Coordinates',\n",
       " u'subbox_084_ptlstr_Masses',\n",
       " u'subbox_085_ptlstr_Coordinates',\n",
       " u'subbox_085_ptlstr_Masses',\n",
       " u'subbox_086_ptlstr_Coordinates',\n",
       " u'subbox_086_ptlstr_Masses',\n",
       " u'subbox_087_ptlstr_Coordinates',\n",
       " u'subbox_087_ptlstr_Masses',\n",
       " u'subbox_088_ptlstr_Coordinates',\n",
       " u'subbox_088_ptlstr_Masses',\n",
       " u'subbox_089_ptlstr_Coordinates',\n",
       " u'subbox_089_ptlstr_Masses',\n",
       " u'subbox_090_ptlstr_Coordinates',\n",
       " u'subbox_090_ptlstr_Masses']"
      ]
     },
     "execution_count": 8,
     "metadata": {},
     "output_type": "execute_result"
    }
   ],
   "source": [
    "f.keys()"
   ]
  },
  {
   "cell_type": "code",
   "execution_count": 68,
   "metadata": {},
   "outputs": [],
   "source": [
    "z_tng = 0.4\n",
    "h_tng = 0.704"
   ]
  },
  {
   "cell_type": "code",
   "execution_count": 74,
   "metadata": {},
   "outputs": [],
   "source": [
    "particle_positions = np.array(f['subbox_000_ptlstr_Coordinates'])\n",
    "particle_masses = np.array(f['subbox_000_ptlstr_Masses'])\n",
    "\n",
    "particle_positions = particle_positions / float(h_tng*(1+z_tng)) #convert from comoving h-inverse to physical real-h"
   ]
  },
  {
   "cell_type": "code",
   "execution_count": 70,
   "metadata": {},
   "outputs": [
    {
     "data": {
      "text/plain": [
       "(1466448, 3)"
      ]
     },
     "execution_count": 70,
     "metadata": {},
     "output_type": "execute_result"
    }
   ],
   "source": [
    "particle_positions.shape"
   ]
  },
  {
   "cell_type": "code",
   "execution_count": 75,
   "metadata": {},
   "outputs": [
    {
     "data": {
      "image/png": "[encoded data removed]",
      "text/plain": [
       "<Figure size 432x288 with 1 Axes>"
      ]
     },
     "metadata": {
      "needs_background": "light"
     },
     "output_type": "display_data"
    }
   ],
   "source": [
    "plt.hexbin(particle_positions[:,0], particle_positions[:,1], gridsize=1000, bins = 'log', mincnt=1)\n",
    "plt.show()"
   ]
  },
  {
   "cell_type": "code",
   "execution_count": 76,
   "metadata": {},
   "outputs": [
    {
     "data": {
      "image/png": "[encoded data removed]",
      "text/plain": [
       "<Figure size 432x288 with 1 Axes>"
      ]
     },
     "metadata": {
      "needs_background": "light"
     },
     "output_type": "display_data"
    }
   ],
   "source": [
    "import matplotlib.colors as mcolors\n",
    "hist, _, _, _ = plt.hist2d(particle_positions[:,0], particle_positions[:,1], weights = particle_masses, bins=1000,norm=mcolors.LogNorm())\n",
    "plt.show()"
   ]
  },
  {
   "cell_type": "code",
   "execution_count": 77,
   "metadata": {},
   "outputs": [
    {
     "data": {
      "text/plain": [
       "(1000, 1000)"
      ]
     },
     "execution_count": 77,
     "metadata": {},
     "output_type": "execute_result"
    }
   ],
   "source": [
    "hist.shape"
   ]
  },
  {
   "cell_type": "code",
   "execution_count": null,
   "metadata": {},
   "outputs": [],
   "source": []
  },
  {
   "cell_type": "code",
   "execution_count": 78,
   "metadata": {},
   "outputs": [
    {
     "data": {
      "text/plain": [
       "<matplotlib.image.AxesImage at 0x7fa3e9425810>"
      ]
     },
     "execution_count": 78,
     "metadata": {},
     "output_type": "execute_result"
    },
    {
     "data": {
      "image/png": "[encoded data removed]",
      "text/plain": [
       "<Figure size 432x288 with 1 Axes>"
      ]
     },
     "metadata": {
      "needs_background": "light"
     },
     "output_type": "display_data"
    }
   ],
   "source": [
    "plt.imshow(hist)"
   ]
  },
  {
   "cell_type": "code",
   "execution_count": 63,
   "metadata": {},
   "outputs": [
    {
     "data": {
      "text/plain": [
       "1466448.0"
      ]
     },
     "execution_count": 63,
     "metadata": {},
     "output_type": "execute_result"
    }
   ],
   "source": [
    "np.sum(hist)"
   ]
  },
  {
   "cell_type": "markdown",
   "metadata": {},
   "source": [
    "# FOF particles"
   ]
  },
  {
   "cell_type": "code",
   "execution_count": 52,
   "metadata": {},
   "outputs": [],
   "source": [
    "FOF_particles_file_location = '/Users/fardila/Documents/GitHub/HSC_vs_hydro/Data/TNG/galaxies_stellarmaps_tng75_11.2.hdf5'\n",
    "f = h5py.File(FOF_particles_file_location, 'r')\n"
   ]
  },
  {
   "cell_type": "code",
   "execution_count": 53,
   "metadata": {},
   "outputs": [
    {
     "data": {
      "text/plain": [
       "[u'catgrp_GroupNsubs',\n",
       " u'catgrp_Group_M_Crit200',\n",
       " u'catgrp_id',\n",
       " u'catgrp_is_primary',\n",
       " u'catsh_SubhaloBHMdot',\n",
       " u'catsh_SubhaloCM',\n",
       " u'catsh_SubhaloGasMetallicity',\n",
       " u'catsh_SubhaloGrNr',\n",
       " u'catsh_SubhaloHalfmassRadType',\n",
       " u'catsh_SubhaloMassInHalfRadType',\n",
       " u'catsh_SubhaloMassInRadType',\n",
       " u'catsh_SubhaloMassType',\n",
       " u'catsh_SubhaloPos',\n",
       " u'catsh_SubhaloSFR',\n",
       " u'catsh_SubhaloSpin',\n",
       " u'catsh_SubhaloStellarPhotometrics',\n",
       " u'catsh_SubhaloVel',\n",
       " u'catsh_SubhaloVmax',\n",
       " u'catsh_id',\n",
       " u'config',\n",
       " u'map_r_max',\n",
       " u'map_star_rho_exsitu_nptl',\n",
       " u'map_star_rho_exsitu_xy',\n",
       " u'map_star_rho_exsitu_xz',\n",
       " u'map_star_rho_exsitu_yz',\n",
       " u'map_star_rho_fuzz_exsitu_nptl',\n",
       " u'map_star_rho_fuzz_exsitu_xy',\n",
       " u'map_star_rho_fuzz_exsitu_xz',\n",
       " u'map_star_rho_fuzz_exsitu_yz',\n",
       " u'map_star_rho_fuzz_insitu_nptl',\n",
       " u'map_star_rho_fuzz_insitu_xy',\n",
       " u'map_star_rho_fuzz_insitu_xz',\n",
       " u'map_star_rho_fuzz_insitu_yz',\n",
       " u'map_star_rho_insitu_nptl',\n",
       " u'map_star_rho_insitu_xy',\n",
       " u'map_star_rho_insitu_xz',\n",
       " u'map_star_rho_insitu_yz',\n",
       " u'map_star_rho_oshs_exsitu_nptl',\n",
       " u'map_star_rho_oshs_exsitu_xy',\n",
       " u'map_star_rho_oshs_exsitu_xz',\n",
       " u'map_star_rho_oshs_exsitu_yz',\n",
       " u'map_star_rho_oshs_insitu_nptl',\n",
       " u'map_star_rho_oshs_insitu_xy',\n",
       " u'map_star_rho_oshs_insitu_xz',\n",
       " u'map_star_rho_oshs_insitu_yz',\n",
       " u'map_z_max',\n",
       " u'scalar_stellar_mass']"
      ]
     },
     "execution_count": 53,
     "metadata": {},
     "output_type": "execute_result"
    }
   ],
   "source": [
    "f.keys()"
   ]
  },
  {
   "cell_type": "code",
   "execution_count": 55,
   "metadata": {},
   "outputs": [
    {
     "name": "stdout",
     "output_type": "stream",
     "text": [
      "\n",
      "\n",
      "      +------------------------------------------------------------+\n",
      "      |       Space Telescope Science Data Analysis System         |\n",
      "      |                   STSDAS Version 3.18.3                    |\n",
      "      |                                                            |\n",
      "      |   Space Telescope Science Institute, Baltimore, Maryland   |\n",
      "      |   Copyright (C) 2014 Association of Universities for       |\n",
      "      |            Research in Astronomy, Inc.(AURA)               |\n",
      "      |       See stsdas$copyright.stsdas for terms of use.        |\n",
      "      |         For help, send e-mail to help@stsci.edu            |\n",
      "      |                                                            |\n",
      "      +------------------------------------------------------------+\n",
      "stsdas/:\n",
      " analysis/      examples        hst_calib/      sobsolete/\n",
      " contrib/       fitsio/         playpen/        toolbox/\n",
      " describe       graphics/       problems\n",
      "isophote/:\n",
      " bmodel         geompar@        isomap          magpar@\n",
      " controlpar@    isoexam         isopall         samplepar@\n",
      " ellipse        isoimap         isoplot\n"
     ]
    }
   ],
   "source": [
    "import sys\n",
    "sys.path.append('/Users/fardila/Documents/GitHub/HSC_vs_hydro/')\n",
    "from functions import *"
   ]
  },
  {
   "cell_type": "code",
   "execution_count": 57,
   "metadata": {},
   "outputs": [],
   "source": [
    "img_cen, img_cen_sat, img_cen_icl, pixel_scale, m_cat = get_mass_maps(FOF_particles_file_location, gal_n=0)"
   ]
  },
  {
   "cell_type": "code",
   "execution_count": 59,
   "metadata": {},
   "outputs": [
    {
     "data": {
      "text/plain": [
       "<matplotlib.image.AxesImage at 0x7fa3c88dfa10>"
      ]
     },
     "execution_count": 59,
     "metadata": {},
     "output_type": "execute_result"
    },
    {
     "data": {
      "image/png": "[encoded data removed]",
      "text/plain": [
       "<Figure size 432x288 with 1 Axes>"
      ]
     },
     "metadata": {
      "needs_background": "light"
     },
     "output_type": "display_data"
    }
   ],
   "source": [
    "plt.imshow(img_cen_icl)"
   ]
  },
  {
   "cell_type": "code",
   "execution_count": 60,
   "metadata": {},
   "outputs": [
    {
     "data": {
      "text/plain": [
       "(300, 300)"
      ]
     },
     "execution_count": 60,
     "metadata": {},
     "output_type": "execute_result"
    }
   ],
   "source": [
    "img_cen.shape"
   ]
  },
  {
   "cell_type": "code",
   "execution_count": null,
   "metadata": {},
   "outputs": [],
   "source": []
  }
 ],
 "metadata": {
  "kernelspec": {
   "display_name": "Python [hsc_hydro]",
   "language": "python",
   "name": "hsc_hydro"
  },
  "language_info": {
   "codemirror_mode": {
    "name": "ipython",
    "version": 2
   },
   "file_extension": ".py",
   "mimetype": "text/x-python",
   "name": "python",
   "nbconvert_exporter": "python",
   "pygments_lexer": "ipython2",
   "version": "2.7.15"
  }
 },
 "nbformat": 4,
 "nbformat_minor": 2
}
