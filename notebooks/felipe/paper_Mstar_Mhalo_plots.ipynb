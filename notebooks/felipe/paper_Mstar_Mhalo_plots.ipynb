{
 "cells": [
  {
   "cell_type": "code",
   "execution_count": 1,
   "metadata": {},
   "outputs": [],
   "source": [
    "import numpy as np\n",
    "import h5py\n",
    "from scipy.interpolate import interp1d\n",
    "import matplotlib.pyplot as plt\n",
    "import matplotlib.lines as mlines\n",
    "from matplotlib import gridspec\n",
    "from matplotlib.colors import colorConverter\n",
    "plt.rc('text', usetex=True)\n",
    "\n",
    "import seaborn as sns\n",
    "\n",
    "import glob\n",
    "import os\n",
    "import pickle\n",
    "import sys\n",
    "\n",
    "from astropy.table import Table\n"
   ]
  },
  {
   "cell_type": "code",
   "execution_count": 2,
   "metadata": {},
   "outputs": [
    {
     "data": {
      "text/plain": [
       "<colossus.cosmology.cosmology.Cosmology at 0x1a22732450>"
      ]
     },
     "execution_count": 2,
     "metadata": {},
     "output_type": "execute_result"
    }
   ],
   "source": [
    "from colossus.halo import mass_adv\n",
    "from colossus.cosmology import cosmology\n",
    "cosmology.setCosmology('planck18')"
   ]
  },
  {
   "cell_type": "code",
   "execution_count": 3,
   "metadata": {},
   "outputs": [],
   "source": [
    "def open_pkl(file_name):\n",
    "    pkl = open(file_name,'rb')\n",
    "    array = pickle.load(pkl)#, encoding='latin')\n",
    "    pkl.close()  \n",
    "    return array"
   ]
  },
  {
   "cell_type": "code",
   "execution_count": 27,
   "metadata": {},
   "outputs": [],
   "source": [
    "def get_median(bins, x, y):\n",
    "    \n",
    "    x_y =np.vstack([x,y])\n",
    "    \n",
    "    bins_y=[]\n",
    "    bins_x=[]\n",
    "    \n",
    "    err_y=[]\n",
    "    err_x=[]\n",
    "    \n",
    "    for i in range(len(bins)-1):\n",
    "        l=bins[i]\n",
    "        u=bins[i+1]\n",
    "        \n",
    "        mask = [(x_y[0]>l) & (x_y[0]<u)]\n",
    "\n",
    "        y_in_range = x_y[1][mask]\n",
    "        x_in_range = x_y[0][mask]\n",
    "        \n",
    "#         print(len(y_in_range))\n",
    "        \n",
    "        bins_y.append(np.median(y_in_range))\n",
    "        bins_x.append(np.median(x_in_range))\n",
    "        \n",
    "#         err_y.append(np.std(y_in_range)/np.sqrt(len(y_in_range)))\n",
    "#         err_x.append(np.std(x_in_range)/np.sqrt(len(x_in_range)))\n",
    "        \n",
    "        err_y.append(np.log10(np.std(10**y_in_range)/np.sqrt(len(y_in_range))))\n",
    "        err_x.append(np.log10(np.std(10**x_in_range)/np.sqrt(len(x_in_range))))\n",
    "        \n",
    "        \n",
    "    bins_y, bins_x, err_y, err_x =  np.array(bins_y), np.array(bins_x), np.array(err_y), np.array(err_x)\n",
    "    \n",
    "    upper_err_y= np.log10(10**bins_y + 10**err_y) - bins_y\n",
    "    lower_err_y= bins_y - np.log10(10**bins_y - 10**err_y)\n",
    "    upper_err_x= np.log10(10**bins_x + 10**err_x) - bins_x\n",
    "    lower_err_x= bins_x - np.log10(10**bins_x - 10**err_x)\n",
    "    \n",
    "    err_x = [lower_err_x, upper_err_x]\n",
    "    err_y = [lower_err_y, upper_err_y]\n",
    "        \n",
    "    return bins_x, bins_y, err_x, err_y\n",
    "               "
   ]
  },
  {
   "cell_type": "code",
   "execution_count": 24,
   "metadata": {},
   "outputs": [],
   "source": [
    "def make_Mstar_Mhalo_plot(HSC_data, mass_radius, Illustris_data=None, TNG_data=None, output_filename=None):\n",
    "    \n",
    "    mass_bins = np.linspace(13.0,14.25,4)\n",
    "    \n",
    "    fig = plt.figure(figsize=[10,10])\n",
    "\n",
    "    #hsc\n",
    "    hsc_mvir = np.array(HSC_data['m_vir'])\n",
    "    \n",
    "    if mass_radius == 'outer':\n",
    "        hsc_mstar = np.array(np.log10(10**HSC_data['m_100']-10**HSC_data['m_30']))\n",
    "        hsc_mvir = hsc_mvir[~np.isinf(hsc_mstar)]\n",
    "        hsc_mstar = hsc_mstar[~np.isinf(hsc_mstar)]\n",
    "        \n",
    "    else:\n",
    "        hsc_mstar = np.array(HSC_data['m_{0}'.format(mass_radius)])\n",
    "\n",
    "    sns.kdeplot(hsc_mvir, hsc_mstar, cmap=\"Greys\", shade=True, shade_lowest=False, legend=False,  n_levels=7,\n",
    "                zorder =1, colors=None)\n",
    "    contours_ax = sns.kdeplot(hsc_mvir, hsc_mstar, color='grey', cmap=None, shade_lowest=False,\n",
    "                              n_levels=7, linewidths=1)\n",
    "    \n",
    "    #only show scatter points outside the contours: https://stackoverflow.com/questions/19311957/plot-contours-for-the-densest-region-of-a-scatter-plot\n",
    "    inside = np.full_like(hsc_mvir,False,dtype=bool)\n",
    "    for level in contours_ax.collections[1].get_paths():\n",
    "        inside |= level.contains_points(zip(*(hsc_mvir, hsc_mstar)))\n",
    "    plt.scatter(hsc_mvir[~inside], hsc_mstar[~inside], marker='o', color='k',\n",
    "                s=1, linewidth=0, alpha=0.5, zorder=0)\n",
    "    ############\n",
    "\n",
    "    bins_x_hsc, bins_y_hsc, err_x_hsc, err_y_hsc = get_median(mass_bins, hsc_mvir, hsc_mstar)\n",
    "#     plt.plot(bins_x_hsc, bins_y_hsc, markersize=20, color=colorConverter.to_rgba('k', alpha=.4),\n",
    "#              linewidth=5, marker='s', zorder=5, markeredgecolor=colorConverter.to_rgba('k', alpha=1), \n",
    "#              markeredgewidth=3, label='HSC') #medians\n",
    "    plt.errorbar(bins_x_hsc, bins_y_hsc, err_x_hsc, err_y_hsc, markersize=25,\n",
    "                 color=colorConverter.to_rgba('k', alpha=0.5),\n",
    "                 linewidth=5, marker='.', zorder=6, markerfacecolor =colorConverter.to_rgba('k', alpha=1),\n",
    "                     markeredgecolor =colorConverter.to_rgba('k', alpha=1), \n",
    "                     ecolor=colorConverter.to_rgba('k', alpha=1), label='HSC')\n",
    "    \n",
    "    if Illustris_data:\n",
    "        illustris_mvir = np.array(Illustris_data['m_vir'])\n",
    "        if mass_radius == 'outer':\n",
    "            illustris_mstar = np.array(np.log10(10**Illustris_data['m_1d_100']-10**Illustris_data['m_1d_30']))\n",
    "        else:\n",
    "            illustris_mstar = np.array(Illustris_data['m_1d_{0}'.format(mass_radius)])\n",
    "        plt.scatter(illustris_mvir, illustris_mstar, color=u'#d62728', s=30, linewidth=0, alpha=0.5,\n",
    "                    zorder=5)\n",
    "        bins_x_illustris, bins_y_illustris, err_x_illustris, err_y_illustris = get_median(mass_bins,\n",
    "                                                                                          illustris_mvir,\n",
    "                                                                                          illustris_mstar)\n",
    "#         plt.plot(bins_x_illustris, bins_y_illustris, markersize=20,\n",
    "#                  color=colorConverter.to_rgba(u'#d62728', alpha=.5), linewidth=5, marker='s', zorder=6,\n",
    "#                  markeredgecolor=colorConverter.to_rgba(u'#d62728', alpha=1), markeredgewidth=3,\n",
    "#                  label='Illustris')#medians\n",
    "        \n",
    "        plt.errorbar(bins_x_illustris, bins_y_illustris, err_x_illustris, err_y_illustris, markersize=25,\n",
    "                 color=colorConverter.to_rgba(u'#d62728', alpha=0.75),\n",
    "                 linewidth=5, marker='.', zorder=6, markerfacecolor =colorConverter.to_rgba(u'#d62728', alpha=1),\n",
    "                     markeredgecolor =colorConverter.to_rgba(u'#d62728', alpha=1), \n",
    "                     ecolor=colorConverter.to_rgba(u'#d62728', alpha=1),\n",
    "                 label='Illustris')#medians\n",
    "        \n",
    "    if TNG_data:\n",
    "        tng_mvir = np.array(TNG_data['m_vir'])\n",
    "        if mass_radius == 'outer':\n",
    "            tng_mstar = np.array(np.log10(10**TNG_data['m_1d_100']-10**TNG_data['m_1d_30']))\n",
    "        else:\n",
    "            tng_mstar = np.array(TNG_data['m_1d_{0}'.format(mass_radius)])\n",
    "        plt.scatter(tng_mvir, tng_mstar, color=u'#1f77b4', s=30, linewidth=0, zorder=5, alpha=0.5)\n",
    "        \n",
    "        bins_x_tng, bins_y_tng, err_x_tng, err_y_tng = get_median(mass_bins, tng_mvir, tng_mstar)\n",
    "#         plt.plot(bins_x_tng, bins_y_tng, markersize=20, color=colorConverter.to_rgba(u'#1f77b4', alpha=.5),\n",
    "#                  linewidth=5, marker='s', zorder=6, markeredgecolor=colorConverter.to_rgba('b', alpha=1),\n",
    "#                 label='TNG', markeredgewidth=3)#medians\n",
    "        \n",
    "        plt.errorbar(bins_x_tng, bins_y_tng, err_x_tng, err_y_tng , markersize=25,\n",
    "                     color=colorConverter.to_rgba(u'#1f77b4', alpha=0.75),\n",
    "                 linewidth=5, marker='.', zorder=8, markerfacecolor =colorConverter.to_rgba(u'#1f77b4', alpha=1),\n",
    "                     markeredgecolor =colorConverter.to_rgba(u'#1f77b4', alpha=1), \n",
    "                     ecolor=colorConverter.to_rgba(u'#1f77b4', alpha=1),\n",
    "                label='TNG')#medians\n",
    "\n",
    "    #PONOS\n",
    "    if mass_radius == 'outer':\n",
    "        ponos_v_mass = np.log10(10**ponos_v_masses['m_100'] - 10**ponos_v_masses['m_30'])\n",
    "        ponos_sb_mass = np.log10(10**ponos_sb_masses['m_100'] - 10**ponos_sb_masses['m_30'])\n",
    "    else:\n",
    "        ponos_v_mass = ponos_v_masses['m_{0}'.format(mass_radius)]\n",
    "        ponos_sb_mass = ponos_sb_masses['m_{0}'.format(mass_radius)]\n",
    "        \n",
    "    plt.scatter(ponos_m_vir, ponos_v_mass, c='#2ca02c', label='PonosV', marker='^', s=200, zorder=10)\n",
    "    plt.scatter(ponos_m_vir, ponos_sb_mass, c='#ff7f0e', label='PonosSB', marker='^', s=200, zorder=10)\n",
    "    \n",
    "    #make cut to include M_100>11.5\n",
    "    plt.axvline(13.0, c='grey', linewidth=1, linestyle='--')\n",
    "    if mass_radius == 100:\n",
    "        plt.axhline(11.2, c='grey', linewidth=1, linestyle='--')\n",
    "\n",
    "    plt.xlabel('$\\log (M_{\\mathrm{vir}})$', fontsize=40)\n",
    "    if mass_radius == 'outer':\n",
    "        plt.ylabel(r'$\\log (M_{{\\star,  100  \\mathrm{{kpc}}}} - M_{{\\star,  30  \\mathrm{{kpc}}}})$', fontsize=40)\n",
    "    else:\n",
    "        plt.ylabel(r'$\\log (M_{{\\star,  {0}  \\mathrm{{kpc}}}})$'.format(str(mass_radius)), fontsize=40)\n",
    "\n",
    "    plt.tick_params(axis='both', which='major', labelsize=30)\n",
    "\n",
    "    plt.xlim([12,14.25])\n",
    "    if mass_radius ==10:\n",
    "        plt.ylim([10.7,12.1])\n",
    "    elif mass_radius == 'outer':\n",
    "        plt.ylim([9,12.2])\n",
    "    else:\n",
    "            plt.ylim([11,12.2])\n",
    "\n",
    "    #legend\n",
    "    lgnd = plt.legend(fontsize=30, scatterpoints=1, frameon=False)#, markerscale=2.)#, handler_map={hsc_points: HandlerLine2D(numpoints=3)})\n",
    "    #change the marker size manually for both lines\n",
    "#     lgnd.legendHandles[0]._sizes = [20.]\n",
    "\n",
    "    if output_filename:\n",
    "        fig.savefig('/Users/fardila/Documents/GitHub/HSC_vs_hydro/Plots/{0}'.format(output_filename),\n",
    "                dpi=100, format='pdf', bbox_inches='tight')\n",
    "    else:\n",
    "        fig.savefig('/Users/fardila/Documents/GitHub/HSC_vs_hydro/Plots/Mhalo_vs_M{0}.pdf'.format(str(mass_radius)),\n",
    "                    dpi=100, format='pdf', bbox_inches='tight')\n",
    "\n",
    "\n",
    "\n",
    "    plt.show()\n",
    "    \n",
    "    return"
   ]
  },
  {
   "cell_type": "markdown",
   "metadata": {},
   "source": [
    "# files"
   ]
  },
  {
   "cell_type": "markdown",
   "metadata": {},
   "source": [
    "## simulations"
   ]
  },
  {
   "cell_type": "code",
   "execution_count": 6,
   "metadata": {},
   "outputs": [],
   "source": [
    "illustris_masses_file='/Users/fardila/Documents/GitHub/HSC_vs_hydro/Data/Illustris/Illustris_masses_highres.pkl'\n",
    "tng_masses_file='/Users/fardila/Documents/GitHub/HSC_vs_hydro/Data/TNG/TNG_masses_highres.pkl'\n",
    "illustris_masses = open_pkl(illustris_masses_file)\n",
    "tng_masses = open_pkl(tng_masses_file)\n",
    "\n"
   ]
  },
  {
   "cell_type": "code",
   "execution_count": 7,
   "metadata": {},
   "outputs": [],
   "source": [
    "#ponos\n",
    "ponos_v_masses = {'m_10':11.74676299771465,  'm_30':11.835997387319807, 'm_100':11.88221989150391}\n",
    "ponos_sb_masses = {'m_10':11.94239742523574, 'm_30':12.009701166202616, 'm_100':12.033305728795845}\n",
    "ponos_m_vir = 13.02"
   ]
  },
  {
   "cell_type": "markdown",
   "metadata": {},
   "source": [
    "### HSC"
   ]
  },
  {
   "cell_type": "code",
   "execution_count": 8,
   "metadata": {},
   "outputs": [],
   "source": [
    "hsc_file = '/Users/fardila/Documents/GitHub/HSC_vs_hydro/Data/HSC/s16a_mass_good_mhalo_frac4_180503.fits'\n",
    "hsc_table = Table.read(hsc_file)"
   ]
  },
  {
   "cell_type": "code",
   "execution_count": 9,
   "metadata": {},
   "outputs": [],
   "source": [
    "hsc_m_vir_sr = hsc_table['logmh_vir_symbol']\n",
    "hsc_m_vir_rf = hsc_table['logmh_vir_forest']\n",
    "\n",
    "hsc_m100 = hsc_table['logm_100']\n",
    "hsc_m30 = hsc_table['logm_30']\n",
    "hsc_m10 = hsc_table['logm_10']"
   ]
  },
  {
   "cell_type": "code",
   "execution_count": 10,
   "metadata": {},
   "outputs": [],
   "source": [
    "# HSC_data = {'m_vir':hsc_m_vir_sr[:100], 'm_100':hsc_m100[:10000], 'm_30':hsc_m30[:10000], 'm_10':hsc_m10[:10000]}\n",
    "HSC_data = {'m_vir':hsc_m_vir_sr[:], 'm_100':hsc_m100[:], 'm_30':hsc_m30[:], 'm_10':hsc_m10[:]}"
   ]
  },
  {
   "cell_type": "markdown",
   "metadata": {},
   "source": [
    "# PLOTS "
   ]
  },
  {
   "cell_type": "code",
   "execution_count": null,
   "metadata": {},
   "outputs": [],
   "source": [
    "make_Mstar_Mhalo_plot(HSC_data,  100, Illustris_data = illustris_masses,\n",
    "                     TNG_data = tng_masses)\n",
    "                      "
   ]
  },
  {
   "cell_type": "code",
   "execution_count": null,
   "metadata": {},
   "outputs": [],
   "source": [
    "make_Mstar_Mhalo_plot(HSC_data, 30, Illustris_data = illustris_masses,\n",
    "                     TNG_data = tng_masses)"
   ]
  },
  {
   "cell_type": "code",
   "execution_count": null,
   "metadata": {},
   "outputs": [],
   "source": [
    "make_Mstar_Mhalo_plot(HSC_data,  10, Illustris_data = illustris_masses,\n",
    "                     TNG_data = tng_masses)"
   ]
  },
  {
   "cell_type": "code",
   "execution_count": null,
   "metadata": {},
   "outputs": [],
   "source": [
    "make_Mstar_Mhalo_plot(HSC_data,  'outer', Illustris_data = illustris_masses,\n",
    "                     TNG_data = tng_masses)"
   ]
  },
  {
   "cell_type": "markdown",
   "metadata": {},
   "source": [
    "## Quantifying differences"
   ]
  },
  {
   "cell_type": "code",
   "execution_count": 13,
   "metadata": {},
   "outputs": [
    {
     "name": "stderr",
     "output_type": "stream",
     "text": [
      "/Users/fardila/anaconda/envs/hsc_hydro4/lib/python2.7/site-packages/ipykernel/__main__.py:17: FutureWarning: Using a non-tuple sequence for multidimensional indexing is deprecated; use `arr[tuple(seq)]` instead of `arr[seq]`. In the future this will be interpreted as an array index, `arr[np.array(seq)]`, which will result either in an error or a different result.\n",
      "/Users/fardila/anaconda/envs/hsc_hydro4/lib/python2.7/site-packages/ipykernel/__main__.py:18: FutureWarning: Using a non-tuple sequence for multidimensional indexing is deprecated; use `arr[tuple(seq)]` instead of `arr[seq]`. In the future this will be interpreted as an array index, `arr[np.array(seq)]`, which will result either in an error or a different result.\n"
     ]
    }
   ],
   "source": [
    "mass_bins = np.linspace(13.0,14.25,4)\n",
    "mass_radius = 100\n",
    "\n",
    "\n",
    "#hsc\n",
    "hsc_mvir = np.array(HSC_data['m_vir'])\n",
    "hsc_mstar = np.array(HSC_data['m_{0}'.format(mass_radius)])\n",
    "\n",
    "bins_x_hsc, bins_y_hsc, err_x_hsc, err_y_hsc = get_median(mass_bins, hsc_mvir, hsc_mstar)\n",
    "\n",
    "\n",
    "illustris_mvir = np.array(illustris_masses['m_vir'])\n",
    "illustris_mstar = np.array(illustris_masses['m_1d_{0}'.format(mass_radius)])\n",
    "\n",
    "bins_x_illustris, bins_y_illustris, err_x_illustris, err_y_illustris = get_median(mass_bins,\n",
    "                                                                                  illustris_mvir,\n",
    "                                                                                  illustris_mstar)\n",
    "\n",
    "tng_mvir = np.array(tng_masses['m_vir'])\n",
    "tng_mstar = np.array(tng_masses['m_1d_{0}'.format(mass_radius)])\n",
    "\n",
    "bins_x_tng, bins_y_tng, err_x_tng, err_y_tng = get_median(mass_bins, tng_mvir, tng_mstar)\n"
   ]
  },
  {
   "cell_type": "code",
   "execution_count": 15,
   "metadata": {},
   "outputs": [
    {
     "data": {
      "text/plain": [
       "array([ 9.76563798, 10.68499414, 11.48158592])"
      ]
     },
     "execution_count": 15,
     "metadata": {},
     "output_type": "execute_result"
    }
   ],
   "source": [
    "np.log10(np.abs(10**np.array(bins_y_tng) - 10**np.array(bins_y_hsc)))"
   ]
  },
  {
   "cell_type": "code",
   "execution_count": null,
   "metadata": {},
   "outputs": [],
   "source": []
  },
  {
   "cell_type": "code",
   "execution_count": 55,
   "metadata": {},
   "outputs": [
    {
     "data": {
      "text/plain": [
       "[0.015040110581490941, 0.03125276515408893, 0.047352864200398054]"
      ]
     },
     "execution_count": 55,
     "metadata": {},
     "output_type": "execute_result"
    }
   ],
   "source": [
    "err_y_tng"
   ]
  },
  {
   "cell_type": "code",
   "execution_count": 72,
   "metadata": {},
   "outputs": [
    {
     "data": {
      "text/plain": [
       "array([-0.64157381,  1.59789505,  3.94890857])"
      ]
     },
     "execution_count": 72,
     "metadata": {},
     "output_type": "execute_result"
    }
   ],
   "source": [
    "(np.array(bins_y_tng) - np.array(bins_y_hsc))/np.array(err_y_tng)"
   ]
  },
  {
   "cell_type": "markdown",
   "metadata": {},
   "source": [
    "in each bin the differences are of .6 , 1.6, 3.9 sigma respectively"
   ]
  },
  {
   "cell_type": "code",
   "execution_count": 156,
   "metadata": {},
   "outputs": [
    {
     "data": {
      "text/plain": [
       "0.186559"
      ]
     },
     "execution_count": 156,
     "metadata": {},
     "output_type": "execute_result"
    }
   ],
   "source": [
    "3.94*0.04735"
   ]
  },
  {
   "cell_type": "markdown",
   "metadata": {},
   "source": [
    "## How much larger each of the mass definitions is each bin and over the entire sample"
   ]
  },
  {
   "cell_type": "code",
   "execution_count": 11,
   "metadata": {},
   "outputs": [],
   "source": [
    "#print mass difference tng -HSC, Illustris-HSC"
   ]
  },
  {
   "cell_type": "code",
   "execution_count": 16,
   "metadata": {},
   "outputs": [
    {
     "data": {
      "text/plain": [
       "{'m_10': <Column name='logm_10' dtype='float64' length=25847>\n",
       " 11.163862332962351\n",
       " 10.946734058806104\n",
       " 11.095147161939472\n",
       " 11.145909760982475\n",
       " 11.118007620752199\n",
       " 11.229906944669711\n",
       " 11.192221400333198\n",
       " 11.184906627406898\n",
       " 11.083706384568448\n",
       "  11.06616536894297\n",
       " 11.171122716476605\n",
       " 10.995225366987121\n",
       "                ...\n",
       " 10.971857615064138\n",
       " 11.157890637558404\n",
       " 11.201982048482089\n",
       " 10.821239421916564\n",
       " 11.039271995254351\n",
       "  11.01099758933615\n",
       " 11.242888153998342\n",
       " 11.279984584344612\n",
       "  11.12417288015337\n",
       " 11.387243841617284\n",
       " 11.241684329022846\n",
       " 11.208480596508208,\n",
       " 'm_100': <Column name='logm_100' dtype='float64' length=25847>\n",
       " 11.337584198275914\n",
       " 11.244611564147748\n",
       " 11.229242182060467\n",
       "  11.26360095789552\n",
       " 11.325212324735121\n",
       " 11.541889358537624\n",
       " 11.355919725153107\n",
       " 11.508954882439257\n",
       " 11.277353401905353\n",
       " 11.278834030454098\n",
       " 11.371154570403919\n",
       " 11.286137817117218\n",
       "                ...\n",
       " 11.339974191670098\n",
       " 11.340384730145699\n",
       " 11.406895468424217\n",
       " 11.165916186921704\n",
       " 11.243412253189323\n",
       " 11.283734406737883\n",
       " 11.436994505577001\n",
       " 11.406828987939955\n",
       " 11.258627528173232\n",
       "  11.63062396633493\n",
       "   11.4345383613693\n",
       " 11.410571309557854,\n",
       " 'm_30': <Column name='logm_30' dtype='float64' length=25847>\n",
       " 11.305902221291884\n",
       " 11.199031451841375\n",
       " 11.212371048010144\n",
       "  11.23416590232874\n",
       " 11.301271874244389\n",
       " 11.446214743662793\n",
       " 11.336255224765114\n",
       " 11.458182054930896\n",
       "  11.22378297388588\n",
       " 11.240713668916536\n",
       " 11.313664892738412\n",
       " 11.262167072225893\n",
       "                ...\n",
       " 11.306684549906626\n",
       "  11.29017351953927\n",
       " 11.361245796032746\n",
       " 11.055157733203792\n",
       " 11.226278720704244\n",
       " 11.203736202294241\n",
       " 11.389538640146398\n",
       "  11.36197950134353\n",
       " 11.235331683971484\n",
       " 11.559386243527705\n",
       " 11.376918234270507\n",
       " 11.340523723904905,\n",
       " 'm_vir': <Column name='logmh_vir_symbol' dtype='float64' length=25847>\n",
       " 12.817290160901607\n",
       " 12.954317531444227\n",
       "  12.72393199678935\n",
       " 12.621886786311464\n",
       " 12.885598732217744\n",
       " 13.456654070494412\n",
       " 12.819850370698035\n",
       "  13.39099080637201\n",
       " 12.819795763453593\n",
       " 12.839898189163565\n",
       " 12.980126578990623\n",
       " 12.994280679424573\n",
       "                ...\n",
       "  13.22662815122429\n",
       " 12.880523351603594\n",
       " 13.050918781490736\n",
       " 13.123553627520588\n",
       " 12.771483106868677\n",
       "   12.9810848853402\n",
       " 12.989996014191002\n",
       " 12.884232995797158\n",
       " 12.630791379617966\n",
       " 13.377189154753617\n",
       " 13.139349961159729\n",
       " 13.115663471421325}"
      ]
     },
     "execution_count": 16,
     "metadata": {},
     "output_type": "execute_result"
    }
   ],
   "source": [
    "HSC_data"
   ]
  },
  {
   "cell_type": "code",
   "execution_count": null,
   "metadata": {},
   "outputs": [],
   "source": []
  }
 ],
 "metadata": {
  "kernelspec": {
   "display_name": "Python [default]",
   "language": "python",
   "name": "python2"
  },
  "language_info": {
   "codemirror_mode": {
    "name": "ipython",
    "version": 2
   },
   "file_extension": ".py",
   "mimetype": "text/x-python",
   "name": "python",
   "nbconvert_exporter": "python",
   "pygments_lexer": "ipython2",
   "version": "2.7.15"
  }
 },
 "nbformat": 4,
 "nbformat_minor": 2
}
