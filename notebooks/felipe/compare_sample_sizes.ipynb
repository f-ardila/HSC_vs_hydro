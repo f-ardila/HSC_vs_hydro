{
 "cells": [
  {
   "cell_type": "markdown",
   "metadata": {},
   "source": [
    "query TNG database to quickly get data. based off https://www.tng-project.org/data/docs/api/"
   ]
  },
  {
   "cell_type": "code",
   "execution_count": 2,
   "metadata": {},
   "outputs": [
    {
     "name": "stdout",
     "output_type": "stream",
     "text": [
      "Created TAP+ (v1.0.1) - Connection:\n",
      "\tHost: gea.esac.esa.int\n",
      "\tUse HTTPS: False\n",
      "\tPort: 80\n",
      "\tSSL Port: 443\n",
      "\n",
      "\n",
      "      +------------------------------------------------------------+\n",
      "      |             Space Telescope Tables Package                 |\n",
      "      |                  TABLES Version 3.18.3                     |\n",
      "      |                                                            |\n",
      "      |   Space Telescope Science Institute, Baltimore, Maryland   |\n",
      "      |   Copyright (C) 2014 Association of Universities for       |\n",
      "      |            Research in Astronomy, Inc.(AURA)               |\n",
      "      |       See stsdas$copyright.stsdas for terms of use.        |\n",
      "      |         For help, send e-mail to help@stsci.edu            |\n",
      "      +------------------------------------------------------------+\n",
      "tables/:\n",
      " fitsio/        tbplot/         tobsolete/      ttools/\n",
      "\n",
      "\n",
      "      +------------------------------------------------------------+\n",
      "      |       Space Telescope Science Data Analysis System         |\n",
      "      |                   STSDAS Version 3.18.3                    |\n",
      "      |                                                            |\n",
      "      |   Space Telescope Science Institute, Baltimore, Maryland   |\n",
      "      |   Copyright (C) 2014 Association of Universities for       |\n",
      "      |            Research in Astronomy, Inc.(AURA)               |\n",
      "      |       See stsdas$copyright.stsdas for terms of use.        |\n",
      "      |         For help, send e-mail to help@stsci.edu            |\n",
      "      |                                                            |\n",
      "      +------------------------------------------------------------+\n",
      "stsdas/:\n",
      " analysis/      examples        hst_calib/      sobsolete/\n",
      " contrib/       fitsio/         playpen/        toolbox/\n",
      " describe       graphics/       problems\n",
      "isophote/:\n",
      " bmodel         geompar@        isomap          magpar@\n",
      " controlpar@    isoexam         isopall         samplepar@\n",
      " ellipse        isoimap         isoplot\n"
     ]
    }
   ],
   "source": [
    "import numpy as np\n",
    "import matplotlib.pyplot as plt\n",
    "import matplotlib.colors as mcolors\n",
    "import h5py\n",
    "\n",
    "import sys\n",
    "sys.path.append('/Users/fardila/Documents/GitHub/HSC_vs_hydro/')\n",
    "from functions import *"
   ]
  },
  {
   "cell_type": "code",
   "execution_count": 26,
   "metadata": {},
   "outputs": [],
   "source": [
    "TNG_file_highres = '/Users/fardila/Documents/GitHub/HSC_vs_hydro/Data/TNG/galaxies_stellarmaps_tng75_11.2_highres.hdf5'\n",
    "\n",
    "f = h5py.File(TNG_file_highres, 'r')\n",
    "tng_cat_sh_id = np.array(f['catsh_id'])\n",
    "tng_cat_group_id = np.array(f['catgrp_id'])\n",
    "tng_cat_group_M200c = np.array(f['catgrp_Group_M_Crit200'])\n",
    "f.close()"
   ]
  },
  {
   "cell_type": "code",
   "execution_count": 116,
   "metadata": {},
   "outputs": [],
   "source": [
    "Illustris_file_highres = '/Users/fardila/Documents/GitHub/HSC_vs_hydro/Data/Illustris/galaxies_stellarmaps_orig_11.2_highres.hdf5'\n",
    "\n",
    "f = h5py.File(Illustris_file_highres, 'r')\n",
    "illustris_cat_sh_id = np.array(f['catsh_id'])\n",
    "illustris_cat_group_id = np.array(f['catgrp_id'])\n",
    "illustris_cat_group_M200c = np.array(f['catgrp_Group_M_Crit200'])\n",
    "f.close()"
   ]
  },
  {
   "cell_type": "code",
   "execution_count": 6,
   "metadata": {},
   "outputs": [],
   "source": [
    "from __future__ import division\n",
    "import requests\n",
    "\n",
    "baseUrl = 'http://www.tng-project.org/api/'\n",
    "headers = {\"api-key\":\"e05ffb2ca14084c00423a3cd77f7e268\"}\n",
    "\n",
    "def get(path, params=None):\n",
    "    # make HTTP GET request to path\n",
    "    r = requests.get(path, params=params, headers=headers)\n",
    "\n",
    "    # raise exception if response code is not HTTP SUCCESS (200)\n",
    "    r.raise_for_status()\n",
    "\n",
    "    if r.headers['content-type'] == 'application/json':\n",
    "        return r.json() # parse json responses automatically\n",
    "    return r"
   ]
  },
  {
   "cell_type": "code",
   "execution_count": 7,
   "metadata": {},
   "outputs": [],
   "source": [
    "r = get(baseUrl)"
   ]
  },
  {
   "cell_type": "code",
   "execution_count": 8,
   "metadata": {},
   "outputs": [],
   "source": [
    "names = [sim['name'] for sim in r['simulations']]"
   ]
  },
  {
   "cell_type": "code",
   "execution_count": 9,
   "metadata": {},
   "outputs": [],
   "source": [
    "i_tng = names.index('TNG100-1')\n",
    "i_illustris = names.index('Illustris-1')"
   ]
  },
  {
   "cell_type": "code",
   "execution_count": 123,
   "metadata": {},
   "outputs": [],
   "source": [
    "def check_ids(i, snap_n, h):\n",
    "    \n",
    "    r = get(baseUrl)\n",
    "    sim = get( r['simulations'][i]['url'] )\n",
    "    print(sim['name'])\n",
    "    snaps = get( sim['snapshots'] )\n",
    "    snap = get( snaps[snap_n]['url'] )\n",
    "\n",
    "    mass_stars_min = 10**(11.2) / 1e10 * h\n",
    "    \n",
    "    #our sample\n",
    "    search_query = \"?mass_stars__gt=\"+ str(mass_stars_min)+ \"&primary_flag=1\"\n",
    "\n",
    "    n_halos_list = []\n",
    "\n",
    "    url = snap['subhalos'] + search_query\n",
    "    subhalos = get(url)\n",
    "    n_halos = subhalos['count']\n",
    "    \n",
    "    print(subhalos['next'])\n",
    "    print(n_halos)\n",
    "    ids=[]\n",
    "    while subhalos['next'] != None:\n",
    "        ids+=[subhalo['id'] for subhalo in subhalos['results']]\n",
    "        subhalos = get(subhalos['next'])\n",
    "    ids+=[subhalo['id'] for subhalo in subhalos['results']]\n",
    "    ids.sort()\n",
    "    print(len(ids))\n",
    "    \n",
    "    return ids\n",
    "    "
   ]
  },
  {
   "cell_type": "code",
   "execution_count": 131,
   "metadata": {},
   "outputs": [
    {
     "name": "stdout",
     "output_type": "stream",
     "text": [
      "TNG100-1\n",
      "http://www.tng-project.org/api/TNG100-1/snapshots/72/subhalos/?limit=100&mass_stars__gt=10.7360664857&offset=100&primary_flag=1\n",
      "235\n",
      "235\n",
      "Illustris-1\n",
      "http://www.tng-project.org/api/Illustris-1/snapshots/108/subhalos/?limit=100&mass_stars__gt=11.1576480749&offset=100&primary_flag=1\n",
      "339\n",
      "339\n"
     ]
    }
   ],
   "source": [
    "illustris_h = 0.704\n",
    "tng_h = 0.6774\n",
    "\n",
    "queried_tng_ids = check_ids(i_tng, 72, tng_h)\n",
    "queried_illustris_ids = check_ids(i_illustris, 108-2, illustris_h)"
   ]
  },
  {
   "cell_type": "markdown",
   "metadata": {},
   "source": [
    "## TNG "
   ]
  },
  {
   "cell_type": "code",
   "execution_count": 132,
   "metadata": {
    "scrolled": true
   },
   "outputs": [
    {
     "data": {
      "image/png": "[encoded data removed]",
      "text/plain": [
       "<Figure size 1080x144 with 1 Axes>"
      ]
     },
     "metadata": {},
     "output_type": "display_data"
    }
   ],
   "source": [
    "plt.figure(figsize=[15,2])\n",
    "plt.vlines(tng_cat_sh_id, -1,1, color='b', alpha=1,\n",
    "            label= ' Benedikt File N = {0}'.format(len(tng_cat_sh_id)))\n",
    "plt.vlines(queried_tng_ids, -1,1, color='y', alpha=1,\n",
    "            label= 'API Query N = {0}'.format(len(queried_tng_ids)))\n",
    "\n",
    "plt.xlabel('SubFind ID')\n",
    "plt.legend()\n",
    "\n",
    "plt.title('TNG')\n",
    "\n",
    "plt.show()"
   ]
  },
  {
   "cell_type": "code",
   "execution_count": 133,
   "metadata": {},
   "outputs": [
    {
     "data": {
      "text/plain": [
       "True"
      ]
     },
     "execution_count": 133,
     "metadata": {},
     "output_type": "execute_result"
    }
   ],
   "source": [
    "np.all([id in tng_cat_sh_id for id in queried_tng_ids])"
   ]
  },
  {
   "cell_type": "code",
   "execution_count": 134,
   "metadata": {},
   "outputs": [
    {
     "name": "stdout",
     "output_type": "stream",
     "text": [
      "[]\n"
     ]
    }
   ],
   "source": [
    "missing_ids = list(set(queried_tng_ids).symmetric_difference(set(tng_cat_sh_id)))\n",
    "print(missing_ids)"
   ]
  },
  {
   "cell_type": "markdown",
   "metadata": {},
   "source": [
    "## Illustris "
   ]
  },
  {
   "cell_type": "code",
   "execution_count": 135,
   "metadata": {},
   "outputs": [
    {
     "data": {
      "image/png": "[encoded data removed]",
      "text/plain": [
       "<Figure size 1080x144 with 1 Axes>"
      ]
     },
     "metadata": {},
     "output_type": "display_data"
    }
   ],
   "source": [
    "plt.figure(figsize=[15,2])\n",
    "plt.vlines(illustris_cat_sh_id, -1,1, color='b', alpha=1,\n",
    "            label= ' Benedikt File N = {0}'.format(len(illustris_cat_sh_id)))\n",
    "plt.vlines(queried_illustris_ids, -1,1, color='y', alpha=1,\n",
    "            label= 'API Query N = {0}'.format(len(queried_illustris_ids)))\n",
    "\n",
    "plt.xlabel('SubFind ID')\n",
    "plt.legend()\n",
    "\n",
    "plt.title('Illustris')\n",
    "\n",
    "plt.show()"
   ]
  },
  {
   "cell_type": "code",
   "execution_count": 136,
   "metadata": {},
   "outputs": [
    {
     "data": {
      "text/plain": [
       "True"
      ]
     },
     "execution_count": 136,
     "metadata": {},
     "output_type": "execute_result"
    }
   ],
   "source": [
    "np.all([id in illustris_cat_sh_id for id in queried_illustris_ids])"
   ]
  },
  {
   "cell_type": "markdown",
   "metadata": {},
   "source": [
    "problem solved!! TNG was at wrong h (different from Illustris). Illustris was at wrong snapshot, 2 snapshotas are corrupted(snapshots 53 and 55) so the ordering is wrong with the index."
   ]
  },
  {
   "cell_type": "code",
   "execution_count": null,
   "metadata": {},
   "outputs": [],
   "source": []
  }
 ],
 "metadata": {
  "kernelspec": {
   "display_name": "Python [conda env:hsc_hydro4]",
   "language": "python",
   "name": "conda-env-hsc_hydro4-py"
  },
  "language_info": {
   "codemirror_mode": {
    "name": "ipython",
    "version": 2
   },
   "file_extension": ".py",
   "mimetype": "text/x-python",
   "name": "python",
   "nbconvert_exporter": "python",
   "pygments_lexer": "ipython2",
   "version": "2.7.15"
  }
 },
 "nbformat": 4,
 "nbformat_minor": 2
}
