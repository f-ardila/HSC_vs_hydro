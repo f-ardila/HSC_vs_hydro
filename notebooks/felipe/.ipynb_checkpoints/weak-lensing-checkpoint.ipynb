{
 "cells": [
  {
   "cell_type": "markdown",
   "metadata": {},
   "source": [
    "Check weak-lensing signal in simulations from particle data. Modified from Alexie's code (`calds_secretplot.py`)"
   ]
  },
  {
   "cell_type": "code",
   "execution_count": 1,
   "metadata": {},
   "outputs": [],
   "source": [
    "import numpy as np\n",
    "import matplotlib.pyplot as plt\n",
    "plt.rc('text', usetex=True)\n",
    "\n",
    "import h5py\n",
    "from astropy.io import ascii\n",
    "from halotools.mock_observables import return_xyz_formatted_array, delta_sigma\n",
    "\n",
    "# #---------------------------------------------------------------------------#\n",
    "# #User imports\n",
    "# import sys\n",
    "# sys.path.append('/Users/fardila/Documents/GitHub/HSC_vs_hydro/')\n",
    "# from functions import *"
   ]
  },
  {
   "cell_type": "markdown",
   "metadata": {},
   "source": [
    "## box size "
   ]
  },
  {
   "cell_type": "code",
   "execution_count": 2,
   "metadata": {},
   "outputs": [
    {
     "name": "stdout",
     "output_type": "stream",
     "text": [
      "[ 0.06309573  0.08439482  0.11288379  0.15098972  0.20195898  0.27013381\n",
      "  0.36132228  0.48329302  0.64643716  0.8646535   1.15653264  1.54694077\n",
      "  2.06913808  2.76761237  3.70186906  4.95150067  6.62296762  8.8586679\n",
      " 11.84906851 15.84893192]\n"
     ]
    }
   ],
   "source": [
    "# Massive black 2: Lbox = 100 h^-1 Mpc\n",
    "# TNG100: Lbox = 75 h^-1 Mpc\n",
    "\n",
    "Lbox = 75.0   # 75/h\n",
    "period = np.array([Lbox,Lbox,Lbox])\n",
    "\n",
    "# This is in Mpc/h comoving\n",
    "rp_bins = np.logspace(-1.2,1.2,20) #error if using 1.5 because Lbox is 75 and not 100\n",
    "print rp_bins"
   ]
  },
  {
   "cell_type": "markdown",
   "metadata": {},
   "source": [
    "## particle positions"
   ]
  },
  {
   "cell_type": "code",
   "execution_count": 3,
   "metadata": {},
   "outputs": [],
   "source": [
    "particle_data_file = '/Users/fardila/Documents/GitHub/HSC_vs_hydro/Data/TNG/particles/boxptl_tng100-2_099.hdf5'"
   ]
  },
  {
   "cell_type": "code",
   "execution_count": 4,
   "metadata": {},
   "outputs": [
    {
     "name": "stdout",
     "output_type": "stream",
     "text": [
      "Redshift:  0.0\n",
      "20000000  particles\n"
     ]
    }
   ],
   "source": [
    "f = h5py.File(particle_data_file, 'r')\n",
    "\n",
    "dm_coords = np.array(f['ptldm_Coordinates'])\n",
    "dm_particle_mass = np.array(f['config'].attrs['dm_ptl_mass'])\n",
    "\n",
    "gas_coords = np.array(f['ptlgas_Coordinates'])\n",
    "gas_particle_masses = np.array(f['ptlgas_Masses'])\n",
    "\n",
    "star_coords = np.array(f['ptlstr_Coordinates'])\n",
    "star_particle_masses = np.array(f['ptlstr_Masses'])\n",
    "\n",
    "z = f['config'].attrs['snap_z']\n",
    "n_downsampled_particles = f['config'].attrs['ptlgas_nmax']\n",
    "f.close()\n",
    "\n",
    "print \"Redshift: \", z\n",
    "print n_downsampled_particles, ' particles'\n"
   ]
  },
  {
   "cell_type": "code",
   "execution_count": 5,
   "metadata": {},
   "outputs": [
    {
     "data": {
      "text/plain": [
       "74999.99887498413"
      ]
     },
     "execution_count": 5,
     "metadata": {},
     "output_type": "execute_result"
    }
   ],
   "source": [
    "max(dm_coords[:,0]) ##kpc?"
   ]
  },
  {
   "cell_type": "code",
   "execution_count": 6,
   "metadata": {},
   "outputs": [],
   "source": [
    "def format_coordinates_for_halotools(coords):\n",
    "    # These are in units of kpc???, put into Mpc\n",
    "    x=coords[:,0]/1000.0\n",
    "    y=coords[:,1]/1000.0\n",
    "    z=coords[:,2]/1000.0\n",
    "    \n",
    "    pos = return_xyz_formatted_array(x, y, z)\n",
    "    \n",
    "    return pos\n",
    "\n",
    "dmpos = format_coordinates_for_halotools(dm_coords)\n",
    "gaspos = format_coordinates_for_halotools(gas_coords)\n",
    "starpos = format_coordinates_for_halotools(star_coords)"
   ]
  },
  {
   "cell_type": "code",
   "execution_count": 7,
   "metadata": {},
   "outputs": [],
   "source": [
    "#check mass units\n",
    "#check position units\n",
    "#check number of particles for each species"
   ]
  },
  {
   "cell_type": "markdown",
   "metadata": {},
   "source": [
    "### number of particles "
   ]
  },
  {
   "cell_type": "code",
   "execution_count": 8,
   "metadata": {},
   "outputs": [],
   "source": [
    "#illustris-1: 1820^3 DM particles\n",
    "#illustris-2: 910^3 DM particles\n",
    "\n",
    "n_total_particles_dm, n_total_particles_gas, n_total_particles_stars = 910**3, 910**3, 910**3\n",
    "\n",
    "dm_downsampling_factor = n_total_particles_dm/n_downsampled_particles\n",
    "gas_downsampling_factor = n_total_particles_gas/n_downsampled_particles\n",
    "star_downsampling_factor = n_total_particles_stars/n_downsampled_particles"
   ]
  },
  {
   "cell_type": "markdown",
   "metadata": {},
   "source": [
    "## galaxy positions "
   ]
  },
  {
   "cell_type": "code",
   "execution_count": 9,
   "metadata": {},
   "outputs": [],
   "source": [
    "# Read in the Galaxy File\n",
    "tng_highres_file='/Users/fardila/Documents/GitHub/HSC_vs_hydro/Data/TNG/galaxies_stellarmaps_tng75_11.2_highres.hdf5'\n",
    "f = h5py.File(tng_highres_file, 'r')\n",
    "gal_coords = np.array(f['catsh_SubhaloPos'])\n",
    "f.close()\n",
    "\n",
    "galpos = format_coordinates_for_halotools(gal_coords)\n"
   ]
  },
  {
   "cell_type": "markdown",
   "metadata": {},
   "source": [
    "## weak lensing"
   ]
  },
  {
   "cell_type": "code",
   "execution_count": 10,
   "metadata": {},
   "outputs": [],
   "source": [
    "output_files_location = '/Users/fardila/Documents/GitHub/HSC_vs_hydro/Data/TNG/particles/'"
   ]
  },
  {
   "cell_type": "code",
   "execution_count": 29,
   "metadata": {},
   "outputs": [],
   "source": [
    "def weak_lensing(galpos, dmpos, gaspos, starpos, dm_particle_mass, dm_downsampling_factor, rp_bins, Lbox,\n",
    "                 output_files_location, l_mass, u_mass):\n",
    "    \n",
    "    #calculate delta sigma for each component\n",
    "    r, dm_ds = delta_sigma(galpos, dmpos, dm_particle_mass, dm_downsampling_factor, rp_bins, Lbox)\n",
    "    dm_ds = dm_ds/1e12\n",
    "    dm_array = np.array(zip(r,dm_ds), dtype=[('r(Mpc)','f8'),('DS','f8')])\n",
    "    np.save(output_files_location+'dm_ds.npy', dm_array)\n",
    "    print 'dm_ds'#, dm_ds\n",
    "\n",
    "    r, gas_ds = delta_sigma(galpos, gaspos, gas_particle_masses, gas_downsampling_factor, rp_bins, Lbox)\n",
    "    gas_ds = gas_ds/1e12\n",
    "    gas_array = np.array(zip(r,gas_ds), dtype=[('r(Mpc)','f8'),('DS','f8')])\n",
    "    np.save(output_files_location+'gas_ds.npy', gas_array)\n",
    "    print 'gas_ds'#, gas_ds\n",
    "\n",
    "    r, stars_ds = delta_sigma(galpos, starpos, star_particle_masses, star_downsampling_factor, rp_bins, Lbox)\n",
    "    stars_ds = stars_ds/1e12\n",
    "    stars_array = np.array(zip(r,stars_ds), dtype=[('r(Mpc)','f8'),('DS','f8')])\n",
    "    np.save(output_files_location+'stars_ds.npy', stars_array)\n",
    "    print 'stars_ds'#, stars_ds\n",
    "    \n",
    "    #sum all components together\n",
    "    total_ds = (10**dm_ds)+(10**gas_ds)+(10**stars_ds)\n",
    "    total_ds_array = np.array(zip(r,total_ds), dtype=[('r(Mpc)','f8'),('DS','f8')])\n",
    "    np.save(output_files_location+'total_ds.npy', total_ds_array)\n",
    "    print 'total_ds'#, total_ds\n",
    "    \n",
    "    #make plot\n",
    "    \n",
    "    fig = plt.figure(figsize=(15, 10))\n",
    "    ax1 = plt.subplot()\n",
    "\n",
    "    plt.loglog(r, 10**dm_ds, linestyle='--', linewidth=4.0, c='k', alpha=1, zorder=8, label='DM')\n",
    "    plt.loglog(r, 10**gas_ds, linestyle='-.', linewidth=4.0, c='b', alpha=1, zorder=8, label='Gas')\n",
    "    plt.loglog(r, 10**stars_ds, linestyle=':', linewidth=4.0, c='r', alpha=1, zorder=8, label='Stars')\n",
    "\n",
    "    #plot total\n",
    "    plt.loglog(r, total_ds, linestyle='-', linewidth=5.0, c='g', alpha=1, zorder=8, label='Total')\n",
    "\n",
    "    ######################################################################################################################\n",
    "    # plot details\n",
    "    ######################################################################################################################\n",
    "    # # X-Y limits\n",
    "    # ax1.set_xlim(0.9, 4.5)\n",
    "    # ax1.set_ylim(4, 11)\n",
    "\n",
    "    ax1.tick_params(axis='both', which='major', labelsize=30)\n",
    "\n",
    "    #text label\n",
    "    ax1.text(0.5, 0.1, r'${0}<\\mathrm{{M_{{halo}}}}<{1}$'.format(round(l_mass,2), round(u_mass,2)), size=30,\n",
    "             transform=ax1.transAxes) #transform to axis coords rather than data coordinates\n",
    "\n",
    "#     ax1.legend(fontsize=20)\n",
    "\n",
    "    #axis labels and vertical lines\n",
    "    ax1.set_xlabel(r'$\\mathrm{R \\ [Mpc]}$', fontsize=30)\n",
    "    ax1.set_ylabel(r'$\\Delta\\Sigma \\ [(M_{\\odot})/\\mathrm{pc}^2]$', fontsize=30)\n",
    "    # ax1.axvline(100.0 ** 0.25, linestyle='--', linewidth=3.0, alpha=0.6)\n",
    "    # ax1.axvline(6.0 ** 0.25, linestyle='-', linewidth=3.0, alpha=0.6, c='r')\n",
    "\n",
    "    ######################################################################################################################\n",
    "\n",
    "    # fig.savefig('/Users/fardila/Documents/GitHub/HSC_vs_hydro/Plots/surface_brightness_Illustris_matched_n.pdf',\n",
    "    #             dpi=100, format='pdf', bbox_inches='tight')\n",
    "\n",
    "#     plt.show()"
   ]
  },
  {
   "cell_type": "code",
   "execution_count": 12,
   "metadata": {},
   "outputs": [
    {
     "name": "stdout",
     "output_type": "stream",
     "text": [
      "dm_ds\n",
      "gas_ds\n",
      "stars_ds\n",
      "total_ds\n"
     ]
    },
    {
     "data": {
      "image/png": "[encoded data removed]",
      "text/plain": [
       "<Figure size 1080x720 with 1 Axes>"
      ]
     },
     "metadata": {},
     "output_type": "display_data"
    }
   ],
   "source": [
    "weak_lensing(galpos, dmpos, gaspos, starpos, dm_particle_mass, dm_downsampling_factor, rp_bins, Lbox,\n",
    "                 output_files_location, 13.0, 14.25)"
   ]
  },
  {
   "cell_type": "markdown",
   "metadata": {},
   "source": [
    "## compare to HSC"
   ]
  },
  {
   "cell_type": "code",
   "execution_count": 24,
   "metadata": {},
   "outputs": [],
   "source": [
    "hsc_files_loc = '/Users/fardila/Documents/GitHub/HSC_vs_hydro/Data/HSC/weak_lensing/'\n",
    "hsc_arrays = [np.load(hsc_files_loc+'asap_hsc_mvir_predict_1805_bin{0}.npz'.format(i)) for i in [1,2,3]]"
   ]
  },
  {
   "cell_type": "code",
   "execution_count": 25,
   "metadata": {},
   "outputs": [
    {
     "data": {
      "text/plain": [
       "['rmpc', 'dsigma', 'err']"
      ]
     },
     "execution_count": 25,
     "metadata": {},
     "output_type": "execute_result"
    }
   ],
   "source": [
    "hsc_arrays[0].keys()"
   ]
  },
  {
   "cell_type": "markdown",
   "metadata": {},
   "source": [
    "# Check bins of halo mass (same as plot in paper)\n",
    "the only thing changing are the galaxy positions\n"
   ]
  },
  {
   "cell_type": "code",
   "execution_count": 13,
   "metadata": {},
   "outputs": [],
   "source": [
    "mass_bins = np.linspace(13.0,14.25,4)"
   ]
  },
  {
   "cell_type": "code",
   "execution_count": 14,
   "metadata": {},
   "outputs": [],
   "source": [
    "f = h5py.File(tng_highres_file, 'r')\n",
    "#cat_sh_mstar = np.array(f['catsh_SubhaloMassType'][:, 4])\n",
    "tng_m_dm = np.log10(np.array(f['catgrp_Group_M_Crit200']))\n",
    "gal_coords = np.array(f['catsh_SubhaloPos'])\n",
    "f.close()\n",
    "\n",
    "#stack masses and coordinates into single array\n",
    "gal_array = np.stack((tng_m_dm, gal_coords[:,0],gal_coords[:,1],gal_coords[:,2]), axis=1)"
   ]
  },
  {
   "cell_type": "code",
   "execution_count": 15,
   "metadata": {},
   "outputs": [],
   "source": [
    "def get_galaxies_in_bins(gal_array, mass_bins):\n",
    "    '''\n",
    "    gets galaxies in each mass bin of mass_bins. assumes mass is first column of gal_array. returns array where \n",
    "    each element corresponds to the array of galaxies in that mass bin. \n",
    "    '''\n",
    "    n_bins = len(mass_bins) - 1\n",
    "    \n",
    "    gals_in_bins=[]\n",
    "    \n",
    "    masses = gal_array[:,0]\n",
    "    \n",
    "    for bin in range(n_bins):\n",
    "        lower = mass_bins[bin]\n",
    "        upper = mass_bins[bin+1]\n",
    "        \n",
    "        gals = gal_array[(masses>lower) & (masses<upper)]\n",
    "        \n",
    "        gals_in_bins.append(gals)\n",
    "        \n",
    "    return gals_in_bins"
   ]
  },
  {
   "cell_type": "code",
   "execution_count": 16,
   "metadata": {},
   "outputs": [],
   "source": [
    "galaxies_in_bin = get_galaxies_in_bins(gal_array, mass_bins)"
   ]
  },
  {
   "cell_type": "code",
   "execution_count": null,
   "metadata": {
    "scrolled": false
   },
   "outputs": [
    {
     "name": "stdout",
     "output_type": "stream",
     "text": [
      "74  galaxies\n"
     ]
    }
   ],
   "source": [
    "for i, gals in enumerate(galaxies_in_bin):\n",
    "    \n",
    "    #plot TNG\n",
    "    gal_coords = gals[:,1:]\n",
    "    galpos = format_coordinates_for_halotools(gal_coords)\n",
    "    \n",
    "    print len(galpos), ' galaxies'\n",
    "    \n",
    "    weak_lensing(galpos, dmpos, gaspos, starpos, dm_particle_mass, dm_downsampling_factor, rp_bins, Lbox,\n",
    "                 output_files_location, mass_bins[i], mass_bins[i+1])\n",
    "    \n",
    "    #plot HSC\n",
    "    plt.errorbar(hsc_arrays[i]['rmpc'], hsc_arrays[i]['dsigma'], hsc_arrays[0]['err'], c='k', markersize=10, \n",
    "                 marker='o', linewidth=4.0, alpha=0.5, label= 'HSC')\n",
    "    \n",
    "    plt.legend(fontsize=20)\n",
    "    plt.show()"
   ]
  },
  {
   "cell_type": "code",
   "execution_count": null,
   "metadata": {},
   "outputs": [],
   "source": []
  }
 ],
 "metadata": {
  "kernelspec": {
   "display_name": "Python 2",
   "language": "python",
   "name": "python2"
  },
  "language_info": {
   "codemirror_mode": {
    "name": "ipython",
    "version": 2
   },
   "file_extension": ".py",
   "mimetype": "text/x-python",
   "name": "python",
   "nbconvert_exporter": "python",
   "pygments_lexer": "ipython2",
   "version": "2.7.15"
  }
 },
 "nbformat": 4,
 "nbformat_minor": 2
}
