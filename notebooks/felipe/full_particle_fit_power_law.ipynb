{
 "cells": [
  {
   "cell_type": "code",
   "execution_count": 2,
   "metadata": {},
   "outputs": [
    {
     "name": "stdout",
     "output_type": "stream",
     "text": [
      "\n",
      "\n",
      "      +------------------------------------------------------------+\n",
      "      |       Space Telescope Science Data Analysis System         |\n",
      "      |                   STSDAS Version 3.18.3                    |\n",
      "      |                                                            |\n",
      "      |   Space Telescope Science Institute, Baltimore, Maryland   |\n",
      "      |   Copyright (C) 2014 Association of Universities for       |\n",
      "      |            Research in Astronomy, Inc.(AURA)               |\n",
      "      |       See stsdas$copyright.stsdas for terms of use.        |\n",
      "      |         For help, send e-mail to help@stsci.edu            |\n",
      "      |                                                            |\n",
      "      +------------------------------------------------------------+\n",
      "stsdas/:\n",
      " analysis/      examples        hst_calib/      sobsolete/\n",
      " contrib/       fitsio/         playpen/        toolbox/\n",
      " describe       graphics/       problems\n",
      "isophote/:\n",
      " bmodel         geompar@        isomap          magpar@\n",
      " controlpar@    isoexam         isopall         samplepar@\n",
      " ellipse        isoimap         isoplot\n"
     ]
    }
   ],
   "source": [
    "import numpy as np\n",
    "import matplotlib.pyplot as plt\n",
    "import matplotlib.colors as mcolors\n",
    "import h5py\n",
    "\n",
    "import sys\n",
    "sys.path.append('/Users/fardila/Documents/GitHub/HSC_vs_hydro/')\n",
    "from functions import *"
   ]
  },
  {
   "cell_type": "code",
   "execution_count": 3,
   "metadata": {},
   "outputs": [],
   "source": [
    "z_tng = 0.4\n",
    "h_tng = 0.704"
   ]
  },
  {
   "cell_type": "code",
   "execution_count": 4,
   "metadata": {},
   "outputs": [],
   "source": [
    "Group_IDs = [ 29, 284, 132, 269,  73, 154,  86, 211, 201,  94,  67, 160, 260, 199, 5, 163, 147, 7, 384, 2, 37,\n",
    "             74, 31, 198, 178, 17, 77, 222, 164,  80, 221,  57, 189,  96, 327, 100, 220,  11, 128, 273, 424,\n",
    "             360, 122,  79, 194,  70, 149, 412,  55, 334, 104, 153, 546, 140, 459,  66, 114, 28, 170, 159, 63,\n",
    "             52, 123, 84, 36, 204, 380, 38, 197, 351, 15, 22, 243, 54, 145,  82, 113, 332,  69, 193,  95, 331,\n",
    "             44, 363, 339, 150, 195,  46,  48, 56, 214]"
   ]
  },
  {
   "cell_type": "code",
   "execution_count": 5,
   "metadata": {},
   "outputs": [
    {
     "name": "stderr",
     "output_type": "stream",
     "text": [
      "/Users/fardila/anaconda2/envs/hsc_hydro/lib/python2.7/site-packages/h5py/_hl/dataset.py:313: H5pyDeprecationWarning: dataset.value has been deprecated. Use dataset[()] instead.\n",
      "  \"Use dataset[()] instead.\", H5pyDeprecationWarning)\n"
     ]
    }
   ],
   "source": [
    "FOF_particles_file_location = '/Users/fardila/Documents/GitHub/HSC_vs_hydro/Data/TNG/galaxies_stellarmaps_tng75_11.2.hdf5'\n",
    "f = h5py.File(FOF_particles_file_location, 'r')\n",
    "FOF_galaxy_IDS = f['catgrp_id'].value\n",
    "M200 = np.array(f['catgrp_Group_M_Crit200']) # in solar masses\n",
    "f.close()"
   ]
  },
  {
   "cell_type": "code",
   "execution_count": 6,
   "metadata": {},
   "outputs": [
    {
     "ename": "IOError",
     "evalue": "[Errno 2] No such file or directory: '/Users/fardila/Documents/GitHub/HSC_vs_hydro/Data/TNG/full_particles/full_particle_isos.npy'",
     "output_type": "error",
     "traceback": [
      "\u001b[0;31m---------------------------------------------------------------------------\u001b[0m",
      "\u001b[0;31mIOError\u001b[0m                                   Traceback (most recent call last)",
      "\u001b[0;32m<ipython-input-6-13f072d45679>\u001b[0m in \u001b[0;36m<module>\u001b[0;34m()\u001b[0m\n\u001b[1;32m      1\u001b[0m \u001b[0;31m#load isos\u001b[0m\u001b[0;34m\u001b[0m\u001b[0;34m\u001b[0m\u001b[0m\n\u001b[0;32m----> 2\u001b[0;31m \u001b[0mfull_particles_isos\u001b[0m \u001b[0;34m=\u001b[0m \u001b[0mnp\u001b[0m\u001b[0;34m.\u001b[0m\u001b[0mload\u001b[0m\u001b[0;34m(\u001b[0m\u001b[0;34m'/Users/fardila/Documents/GitHub/HSC_vs_hydro/Data/TNG/full_particles/full_particle_isos.npy'\u001b[0m\u001b[0;34m)\u001b[0m\u001b[0;34m\u001b[0m\u001b[0m\n\u001b[0m\u001b[1;32m      3\u001b[0m \u001b[0;34m\u001b[0m\u001b[0m\n\u001b[1;32m      4\u001b[0m \u001b[0mfof_particles_isos\u001b[0m \u001b[0;34m=\u001b[0m \u001b[0mnp\u001b[0m\u001b[0;34m.\u001b[0m\u001b[0mload\u001b[0m\u001b[0;34m(\u001b[0m\u001b[0;34m'/Users/fardila/Documents/GitHub/HSC_vs_hydro/Data/TNG/full_particles/fof_particle_isos.npy'\u001b[0m\u001b[0;34m)\u001b[0m\u001b[0;34m\u001b[0m\u001b[0m\n",
      "\u001b[0;32m/Users/fardila/anaconda2/envs/hsc_hydro/lib/python2.7/site-packages/numpy/lib/npyio.pyc\u001b[0m in \u001b[0;36mload\u001b[0;34m(file, mmap_mode, allow_pickle, fix_imports, encoding)\u001b[0m\n\u001b[1;32m    382\u001b[0m     \u001b[0mown_fid\u001b[0m \u001b[0;34m=\u001b[0m \u001b[0mFalse\u001b[0m\u001b[0;34m\u001b[0m\u001b[0m\n\u001b[1;32m    383\u001b[0m     \u001b[0;32mif\u001b[0m \u001b[0misinstance\u001b[0m\u001b[0;34m(\u001b[0m\u001b[0mfile\u001b[0m\u001b[0;34m,\u001b[0m \u001b[0mbasestring\u001b[0m\u001b[0;34m)\u001b[0m\u001b[0;34m:\u001b[0m\u001b[0;34m\u001b[0m\u001b[0m\n\u001b[0;32m--> 384\u001b[0;31m         \u001b[0mfid\u001b[0m \u001b[0;34m=\u001b[0m \u001b[0mopen\u001b[0m\u001b[0;34m(\u001b[0m\u001b[0mfile\u001b[0m\u001b[0;34m,\u001b[0m \u001b[0;34m\"rb\"\u001b[0m\u001b[0;34m)\u001b[0m\u001b[0;34m\u001b[0m\u001b[0m\n\u001b[0m\u001b[1;32m    385\u001b[0m         \u001b[0mown_fid\u001b[0m \u001b[0;34m=\u001b[0m \u001b[0mTrue\u001b[0m\u001b[0;34m\u001b[0m\u001b[0m\n\u001b[1;32m    386\u001b[0m     \u001b[0;32melif\u001b[0m \u001b[0mis_pathlib_path\u001b[0m\u001b[0;34m(\u001b[0m\u001b[0mfile\u001b[0m\u001b[0;34m)\u001b[0m\u001b[0;34m:\u001b[0m\u001b[0;34m\u001b[0m\u001b[0m\n",
      "\u001b[0;31mIOError\u001b[0m: [Errno 2] No such file or directory: '/Users/fardila/Documents/GitHub/HSC_vs_hydro/Data/TNG/full_particles/full_particle_isos.npy'"
     ]
    }
   ],
   "source": [
    "#load isos\n",
    "full_particles_isos = np.load('/Users/fardila/Documents/GitHub/HSC_vs_hydro/Data/TNG/full_particles/full_particle_isos.npy')\n",
    "\n",
    "fof_particles_isos = np.load('/Users/fardila/Documents/GitHub/HSC_vs_hydro/Data/TNG/full_particles/fof_particle_isos.npy')\n"
   ]
  },
  {
   "cell_type": "code",
   "execution_count": 7,
   "metadata": {},
   "outputs": [],
   "source": [
    "def get_median_profile(isos, pixel_scale, r_bins, quantity = 'intens', R200=None):\n",
    "    \"\"\"Get the median profiles.\"\"\"\n",
    "    \n",
    "    if quantity == 'intens':\n",
    "        mu = np.nanmedian(np.stack([interp1d((gal['sma'] * pixel_scale) ** 0.25, \n",
    "                                               np.log10(gal[quantity] / (pixel_scale ** 2)),\n",
    "                                               bounds_error=False, \n",
    "                                               fill_value=np.nan, \n",
    "                                               kind='slinear')(r_bins) \n",
    "                               for gal in isos]), axis=0)\n",
    "    if quantity == 'intens_kpc':\n",
    "        if R200 is not None:\n",
    "            mu = np.nanmedian(np.stack([interp1d(np.log10(gal['sma_kpc']/r200), \n",
    "                                                   np.log10(gal[quantity]),\n",
    "                                                   bounds_error=False, \n",
    "                                                   fill_value=np.nan, \n",
    "                                                   kind='slinear')(r_bins) \n",
    "                                   for gal,r200 in zip(isos,R200)]), axis=0)   \n",
    "        else:    \n",
    "            mu = np.nanmedian(np.stack([interp1d((gal['sma_kpc']) ** 0.25, \n",
    "                                                   np.log10(gal[quantity]),\n",
    "                                                   bounds_error=False, \n",
    "                                                   fill_value=np.nan, \n",
    "                                                   kind='slinear')(r_bins) \n",
    "                                   for gal in isos]), axis=0)\n",
    "    elif quantity == 'growth_ori':\n",
    "        mu = np.nanmedian(np.stack([interp1d((gal['sma_kpc']) ** 0.25, \n",
    "                                               np.log10(gal[quantity]),\n",
    "                                               bounds_error=False, \n",
    "                                               fill_value=np.nan, \n",
    "                                               kind='slinear')(r_bins) \n",
    "                               for gal in isos]), axis=0)\n",
    "        \n",
    "#     elif quantity == 'hsc':\n",
    "#         mu = np.nanmedian(np.stack([interp1d(SMA_COMMON, \n",
    "#                                                gal,\n",
    "#                                                bounds_error=False, \n",
    "#                                                fill_value=np.nan, \n",
    "#                                                kind='slinear')(r_bins) \n",
    "#                                for gal in isos]), axis=0)\n",
    "\n",
    "\n",
    "    return mu"
   ]
  },
  {
   "cell_type": "code",
   "execution_count": 8,
   "metadata": {},
   "outputs": [
    {
     "ename": "NameError",
     "evalue": "name 'full_particles_isos' is not defined",
     "output_type": "error",
     "traceback": [
      "\u001b[0;31m---------------------------------------------------------------------------\u001b[0m",
      "\u001b[0;31mNameError\u001b[0m                                 Traceback (most recent call last)",
      "\u001b[0;32m<ipython-input-8-f3b0f5c99b08>\u001b[0m in \u001b[0;36m<module>\u001b[0;34m()\u001b[0m\n\u001b[1;32m      5\u001b[0m \u001b[0;34m\u001b[0m\u001b[0m\n\u001b[1;32m      6\u001b[0m \u001b[0;32mfor\u001b[0m \u001b[0mi\u001b[0m \u001b[0;32min\u001b[0m \u001b[0mrange\u001b[0m\u001b[0;34m(\u001b[0m\u001b[0mlen\u001b[0m\u001b[0;34m(\u001b[0m\u001b[0mGroup_IDs\u001b[0m\u001b[0;34m)\u001b[0m\u001b[0;34m)\u001b[0m\u001b[0;34m:\u001b[0m\u001b[0;34m\u001b[0m\u001b[0m\n\u001b[0;32m----> 7\u001b[0;31m     \u001b[0mfull_particles_iso\u001b[0m \u001b[0;34m=\u001b[0m \u001b[0mfull_particles_isos\u001b[0m\u001b[0;34m[\u001b[0m\u001b[0mi\u001b[0m\u001b[0;34m]\u001b[0m\u001b[0;34m\u001b[0m\u001b[0m\n\u001b[0m\u001b[1;32m      8\u001b[0m     \u001b[0mfof_particles_iso\u001b[0m \u001b[0;34m=\u001b[0m \u001b[0mfof_particles_isos\u001b[0m\u001b[0;34m[\u001b[0m\u001b[0mi\u001b[0m\u001b[0;34m]\u001b[0m\u001b[0;34m\u001b[0m\u001b[0m\n\u001b[1;32m      9\u001b[0m \u001b[0;34m\u001b[0m\u001b[0m\n",
      "\u001b[0;31mNameError\u001b[0m: name 'full_particles_isos' is not defined"
     ]
    },
    {
     "data": {
      "image/png": "[encoded data removed]",
      "text/plain": [
       "<Figure size 720x864 with 1 Axes>"
      ]
     },
     "metadata": {
      "needs_background": "light"
     },
     "output_type": "display_data"
    }
   ],
   "source": [
    "fig = plt.figure(figsize=(10, 12))\n",
    "ax1 = plt.subplot()\n",
    "hsc_sma = np.arange(0.4, 5.5, 0.1)\n",
    "    \n",
    "\n",
    "for i in range(len(Group_IDs)):\n",
    "    full_particles_iso = full_particles_isos[i]\n",
    "    fof_particles_iso = fof_particles_isos[i]\n",
    "    \n",
    "#     if (np.log10(full_particles_iso['intens_kpc'])+ np.log10(0.7 ** 2.0))[0]>8:\n",
    "\n",
    "    ax1.plot((full_particles_iso['sma_kpc'] ) ** 0.25,\n",
    "                 np.log10(full_particles_iso['intens_kpc'])+ np.log10(0.7 ** 2.0) , linewidth=1.0, alpha=0.1, \n",
    "                     color = 'r', label='_nolegend_')\n",
    "\n",
    "    ax1.plot((fof_particles_iso['sma_kpc'] ) ** 0.25,\n",
    "                 np.log10(fof_particles_iso['intens_kpc'])+ np.log10(0.7 ** 2.0) , linewidth=1.0, alpha=0.1, \n",
    "                     color = 'b', label='_nolegend_')\n",
    "\n",
    "                 #label='tng Galaxy '+\n",
    "## median profiles for tng\n",
    "median_mu_full = get_median_profile(full_particles_isos, pixel_scale = 0, r_bins = hsc_sma, quantity = 'intens_kpc')\n",
    "median_mu_FOF = get_median_profile(fof_particles_isos, pixel_scale = 0, r_bins = hsc_sma, quantity = 'intens_kpc')\n",
    "\n",
    "ax1.plot(hsc_sma, median_mu_full+ np.log10(0.7 ** 2.0), linewidth=7.0, alpha=1, c='r',\n",
    "         label = 'All Particles')\n",
    "ax1.plot(hsc_sma, median_mu_FOF+ np.log10(0.7 ** 2.0), linewidth=7.0, alpha=1, c='b',\n",
    "         label='FOF Group')\n",
    "\n",
    "######################################################################################################################\n",
    "# plot details\n",
    "######################################################################################################################\n",
    "# # X-Y limits\n",
    "ax1.set_xlim(0.9, 2500**0.25)\n",
    "ax1.set_ylim(0, 10)\n",
    "\n",
    "ax1.tick_params(axis='both', which='major', labelsize=35)\n",
    "\n",
    "ax1.legend(loc= 'upper center', fontsize=35)\n",
    "\n",
    "#add twin x axis in kpc\n",
    "x1, x2 = ax1.get_xlim()\n",
    "ax1_twin = ax1.twiny()\n",
    "ax1_twin.set_xlim(x1, x2)\n",
    "ax1_twin.figure.canvas.draw()\n",
    "ax1_twin.xaxis.set_ticks([10**0.25, 50**0.25, 100**0.25, 500**0.25, 1000**0.25])\n",
    "ax1_twin.xaxis.set_ticklabels([r'$10$', r'$50$', r'$100$', r'$500$', r'$1000$'])\n",
    "ax1_twin.tick_params(axis='both', which='major', labelsize=35)\n",
    "ax1_twin.set_xlabel(r'$R \\: [kpc]$', fontsize=40)\n",
    "\n",
    "\n",
    "ax1.set_ylabel(r'$\\mu_{\\star}\\ [\\log (M_{\\odot}/\\mathrm{kpc}^2)]$', fontsize=40)\n",
    "ax1.set_xlabel(r'$R^{1/4} \\: [\\mathrm{kpc}^{1/4}]$', fontsize=40)\n",
    "\n",
    "#     fig.savefig('/Users/fardila/Documents/GitHub/HSC_vs_hydro/Plots/profiles_matched_by_{0}_{1}.pdf'.format(mass_type, sim_name),\n",
    "#                 dpi=100, format='pdf', bbox_inches='tight')\n",
    "\n",
    "plt.show()"
   ]
  },
  {
   "cell_type": "code",
   "execution_count": null,
   "metadata": {},
   "outputs": [],
   "source": [
    "from astropy.cosmology import Planck13 as cosmo\n",
    "from astropy import units as u\n",
    "from __future__ import division\n",
    "\n",
    "rho_crit = cosmo.critical_density(0.4).to(u.solMass/u.kpc**3).value\n",
    "R200 = (M200*(3/4) / (np.pi) / (200*rho_crit) ) **(1/3) #in kpc\n",
    "\n",
    "R200_sample = [R200[np.where(FOF_galaxy_IDS==Group_ID)[0][0]] for Group_ID in Group_IDs]"
   ]
  },
  {
   "cell_type": "code",
   "execution_count": null,
   "metadata": {},
   "outputs": [],
   "source": [
    "fig = plt.figure(figsize=(10, 12))\n",
    "ax1 = plt.subplot()\n",
    "logr200_bins = np.arange(-2, 0.6, 0.1)\n",
    "    \n",
    "for i in range(len(Group_IDs)):\n",
    "    full_particles_iso = full_particles_isos[i]\n",
    "    fof_particles_iso = fof_particles_isos[i]\n",
    "    \n",
    "    r200 = R200[i]\n",
    "\n",
    "    ax1.plot(np.log10(full_particles_iso['sma_kpc']/r200 ),\n",
    "                 np.log10(full_particles_iso['intens_kpc'])+ np.log10(0.7 ** 2.0) , linewidth=1.0, alpha=0.1, \n",
    "                     color = 'r', label='_nolegend_')\n",
    "\n",
    "    ax1.plot(np.log10(fof_particles_iso['sma_kpc']/r200 ),\n",
    "                 np.log10(fof_particles_iso['intens_kpc'])+ np.log10(0.7 ** 2.0) , linewidth=1.0, alpha=0.1, \n",
    "                     color = 'b', label='_nolegend_')\n",
    "        \n",
    "                 #label='tng Galaxy '+\n",
    "## median profiles for tng\n",
    "median_mu_full = get_median_profile(full_particles_isos, pixel_scale = 1, r_bins = logr200_bins,\n",
    "                                    quantity = 'intens_kpc', R200=R200_sample)\n",
    "median_mu_FOF = get_median_profile(fof_particles_isos, pixel_scale = 1, r_bins = logr200_bins,\n",
    "                                   quantity = 'intens_kpc', R200=R200_sample)\n",
    "\n",
    "ax1.plot(logr200_bins, median_mu_full+ np.log10(0.7 ** 2.0), linewidth=7.0, alpha=1, c='r',\n",
    "         label = 'All Particles')\n",
    "ax1.plot(logr200_bins, median_mu_FOF+ np.log10(0.7 ** 2.0), linewidth=7.0, alpha=1, c='b',\n",
    "         label='FOF Group')\n",
    "\n",
    "######################################################################################################################\n",
    "# plot details\n",
    "######################################################################################################################\n",
    "# # X-Y limits\n",
    "# ax1.set_xlim(0.9, 2500**0.25)\n",
    "# ax1.set_ylim(0, 10)\n",
    "\n",
    "ax1.tick_params(axis='both', which='major', labelsize=35)\n",
    "\n",
    "ax1.legend(loc= 'best', fontsize=35)\n",
    "\n",
    "\n",
    "ax1.set_ylabel(r'$\\mu_{\\star}\\ [\\log (M_{\\odot}/\\mathrm{kpc}^2)]$', fontsize=40)\n",
    "ax1.set_xlabel(r'$\\log {R/R200} $', fontsize=40)\n",
    "\n",
    "\n",
    "plt.show()"
   ]
  },
  {
   "cell_type": "code",
   "execution_count": null,
   "metadata": {},
   "outputs": [],
   "source": []
  }
 ],
 "metadata": {
  "kernelspec": {
   "display_name": "Python [hsc_hydro]",
   "language": "python",
   "name": "hsc_hydro"
  },
  "language_info": {
   "codemirror_mode": {
    "name": "ipython",
    "version": 2
   },
   "file_extension": ".py",
   "mimetype": "text/x-python",
   "name": "python",
   "nbconvert_exporter": "python",
   "pygments_lexer": "ipython2",
   "version": "2.7.15"
  }
 },
 "nbformat": 4,
 "nbformat_minor": 2
}
