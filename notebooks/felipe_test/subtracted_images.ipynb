{
 "cells": [
  {
   "cell_type": "code",
   "execution_count": null,
   "metadata": {
    "collapsed": true
   },
   "outputs": [],
   "source": [
    "from __future__ import print_function, \\\n",
    "    division, \\\n",
    "    absolute_import\n",
    "\n",
    "import os\n",
    "\n",
    "import sep\n",
    "import h5py\n",
    "\n",
    "import numpy as np\n",
    "\n",
    "import matplotlib as mpl\n",
    "import matplotlib.pyplot as plt\n",
    "plt.rc('text', usetex=True)\n",
    "\n",
    "from astropy.io import fits\n",
    "from astropy.modeling import models, fitting\n",
    "\n",
    "#---------------------------------------------------------------------------#\n",
    "#User imports\n",
    "import sys\n",
    "sys.path.append('/Users/fardila/Documents/Github/kungpao')\n",
    "from kungpao.galsbp import galSBP\n",
    "from kungpao.display import display_single, random_cmap\n"
   ]
  },
  {
   "cell_type": "code",
   "execution_count": 2,
   "metadata": {},
   "outputs": [],
   "source": [
    "# For Kungpao\n",
    "x_images = '/Users/fardila/anaconda/envs/hsc_hydro/iraf/bin.macosx/x_images.e'\n",
    "x_ttools = '/Users/fardila/anaconda/envs/hsc_hydro/iraf_extern/tables/bin.macosx/x_ttools.e'\n",
    "x_isophote = '/Users/fardila/anaconda/envs/hsc_hydro/iraf_extern/stsdas/bin.macosx/x_isophote.e'\n",
    "#---------------------------------------------------------------------------#\n",
    "\n",
    "#---------------------------------------------------------------------------#\n",
    "# About the Colormaps\n",
    "IMG_CMAP = plt.get_cmap('viridis')\n",
    "IMG_CMAP.set_bad(color='black')\n",
    "\n",
    "SEG_CMAP = random_cmap(ncolors=512, background_color=u'white')\n",
    "SEG_CMAP.set_bad(color='white')\n",
    "SEG_CMAP.set_under(color='white')"
   ]
  },
  {
   "cell_type": "code",
   "execution_count": 3,
   "metadata": {},
   "outputs": [
    {
     "name": "stdout",
     "output_type": "stream",
     "text": [
      "\n",
      "\n",
      "      +------------------------------------------------------------+\n",
      "      |             Space Telescope Tables Package                 |    \n",
      "      |                  TABLES Version 3.17                       |\n",
      "      |                                                            |\n",
      "      |   Space Telescope Science Institute, Baltimore, Maryland   |\n",
      "      |   Copyright (C) 2014 Association of Universities for       |\n",
      "      |            Research in Astronomy, Inc.(AURA)               |\n",
      "      |       See stsdas$copyright.stsdas for terms of use.        |\n",
      "      |         For help, send e-mail to help@stsci.edu            |\n",
      "      +------------------------------------------------------------+\n",
      "tables/:\n",
      " fitsio/        tbplot/         tobsolete/      ttools/\n",
      "\n",
      "\n",
      "      +------------------------------------------------------------+\n",
      "      |       Space Telescope Science Data Analysis System         |    \n",
      "      |                   STSDAS Version 3.17                      |\n",
      "      |                                                            |\n",
      "      |   Space Telescope Science Institute, Baltimore, Maryland   |\n",
      "      |   Copyright (C) 2014 Association of Universities for       |\n",
      "      |            Research in Astronomy, Inc.(AURA)               |\n",
      "      |       See stsdas$copyright.stsdas for terms of use.        |\n",
      "      |         For help, send e-mail to help@stsci.edu            |\n",
      "      |                                                            |\n",
      "      +------------------------------------------------------------+\n",
      "stsdas/:\n",
      " analysis/      examples        hst_calib/      sobsolete/\n",
      " contrib/       fitsio/         playpen/        toolbox/\n",
      " describe       graphics/       problems\n",
      "isophote/:\n",
      " bmodel         geompar@        isomap          magpar@\n",
      " controlpar@    isoexam         isopall         samplepar@\n",
      " ellipse        isoimap         isoplot\n"
     ]
    }
   ],
   "source": [
    "from pyraf import iraf\n",
    "\n",
    "iraf.tables()\n",
    "iraf.stsdas()\n",
    "iraf.analysis()\n",
    "iraf.isophote()\n",
    "\n",
    "iraf.unlearn('ellipse')\n",
    "iraf.unlearn('bmodel')"
   ]
  },
  {
   "cell_type": "code",
   "execution_count": null,
   "metadata": {
    "collapsed": true
   },
   "outputs": [],
   "source": [
    "# Here, we use the stsdas.isophote.analysis.bmodel function to reconstruct \n",
    "# a 2-D model using the isophote information \n",
    "# So that we can subtract it from the original image, and see how well it does.\n",
    "\n",
    "try: \n",
    "    os.remove(fits_prefix + '_cen_ellip_1.fits')\n",
    "except Exception: \n",
    "    pass\n",
    "\n",
    "iraf.bmodel(parent=fits_prefix + '_cen.fits', \n",
    "            table=iso_cen_1_bin,\n",
    "            output=fits_prefix + '_cen_ellip_1.fits',\n",
    "            minsma=0.0,\n",
    "            highar='no')\n",
    "\n",
    "img_cen_ellip_1 = fits.open(fits_prefix + '_cen_ellip_1.fits')[0].data\n",
    "\n",
    "fig = plt.figure(figsize=(8, 8))\n",
    "fig.subplots_adjust(hspace=0.0, wspace=0.0, \n",
    "                    left=0.0, bottom=0.0,\n",
    "                    top=1.0, right=1.0)\n",
    "ax1 = fig.add_subplot(1, 1, 1)\n",
    "\n",
    "ax1 = display_single(img_cen - img_cen_ellip_1, \n",
    "                     ax=ax1,\n",
    "                     contrast=0.15,\n",
    "                     scale_bar_length=20.0,\n",
    "                     scale_bar_loc='right',\n",
    "                     stretch='linear',\n",
    "                     pixel_scale=1.0,\n",
    "                     physical_scale=3.0,\n",
    "                     color_bar=True)\n",
    "\n",
    "# Overplot a subsample of isophotes on the image\n",
    "iso_cen_1_ellip = galSBP.convIso2Ell(iso_cen_1)\n",
    "for ii, e in enumerate(iso_cen_1_ellip):\n",
    "    if (ii % 3 == 0):\n",
    "        ax1.add_artist(e)\n",
    "        e.set_clip_box(ax1.bbox)\n",
    "        e.set_alpha(0.6)\n",
    "        e.set_edgecolor('r')\n",
    "        e.set_facecolor('none')\n",
    "        e.set_linewidth(2.0)\n",
    "\n",
    "# Here, we can see the model becomes off-center quickly, and it reveals many \n",
    "# diffuse features underneath."
   ]
  }
 ],
 "metadata": {
  "kernelspec": {
   "display_name": "Python 2",
   "language": "python",
   "name": "python2"
  },
  "language_info": {
   "codemirror_mode": {
    "name": "ipython",
    "version": 2
   },
   "file_extension": ".py",
   "mimetype": "text/x-python",
   "name": "python",
   "nbconvert_exporter": "python",
   "pygments_lexer": "ipython2",
   "version": "2.7.14"
  }
 },
 "nbformat": 4,
 "nbformat_minor": 2
}
