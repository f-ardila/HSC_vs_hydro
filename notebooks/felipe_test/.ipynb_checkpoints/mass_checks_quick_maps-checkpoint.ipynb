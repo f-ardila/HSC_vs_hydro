{
 "cells": [
  {
   "cell_type": "markdown",
   "metadata": {},
   "source": [
    "# Check `quick` maps (histogram maps without smoothing)"
   ]
  },
  {
   "cell_type": "code",
   "execution_count": 1,
   "metadata": {},
   "outputs": [
    {
     "name": "stdout",
     "output_type": "stream",
     "text": [
      "Created TAP+ (v1.0) - Connection:\n",
      "\tHost: gea.esac.esa.int\n",
      "\tUse HTTPS: False\n",
      "\tPort: 80\n",
      "\tSSL Port: 443\n",
      "\n",
      "\n",
      "      +------------------------------------------------------------+\n",
      "      |             Space Telescope Tables Package                 |    \n",
      "      |                  TABLES Version 3.17                       |\n",
      "      |                                                            |\n",
      "      |   Space Telescope Science Institute, Baltimore, Maryland   |\n",
      "      |   Copyright (C) 2014 Association of Universities for       |\n",
      "      |            Research in Astronomy, Inc.(AURA)               |\n",
      "      |       See stsdas$copyright.stsdas for terms of use.        |\n",
      "      |         For help, send e-mail to help@stsci.edu            |\n",
      "      +------------------------------------------------------------+\n",
      "tables/:\n",
      " fitsio/        tbplot/         tobsolete/      ttools/\n",
      "\n",
      "\n",
      "      +------------------------------------------------------------+\n",
      "      |       Space Telescope Science Data Analysis System         |    \n",
      "      |                   STSDAS Version 3.17                      |\n",
      "      |                                                            |\n",
      "      |   Space Telescope Science Institute, Baltimore, Maryland   |\n",
      "      |   Copyright (C) 2014 Association of Universities for       |\n",
      "      |            Research in Astronomy, Inc.(AURA)               |\n",
      "      |       See stsdas$copyright.stsdas for terms of use.        |\n",
      "      |         For help, send e-mail to help@stsci.edu            |\n",
      "      |                                                            |\n",
      "      +------------------------------------------------------------+\n",
      "stsdas/:\n",
      " analysis/      examples        hst_calib/      sobsolete/\n",
      " contrib/       fitsio/         playpen/        toolbox/\n",
      " describe       graphics/       problems\n",
      "isophote/:\n",
      " bmodel         geompar@        isomap          magpar@\n",
      " controlpar@    isoexam         isopall         samplepar@\n",
      " ellipse        isoimap         isoplot\n"
     ]
    }
   ],
   "source": [
    "#import functions from module\n",
    "import sys\n",
    "sys.path.append('/Users/fardila/Documents/GitHub/HSC_vs_hydro/')\n",
    "from functions import *\n",
    "\n",
    "import numpy as np\n",
    "import os\n",
    "import pickle\n",
    "\n",
    "%matplotlib inline \n",
    "%load_ext autoreload \n",
    "%autoreload 2"
   ]
  },
  {
   "cell_type": "code",
   "execution_count": 2,
   "metadata": {
    "collapsed": true
   },
   "outputs": [],
   "source": [
    "Illustris_file_quick = '/Users/fardila/Documents/GitHub/HSC_vs_hydro/Data/Illustris/galaxies_stellarmaps_orig_11.2.hdf5'"
   ]
  },
  {
   "cell_type": "code",
   "execution_count": 3,
   "metadata": {},
   "outputs": [
    {
     "name": "stdout",
     "output_type": "stream",
     "text": [
      "number of galaxies:  339\n",
      "map size in pixels:  300\n",
      "map size in kpc:  800.0\n",
      "pixel scale:  5.33333333333\n"
     ]
    }
   ],
   "source": [
    "f = h5py.File(Illustris_file_quick, 'r')\n",
    "n_galaxies = len(f['catsh_id'])\n",
    "cat_sh_mstar = np.array(f['catsh_SubhaloMassType'][:, 4])\n",
    "\n",
    "map_size = f['config'].attrs['map_range_min']\n",
    "n_pixels = f['config'].attrs['map_npixel']\n",
    "pixel_scale=2 * (map_size/n_pixels)\n",
    "f.close()\n",
    "\n",
    "print \"number of galaxies: \", n_galaxies\n",
    "print \"map size in pixels: \", n_pixels\n",
    "print \"map size in kpc: \", map_size\n",
    "print \"pixel scale: \", pixel_scale"
   ]
  },
  {
   "cell_type": "code",
   "execution_count": 9,
   "metadata": {
    "collapsed": true
   },
   "outputs": [],
   "source": [
    "def get_mass_map(sim_file, gal_n=0):\n",
    "\n",
    "    # Load general simulation and galaxy properties\n",
    "    f = h5py.File(sim_file, 'r')\n",
    "    #cat_sh_mstar = np.array(f['cat_sh_mstar'])\n",
    "\n",
    "    map_stars_insitu = np.array(f['map_star_rho_insitu_xy'])\n",
    "    map_stars_exsitu = np.array(f['map_star_rho_exsitu_xy'])\n",
    "    map_stars = map_stars_exsitu + map_stars_insitu\n",
    "\n",
    "    map_size = f['config'].attrs['map_range_min']\n",
    "    n_pixels = f['config'].attrs['map_npixel']\n",
    "    pixel_scale=2 * (map_size/n_pixels)\n",
    "    \n",
    "    f.close()\n",
    "\n",
    "    #make maps\n",
    "    img_cen = map_stars[gal_n] * (pixel_scale ** 2) # Central\n",
    "#     img_sat = map_stars[gal_n, 1, 1] * (pixel_scale ** 2) # Satellites\n",
    "#     img_icl = map_stars[gal_n, 2, 1] * (pixel_scale ** 2) # Diffuse\n",
    "#     img_cen_sat = (img_cen + img_sat)           # Central + Satellites\n",
    "#     img_cen_icl = (img_cen + img_icl)           # Central + Satellites\n",
    "#     img_all = (img_cen + img_sat + img_icl)           # Central + Satellites + Diffuse\n",
    "\n",
    "    #convert the image into unit of stellar mass instead of mass density\n",
    "    m_cat = np.log10(cat_sh_mstar[gal_n])\n",
    "    m_post = np.log10(np.sum(img_cen))\n",
    "    \n",
    "    return img_cen"
   ]
  },
  {
   "cell_type": "code",
   "execution_count": 19,
   "metadata": {},
   "outputs": [],
   "source": [
    "illustris_cat_masses=np.log10(cat_sh_mstar)\n",
    "illustris_post_masses=[]\n",
    "\n",
    "for i in range(n_galaxies):\n",
    "  \n",
    "    mass_map=get_mass_map(Illustris_file_quick, gal_n=i)\n",
    "    m_post = np.log10(np.sum(mass_map))    \n",
    "    \n",
    "    illustris_post_masses.append(m_post)"
   ]
  },
  {
   "cell_type": "code",
   "execution_count": 20,
   "metadata": {},
   "outputs": [
    {
     "data": {
      "image/png": "[encoded data removed]",
      "text/plain": [
       "<matplotlib.figure.Figure at 0x1a254639d0>"
      ]
     },
     "metadata": {},
     "output_type": "display_data"
    },
    {
     "name": "stdout",
     "output_type": "stream",
     "text": [
      "12.4148511258 12.4134130896\n"
     ]
    }
   ],
   "source": [
    "plt.imshow(mass_map)\n",
    "plt.show()\n",
    "print illustris_cat_masses[0], illustris_post_masses[0]"
   ]
  },
  {
   "cell_type": "code",
   "execution_count": null,
   "metadata": {
    "collapsed": true
   },
   "outputs": [],
   "source": []
  },
  {
   "cell_type": "code",
   "execution_count": null,
   "metadata": {
    "collapsed": true
   },
   "outputs": [],
   "source": []
  },
  {
   "cell_type": "code",
   "execution_count": null,
   "metadata": {
    "collapsed": true
   },
   "outputs": [],
   "source": []
  },
  {
   "cell_type": "code",
   "execution_count": null,
   "metadata": {
    "collapsed": true
   },
   "outputs": [],
   "source": []
  },
  {
   "cell_type": "markdown",
   "metadata": {},
   "source": [
    "## PLOTS "
   ]
  },
  {
   "cell_type": "code",
   "execution_count": 24,
   "metadata": {},
   "outputs": [
    {
     "data": {
      "image/png": "[encoded data removed]",
      "text/plain": [
       "<matplotlib.figure.Figure at 0x1a27033050>"
      ]
     },
     "metadata": {},
     "output_type": "display_data"
    }
   ],
   "source": [
    "illustris_diff_cat_post = illustris_cat_masses - illustris_post_masses\n",
    "# illustris_diff_cat_post_icl = illustris_m_cat-illustris_m_post_icl\n",
    "# illustris_diff_cat_1d100 = illustris_m_cat-illustris_m_1d_100\n",
    "# illustris_diff_2d_1d_30 = illustris_m_2d_30-illustris_m_1d_30\n",
    "# illustris_diff_cat_1dextrap = illustris_m_cat-illustris_m_extrap\n",
    "\n",
    "\n",
    "# #fit lines\n",
    "# xs=np.linspace(11.2,12.5,100)\n",
    "\n",
    "# illustris_diff_cat_post_params = np.polyfit(illustris_m_cat[illustris_diff_cat_post<100], \n",
    "#                                             illustris_diff_cat_post[illustris_diff_cat_post<100],1)\n",
    "# illustris_diff_cat_post_line = np.poly1d(illustris_diff_cat_post_params)\n",
    "# ########################################################################\n",
    "# illustris_diff_cat_post_icl_params = np.polyfit(illustris_m_cat[illustris_diff_cat_post_icl<100], \n",
    "#                                                 illustris_diff_cat_post_icl[illustris_diff_cat_post_icl<100], 1)\n",
    "# illustris_diff_cat_post_icl_line = np.poly1d(illustris_diff_cat_post_icl_params)\n",
    "# ########################################################################\n",
    "# illustris_diff_cat_1d100_params = np.polyfit(illustris_m_cat[illustris_diff_cat_1d100<100], \n",
    "#                                                 illustris_diff_cat_1d100[illustris_diff_cat_1d100<100], 1)\n",
    "# illustris_diff_cat_1d100_line = np.poly1d(illustris_diff_cat_1d100_params)\n",
    "# ########################################################################\n",
    "# illustris_diff_2d_1d_30_params = np.polyfit(illustris_m_cat[illustris_diff_2d_1d_30<100], \n",
    "#                                                 illustris_diff_2d_1d_30[illustris_diff_2d_1d_30<100], 1)\n",
    "# illustris_diff_2d_1d_30_line = np.poly1d(illustris_diff_2d_1d_30_params)\n",
    "# ########################################################################\n",
    "# illustris_diff_cat_1dextrap_params = np.polyfit(illustris_m_cat[illustris_diff_cat_1dextrap<100], \n",
    "#                                                 illustris_diff_cat_1dextrap[illustris_diff_cat_1dextrap<100], 1)\n",
    "# illustris_diff_cat_1dextrap_line = np.poly1d(illustris_diff_cat_1dextrap_params)\n",
    "\n",
    "plt.figure(figsize=[15,25])\n",
    "ax1=plt.subplot(511)\n",
    "ax2=plt.subplot(512)\n",
    "ax3=plt.subplot(513)\n",
    "ax4=plt.subplot(514)\n",
    "ax5=plt.subplot(515)\n",
    "\n",
    "\n",
    "ax1.scatter(illustris_cat_masses, illustris_diff_cat_post)\n",
    "# ax1.plot(xs, illustris_diff_cat_post_line(xs))\n",
    "ax1.axhline(0,c=\"k\",linewidth=2,linestyle='--')\n",
    "ax1.text(12, 0.05,\n",
    "         'mean: ' + str(round(np.nanmean(illustris_diff_cat_post),4)) + r'$\\pm$ ' + str(round(np.nanstd(illustris_diff_cat_post),3)),\n",
    "         fontsize=15)\n",
    "ax1.set_ylabel(r'$M_{\\star}^{\\mathrm{cat}}$ - $M_{\\star}^{\\mathrm{post}}$', fontsize=40)\n",
    "\n",
    "# ax2.scatter(illustris_m_cat[illustris_diff_cat_post_icl<100], illustris_diff_cat_post_icl[illustris_diff_cat_post_icl<100])\n",
    "# ax2.plot(xs, illustris_diff_cat_post_icl_line(xs))\n",
    "# ax2.axhline(0,c=\"k\",linewidth=2,linestyle='--')\n",
    "# ax2.text(12, 0.05,'linear params: ' + str(illustris_diff_cat_post_icl_params), fontsize=15)\n",
    "# ax2.set_ylabel(r'$M_{\\star}^{\\mathrm{cat}}$ - $M_{\\star}^{\\mathrm{post, diffuse}}$ ', fontsize=40)\n",
    "\n",
    "# ax3.scatter(illustris_m_cat[illustris_diff_cat_1d100<100], illustris_diff_cat_1d100[illustris_diff_cat_1d100<100])\n",
    "# ax3.plot(xs, illustris_diff_cat_1d100_line(xs))\n",
    "# ax3.axhline(0, c=\"k\",linewidth=2, linestyle='--')\n",
    "# ax3.text(12, 0.05,'linear params: ' + str(illustris_diff_cat_1d100_params), fontsize=15)\n",
    "# ax3.set_ylabel(r'$M_{\\star}^{\\mathrm{cat}}$ - $M_{\\star}^{\\mathrm{1d, 100}}$ ', fontsize=40)\n",
    "\n",
    "# ax4.scatter(illustris_m_cat[illustris_diff_2d_1d_30<100], illustris_diff_2d_1d_30[illustris_diff_2d_1d_30<100])\n",
    "# ax4.plot(xs, illustris_diff_2d_1d_30_line(xs))\n",
    "# ax4.axhline(0,c=\"k\",linewidth=2,linestyle='--')\n",
    "# ax4.text(12, 0.05,'linear params: ' + str(illustris_diff_2d_1d_30_params), fontsize=15)\n",
    "# ax4.set_ylabel(r'$M_{\\star}^{\\mathrm{2d, 30}}$ - $M_{\\star}^{\\mathrm{1d, 30}}$ ', fontsize=40)\n",
    "\n",
    "# ax5.scatter(illustris_m_cat[illustris_diff_cat_1dextrap<100], illustris_diff_cat_1dextrap[illustris_diff_cat_1dextrap<100])\n",
    "# ax5.plot(xs, illustris_diff_cat_1dextrap_line(xs))\n",
    "# ax5.axhline(0,c=\"k\",linewidth=2,linestyle='--')\n",
    "# ax5.text(12, 0.05,'linear params: ' + str(illustris_diff_cat_1dextrap_params), fontsize=15)\n",
    "# ax5.set_ylabel(r'$M_{\\star}^{\\mathrm{cat}}$ - $M_{\\star}^{\\mathrm{1d}}$ ', fontsize=40)\n",
    "\n",
    "\n",
    "\n",
    "\n",
    "ax5.set_xlabel('$M_{\\star}^{\\mathrm{cat}}$', fontsize=40)\n",
    "ax1.set_title('Illustris', fontsize=45)\n",
    "#plt.tight_layout()\n",
    "\n",
    "for ax in [ax1,ax2,ax3,ax4,ax5]:\n",
    "    ax.set_ylim([-0.05,0.3])"
   ]
  },
  {
   "cell_type": "code",
   "execution_count": null,
   "metadata": {
    "collapsed": true
   },
   "outputs": [],
   "source": []
  }
 ],
 "metadata": {
  "kernelspec": {
   "display_name": "Python 2",
   "language": "python",
   "name": "python2"
  },
  "language_info": {
   "codemirror_mode": {
    "name": "ipython",
    "version": 2
   },
   "file_extension": ".py",
   "mimetype": "text/x-python",
   "name": "python",
   "nbconvert_exporter": "python",
   "pygments_lexer": "ipython2",
   "version": "2.7.14"
  }
 },
 "nbformat": 4,
 "nbformat_minor": 2
}
