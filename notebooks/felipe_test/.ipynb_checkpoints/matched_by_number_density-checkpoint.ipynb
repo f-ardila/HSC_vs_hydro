{
 "cells": [
  {
   "cell_type": "markdown",
   "metadata": {},
   "source": [
    "# matching to HSC by number density"
   ]
  },
  {
   "cell_type": "code",
   "execution_count": 3,
   "metadata": {
    "collapsed": true
   },
   "outputs": [],
   "source": [
    "import h5py\n",
    "import numpy as np\n",
    "import matplotlib.pyplot as plt\n",
    "import matplotlib.lines as mlines\n",
    "\n",
    "from scipy.interpolate import interp1d\n",
    "\n",
    "from astropy.table import \\\n",
    "    Table, \\\n",
    "    Column, \\\n",
    "    vstack, \\\n",
    "    unique\n",
    "    \n",
    "from astropy.cosmology import FlatLambdaCDM\n",
    "\n",
    "import glob\n",
    "import os\n",
    "import pickle\n",
    "    \n",
    "plt.rc('text', usetex=True)"
   ]
  },
  {
   "cell_type": "code",
   "execution_count": 4,
   "metadata": {
    "collapsed": true
   },
   "outputs": [],
   "source": [
    "def load_pkl(filename):\n",
    "    try:\n",
    "        import cPickle as pickle\n",
    "    except:\n",
    "        warnings.warn(\"## cPickle is not available!!\")\n",
    "        import pickle\n",
    "\n",
    "    if os.path.isfile(filename):\n",
    "        pklFile = open(filename, 'rb')\n",
    "        data = pickle.load(pklFile)\n",
    "        pklFile.close()\n",
    "\n",
    "        return data\n",
    "    else:\n",
    "        warnings.warn(\"## Can not find %s, return None\" % filename)\n",
    "        return None\n",
    "    \n",
    "\n",
    "def get_median_profile(isos, pixel_scale, quantity = 'intens', rmin=0.05, rmax=4.7, nbin=150):\n",
    "    \"\"\"Get the median profiles.\"\"\"\n",
    "    sma_common = np.linspace(rmin, rmax, nbin)\n",
    "    \n",
    "    if quantity == 'intens':\n",
    "        mu = np.nanmedian(np.stack([interp1d((gal['sma'] * pixel_scale) ** 0.25, \n",
    "                                               np.log10(gal[quantity] / (pixel_scale ** 2)),\n",
    "                                               bounds_error=False, \n",
    "                                               fill_value=np.nan, \n",
    "                                               kind='slinear')(sma_common) \n",
    "                               for gal in isos]), axis=0)\n",
    "    elif quantity == 'growth_ori':\n",
    "        mu = np.nanmedian(np.stack([interp1d((gal['sma'] * pixel_scale) ** 0.25, \n",
    "                                               np.log10(gal[quantity]),\n",
    "                                               bounds_error=False, \n",
    "                                               fill_value=np.nan, \n",
    "                                               kind='slinear')(sma_common) \n",
    "                               for gal in isos]), axis=0)\n",
    "    \n",
    "\n",
    "    return sma_common, mu"
   ]
  },
  {
   "cell_type": "code",
   "execution_count": 5,
   "metadata": {
    "collapsed": true
   },
   "outputs": [],
   "source": [
    "#data\n",
    "illustris_masses_file = '/Users/fardila/Documents/GitHub/HSC_vs_hydro/Data/Illustris/illustris_1d_masses.npy'\n",
    "tng_masses_file = '/Users/fardila/Documents/GitHub/HSC_vs_hydro/Data/TNG/tng_1d_masses.npy'\n",
    "\n",
    "illustris_iso_file = '/Users/fardila/Documents/GitHub/HSC_vs_hydro/Data/Illustris/Illustris_isos_quick.pkl'\n",
    "\n",
    "HSC_file = '/Users/fardila/Documents/GitHub/HSC_vs_hydro/Data/HSC/s16a_wide_massive_fastlane_imgsub_master_use_camira.fits'"
   ]
  },
  {
   "cell_type": "code",
   "execution_count": 6,
   "metadata": {
    "collapsed": true
   },
   "outputs": [],
   "source": [
    "#masses\n",
    "illustris_masses_1d = np.load(illustris_masses_file)\n",
    "illustris_m_1d_100 = np.array([gal[2] for gal in illustris_masses_1d])\n",
    "\n",
    "#isos\n",
    "illustris_isos = load_pkl(illustris_iso_file)"
   ]
  },
  {
   "cell_type": "code",
   "execution_count": 7,
   "metadata": {
    "collapsed": true
   },
   "outputs": [],
   "source": [
    "def compute_smf(log_masses, volume, n_bins, min_mass=None, max_mass=None):\n",
    "    \"\"\"\n",
    "    Parameters\n",
    "    ----------\n",
    "    log_masses: ndarray\n",
    "        Array of stellar mass values in log10 values\n",
    "\n",
    "    volume : float\n",
    "        volume of data in comoving Mpc^3\n",
    "\n",
    "    n_bins : number of bins\n",
    "\n",
    "    min_mass : min mass\n",
    "\n",
    "    max_mass : max mass\n",
    "\n",
    "    Returns\n",
    "    -------\n",
    "    m_centers : ndarray\n",
    "        mass bin centers (x axis of SMF) in units of log10 M*\n",
    "\n",
    "    log_phi : ndarray in units of dn / dlogM* in units of Mpc^-3 dex^-1\n",
    "\n",
    "    log_err : ndarray\n",
    "        log of Poisson error\n",
    "    \"\"\"\n",
    "    if not min_mass:\n",
    "        min_mass = min(log_masses)\n",
    "    if not max_mass:\n",
    "        max_mass = max(log_masses)\n",
    "     \n",
    "    #Unnormalized histogram and bin edges\n",
    "    Phi,edg = np.histogram(log_masses,bins=n_bins, range=[min_mass, max_mass]) \n",
    "    \n",
    "    # Poisson error\n",
    "    err = np.sqrt(Phi)\n",
    "    \n",
    "    #Bin size\n",
    "    dM    = edg[1] - edg[0]                 \n",
    "    m_centers   = edg[0:-1] + dM/2.           \n",
    "    \n",
    "    #Normalize to volume and bin size\n",
    "    Phi   = Phi / float(volume) / dM        \n",
    "    log_phi= np.log10(Phi) \n",
    "\n",
    "    # Also normalize the error\n",
    "    err = err / float(volume) / dM \n",
    "    \n",
    "    return m_centers, Phi, err"
   ]
  },
  {
   "cell_type": "code",
   "execution_count": null,
   "metadata": {
    "collapsed": true
   },
   "outputs": [],
   "source": []
  },
  {
   "cell_type": "markdown",
   "metadata": {},
   "source": [
    "# Params"
   ]
  },
  {
   "cell_type": "code",
   "execution_count": 8,
   "metadata": {},
   "outputs": [
    {
     "name": "stdout",
     "output_type": "stream",
     "text": [
      "pixel scale:  5.33333333333\n"
     ]
    }
   ],
   "source": [
    "# h0 \n",
    "HSMALL = 0.70\n",
    "H0 = 70.0\n",
    "\n",
    "# S16A \n",
    "S16A_AREA = 144.7  # deg^2\n",
    "\n",
    "#Illlustris\n",
    "volume_illustris=106.5**3 #Mpc^3\n",
    "sm_min=11.2\n",
    "sm_max=12.4\n",
    "\n",
    "pixel_scale=2.*800./300 #kpc/pixel\n",
    "print 'pixel scale: ', pixel_scale"
   ]
  },
  {
   "cell_type": "code",
   "execution_count": 9,
   "metadata": {
    "collapsed": true
   },
   "outputs": [],
   "source": [
    "n_bins_hsc = 10\n",
    "n_bins_illustris= 4"
   ]
  },
  {
   "cell_type": "markdown",
   "metadata": {},
   "source": [
    "## HSC "
   ]
  },
  {
   "cell_type": "code",
   "execution_count": 117,
   "metadata": {},
   "outputs": [
    {
     "name": "stdout",
     "output_type": "stream",
     "text": [
      "12.2632\n",
      "10.7527\n",
      "# Volume for Horizon : 102635118.944925 Mpc^3\n"
     ]
    }
   ],
   "source": [
    "#HSC\n",
    "fastMaster = Table.read(HSC_file, format='fits')\n",
    "\n",
    "hsc_m_100 = fastMaster['logm_100']\n",
    "\n",
    "print max(fastMaster['MSTAR'])\n",
    "print min(fastMaster['MSTAR'])\n",
    "\n",
    "\n",
    "# fastPhotoz = Table.read(os.path.join(envir['sbpsum'],'s16a_wide_massive_fastlane_pzbright_imgsub_master_use.fits'),\n",
    "#     format='fits')\n",
    "\n",
    "\n",
    "# Stellar mass function\n",
    "cosmo = FlatLambdaCDM(H0=H0, Om0=0.300)\n",
    "s16a_vol = ((cosmo.comoving_volume(0.52) - cosmo.comoving_volume(0.19)) * \n",
    "            (S16A_AREA / 41253.0)).value\n",
    "print(\"# Volume for Horizon : %f Mpc^3\" % s16a_vol)\n",
    "m_hsc, smf_hsc, err_hsc = compute_smf(fastMaster['MSTAR'], s16a_vol, n_bins)\n",
    "\n",
    "m100_hsc, smf100_hsc, err100_hsc = compute_smf(fastMaster['logm_100'], s16a_vol, n_bins_hsc)\n",
    "m30_hsc, smf30_hsc, err30_hsc = compute_smf(fastMaster['logm_30'], s16a_vol, n_bins_hsc)\n",
    "\n",
    "s16aMLow1 = np.nanpercentile(smf_hsc, 3.0, axis=0)\n",
    "s16aMUpp1 = np.nanpercentile(smf_hsc, 97.0, axis=0)\n",
    "s16aMMed1 = np.nanmedian(smf_hsc, axis=0)\n",
    "\n",
    "#profile data\n",
    "hsc_data='/Users/fardila/Documents/Github/HSC_vs_hydro/Data/HSC/'\n",
    "hscMedProf_114_116 = np.load(hsc_data+'s16a_wide2_massive_logm100_11.4_11.6.medprof.npy')[0]\n",
    "hscMedProf_116_118 = np.load(hsc_data+'s16a_wide2_massive_logm100_11.6_11.8.medprof.npy')[0]\n",
    "hscMedProf_118_120 = np.load(hsc_data+'s16a_wide2_massive_logm100_11.8_12.0.medprof.npy')[0]\n",
    "\n",
    "# Universal RSMA array\n",
    "RSMA_COMMON = np.arange(0.4, 4.2, 0.01)"
   ]
  },
  {
   "cell_type": "markdown",
   "metadata": {},
   "source": []
  },
  {
   "cell_type": "markdown",
   "metadata": {},
   "source": [
    "# SMFs "
   ]
  },
  {
   "cell_type": "code",
   "execution_count": 49,
   "metadata": {
    "collapsed": true
   },
   "outputs": [],
   "source": [
    "m_illustris, smf_illustris, err_illustris = compute_smf(illustris_m_1d_100, volume_illustris,n_bins_illustris)\n",
    "# m_tng, smf_tng, err_tng = compute_smf(tng_m_cat, volume_illustris,n_bins)"
   ]
  },
  {
   "cell_type": "code",
   "execution_count": 55,
   "metadata": {},
   "outputs": [
    {
     "name": "stdout",
     "output_type": "stream",
     "text": [
      "[-3.31941388 -3.41833919 -3.93786429 -4.57468639]\n",
      "[-4.10402089 -3.93270469 -3.8006991  -3.73545363 -3.78366576 -4.01499471\n",
      " -4.38309631 -4.87262682 -5.47739271 -6.47739271]\n"
     ]
    }
   ],
   "source": [
    "print np.log10(smf_illustris)\n",
    "print np.log10(smf100_hsc)"
   ]
  },
  {
   "cell_type": "code",
   "execution_count": 56,
   "metadata": {},
   "outputs": [
    {
     "data": {
      "image/png": "[encoded data removed]",
      "text/plain": [
       "<matplotlib.figure.Figure at 0x11aad8590>"
      ]
     },
     "metadata": {},
     "output_type": "display_data"
    }
   ],
   "source": [
    "plt.plot(m_illustris, np.log10(smf_illustris))\n",
    "plt.plot(m100_hsc, np.log10(smf100_hsc))\n",
    "plt.axhline(-4.57468639)\n",
    "plt.axhline(-3.73545363)\n",
    "plt.show()"
   ]
  },
  {
   "cell_type": "code",
   "execution_count": 84,
   "metadata": {
    "collapsed": true
   },
   "outputs": [],
   "source": [
    "# x=np.linspace(-5,-3,10)\n",
    "m_illustris_low = interp1d(np.log10(smf_illustris), m_illustris, fill_value='extrapolate')(-3.73545363)\n",
    "m_illustris_high = interp1d(np.log10(smf_illustris), m_illustris, fill_value='extrapolate')(-4.57468639)\n",
    "\n",
    "m_hsc_low = interp1d(np.log10(smf100_hsc), m100_hsc, fill_value='extrapolate')(-3.73545363)\n",
    "m_hsc_high = interp1d(np.log10(smf100_hsc), m100_hsc, fill_value='extrapolate')(-4.57468639)"
   ]
  },
  {
   "cell_type": "code",
   "execution_count": 96,
   "metadata": {},
   "outputs": [
    {
     "data": {
      "image/png": "[encoded data removed]",
      "text/plain": [
       "<matplotlib.figure.Figure at 0x11f1ca1d0>"
      ]
     },
     "metadata": {},
     "output_type": "display_data"
    }
   ],
   "source": [
    "plt.plot(m_illustris, np.log10(smf_illustris), label='illustris')\n",
    "plt.plot(m100_hsc, np.log10(smf100_hsc), label='hsc')\n",
    "plt.axhline(-4.57468639)\n",
    "plt.axhline(-3.73545363)\n",
    "\n",
    "# plt.axvline(m_illustris_low, c='r')\n",
    "# plt.axvline(m_illustris_high, c='g')\n",
    "# plt.axvline(m_hsc_low, c='r')\n",
    "# plt.axvline(m_hsc_high, c='g')\n",
    "\n",
    "plt.legend()\n",
    "plt.xlabel(r'$M_100$')\n",
    "plt.ylabel('log(phi)')\n",
    "plt.show()"
   ]
  },
  {
   "cell_type": "markdown",
   "metadata": {},
   "source": [
    "### find Illustris galaxies in this mass range "
   ]
  },
  {
   "cell_type": "code",
   "execution_count": 87,
   "metadata": {
    "collapsed": true
   },
   "outputs": [],
   "source": [
    "illustris_galaxies_in_range = illustris_m_1d_100[(illustris_m_1d_100>m_illustris_low) \\\n",
    "                                                 & (illustris_m_1d_100<m_illustris_high)]"
   ]
  },
  {
   "cell_type": "code",
   "execution_count": 88,
   "metadata": {},
   "outputs": [
    {
     "data": {
      "text/plain": [
       "array([ 11.99668755,  11.88766575,  11.86032596,  11.89219268,\n",
       "        12.02630092,  12.01654294,  11.72882217,  11.68625112,\n",
       "        11.82950628,  11.70985466,  11.88664424,  11.72333228,\n",
       "        11.69676141,  11.77802118,  11.84441657,  11.73576554,\n",
       "        11.67417937,  11.79895627,  11.82447662,  11.8182714 ,\n",
       "        11.7588756 ,  11.79358776,  11.76216819,  11.70037213,\n",
       "        11.74883225,  11.71497238,  11.69388618,  11.68526278,\n",
       "        11.80914448,  11.87171852,  11.80774745,  11.7041328 ,\n",
       "        11.73330839,  11.69008013,  11.66214572])"
      ]
     },
     "execution_count": 88,
     "metadata": {},
     "output_type": "execute_result"
    }
   ],
   "source": [
    "illustris_galaxies_in_range"
   ]
  },
  {
   "cell_type": "markdown",
   "metadata": {},
   "source": [
    "### find HSC galaxies in this mass range  "
   ]
  },
  {
   "cell_type": "code",
   "execution_count": 91,
   "metadata": {
    "collapsed": true
   },
   "outputs": [],
   "source": [
    "hsc_galaxies_in_range = hsc_m_100[(hsc_m_100>m_hsc_low) \\\n",
    "                                                 & (hsc_m_100<m_hsc_high)]"
   ]
  },
  {
   "cell_type": "code",
   "execution_count": 93,
   "metadata": {},
   "outputs": [
    {
     "data": {
      "text/plain": [
       "(11.806282046569439, 11.40953541374159)"
      ]
     },
     "execution_count": 93,
     "metadata": {},
     "output_type": "execute_result"
    }
   ],
   "source": [
    "max(hsc_galaxies_in_range), min(hsc_galaxies_in_range)"
   ]
  },
  {
   "cell_type": "code",
   "execution_count": null,
   "metadata": {
    "collapsed": true
   },
   "outputs": [],
   "source": []
  },
  {
   "cell_type": "markdown",
   "metadata": {},
   "source": [
    "# NO SMF "
   ]
  },
  {
   "cell_type": "markdown",
   "metadata": {},
   "source": [
    "New plan: Get HSC number density of top most massive galaxies (M_100 > 11.8). Number divided by volume. Multiply that number density by Illustris volume to get Illustris number of top galaxies. Compare those."
   ]
  },
  {
   "cell_type": "code",
   "execution_count": 1,
   "metadata": {
    "collapsed": true
   },
   "outputs": [],
   "source": [
    "HSC_n = 3.501257690237704e-06\n",
    "\n",
    "#add 10% because 10% of HSC galaxies do not have useful 1-D profile due to various reasons\n",
    "HSC_n = HSC_n*1.1"
   ]
  },
  {
   "cell_type": "code",
   "execution_count": 10,
   "metadata": {},
   "outputs": [
    {
     "name": "stdout",
     "output_type": "stream",
     "text": [
      "4\n"
     ]
    }
   ],
   "source": [
    "Illustris_N = int(volume_illustris * HSC_n)\n",
    "print Illustris_N"
   ]
  },
  {
   "cell_type": "code",
   "execution_count": 111,
   "metadata": {
    "collapsed": true
   },
   "outputs": [],
   "source": [
    "def get_top_galaxies(isos, masses, n):\n",
    "    combo = zip(isos, masses)\n",
    "    combo.sort(key = lambda t: t[1], reverse=True)\n",
    "    \n",
    "#     print [c[1] for c in combo[:n]]\n",
    "    return [c[0] for c in combo[:n]]\n",
    "        \n",
    "    "
   ]
  },
  {
   "cell_type": "code",
   "execution_count": 172,
   "metadata": {},
   "outputs": [
    {
     "name": "stdout",
     "output_type": "stream",
     "text": [
      "[12.189743936667702, 12.144243869116245, 12.132747052922708, 12.087181825632131]\n"
     ]
    }
   ],
   "source": [
    "illustris_top_isos = get_top_galaxies(illustris_isos, illustris_m_1d_100, Illustris_N)"
   ]
  },
  {
   "cell_type": "markdown",
   "metadata": {},
   "source": [
    "## PLOTS"
   ]
  },
  {
   "cell_type": "code",
   "execution_count": 173,
   "metadata": {},
   "outputs": [
    {
     "data": {
      "image/png": "[encoded data removed]",
      "text/plain": [
       "<matplotlib.figure.Figure at 0x1268c7450>"
      ]
     },
     "metadata": {},
     "output_type": "display_data"
    }
   ],
   "source": [
    "from decimal import Decimal\n",
    "\n",
    "#mass range1\n",
    "illustris_isos1=[]\n",
    "ngals1=0\n",
    "\n",
    "#plot\n",
    "fig =plt.figure(figsize=(15, 10))\n",
    "ax1 = plt.subplot()\n",
    "\n",
    "######################################################################################################################\n",
    "# plot\n",
    "######################################################################################################################\n",
    "#hsc\n",
    "plt.plot(RSMA_COMMON, hscMedProf_118_120, linestyle='--', linewidth=4.0, c='k',\n",
    "         alpha=1, zorder=8, label='HSC')\n",
    "  \n",
    "\n",
    "\n",
    "for iso in illustris_top_isos:   \n",
    "    \n",
    "        illustris_isos1.append(iso)\n",
    "\n",
    "        ax1.plot((iso['sma'] * pixel_scale) ** 0.25,\n",
    "             np.log10(iso['intens'] / (pixel_scale**2.0))+ np.log10(0.7 ** 2.0) , linewidth=1.0, c=u'#d62728', alpha=0.2, \n",
    "                 label='_nolegend_')\n",
    "                 #label='Illustris Galaxy '+str(i)+': $M_{\\star} = $'+str(round(m_star,1)))\n",
    "            \n",
    "       ## median profiles for illustris\n",
    "median_sma1, median_mu1 = get_median_profile(illustris_isos1, pixel_scale = pixel_scale)\n",
    "ax1.plot(median_sma1, median_mu1+ np.log10(0.7 ** 2.0), linewidth=4.0, c=u'#d62728', alpha=1, label='Illustris')\n",
    "\n",
    "\n",
    "\n",
    "\n",
    "######################################################################################################################\n",
    "# plot details\n",
    "######################################################################################################################\n",
    "# # X-Y limits\n",
    "ax1.set_xlim(0.9, 4.5)\n",
    "ax1.set_ylim(4, 10)\n",
    "\n",
    "ax1.tick_params(axis='both', which='major', labelsize=30)\n",
    "\n",
    "#text label\n",
    "ax1.text(1.8, 4.5, r'$n = $ {:01.2E} Mpc$^{{-3}}$'.format(HSC_n), size=30)\n",
    "\n",
    "ax1.legend(fontsize=20)\n",
    "\n",
    "#add twin x axis in kpc\n",
    "x1, x2 = ax1.get_xlim()\n",
    "ax1_twin = ax1.twiny()\n",
    "ax1_twin.set_xlim(x1, x2)\n",
    "ax1_twin.figure.canvas.draw()\n",
    "ax1_twin.xaxis.set_ticks([2**0.25, 5**0.25, 10**0.25, 50**0.25, 100**0.25, 200**0.25, 300**0.25])\n",
    "ax1_twin.xaxis.set_ticklabels([2, 5, 10, 50, 100, 200, 300])\n",
    "ax1_twin.tick_params(axis='both', which='major', labelsize=15)\n",
    "ax1_twin.set_xlabel(r'$R \\: [kpc]$', fontsize=25)\n",
    "\n",
    "######################################################################################################################\n",
    "\n",
    "#axis labels and vertical lines\n",
    "ax1.set_xlabel(r'$R^{1/4} \\: [kpc^{1/4}]$', fontsize=30)\n",
    "ax1.set_ylabel(r'$\\mu_{\\star}\\ [\\log (M_{\\odot})/\\mathrm{kpc}^2]$', fontsize=30)\n",
    "ax1.axvline(100.0 ** 0.25, linestyle='--', linewidth=3.0, alpha=0.6)\n",
    "ax1.axvline(6.0 ** 0.25, linestyle='-', linewidth=3.0, alpha=0.6, c='r')\n",
    "\n",
    "######################################################################################################################\n",
    "#adjustments to ticks and space between subplots\n",
    "\n",
    "# fig.savefig('/Users/fardila/Documents/GitHub/HSC_vs_hydro/Plots/surface_brightness_Illustris.pdf',\n",
    "#             dpi=100, format='pdf', bbox_inches='tight')\n",
    "\n",
    "plt.show()"
   ]
  },
  {
   "cell_type": "code",
   "execution_count": null,
   "metadata": {
    "collapsed": true
   },
   "outputs": [],
   "source": []
  },
  {
   "cell_type": "code",
   "execution_count": null,
   "metadata": {
    "collapsed": true
   },
   "outputs": [],
   "source": []
  },
  {
   "cell_type": "code",
   "execution_count": null,
   "metadata": {
    "collapsed": true
   },
   "outputs": [],
   "source": []
  }
 ],
 "metadata": {
  "kernelspec": {
   "display_name": "Python 2",
   "language": "python",
   "name": "python2"
  },
  "language_info": {
   "codemirror_mode": {
    "name": "ipython",
    "version": 2
   },
   "file_extension": ".py",
   "mimetype": "text/x-python",
   "name": "python",
   "nbconvert_exporter": "python",
   "pygments_lexer": "ipython2",
   "version": "2.7.14"
  }
 },
 "nbformat": 4,
 "nbformat_minor": 2
}
