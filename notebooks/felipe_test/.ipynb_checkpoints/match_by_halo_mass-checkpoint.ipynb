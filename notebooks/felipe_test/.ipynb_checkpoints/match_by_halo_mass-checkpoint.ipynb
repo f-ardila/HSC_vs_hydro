{
 "cells": [
  {
   "cell_type": "code",
   "execution_count": 1,
   "metadata": {},
   "outputs": [
    {
     "name": "stderr",
     "output_type": "stream",
     "text": [
      "/Users/fardila/anaconda/envs/hsc_hydro/lib/python2.7/site-packages/h5py/__init__.py:36: FutureWarning: Conversion of the second argument of issubdtype from `float` to `np.floating` is deprecated. In future, it will be treated as `np.float64 == np.dtype(float).type`.\n",
      "  from ._conv import register_converters as _register_converters\n"
     ]
    }
   ],
   "source": [
    "import numpy as np\n",
    "import h5py\n",
    "from scipy.interpolate import interp1d\n",
    "import matplotlib.pyplot as plt\n",
    "import matplotlib.lines as mlines\n",
    "from matplotlib import gridspec\n",
    "plt.rc('text', usetex=True)\n",
    "\n",
    "\n",
    "import glob\n",
    "import os\n",
    "import pickle\n",
    "import sys\n",
    "\n",
    "from astropy.table import Table\n",
    "\n",
    "# sys.path.append('/Users/fardila/Documents/GitHub/HSC_vs_hydro/')\n",
    "# from functions import *"
   ]
  },
  {
   "cell_type": "code",
   "execution_count": 2,
   "metadata": {},
   "outputs": [],
   "source": [
    "Illustris_file_quick = '/Users/fardila/Documents/GitHub/HSC_vs_hydro/Data/Illustris/galaxies_stellarmaps_orig_11.2.hdf5'\n",
    "TNG_file_quick = '/Users/fardila/Documents/GitHub/HSC_vs_hydro/Data/TNG/galaxies_stellarmaps_tng75_11.2.hdf5'"
   ]
  },
  {
   "cell_type": "markdown",
   "metadata": {},
   "source": [
    "# HSC"
   ]
  },
  {
   "cell_type": "code",
   "execution_count": null,
   "metadata": {},
   "outputs": [],
   "source": []
  },
  {
   "cell_type": "code",
   "execution_count": null,
   "metadata": {},
   "outputs": [],
   "source": []
  },
  {
   "cell_type": "code",
   "execution_count": null,
   "metadata": {},
   "outputs": [],
   "source": []
  },
  {
   "cell_type": "code",
   "execution_count": null,
   "metadata": {},
   "outputs": [],
   "source": []
  },
  {
   "cell_type": "markdown",
   "metadata": {},
   "source": [
    "# Illustris "
   ]
  },
  {
   "cell_type": "code",
   "execution_count": 3,
   "metadata": {},
   "outputs": [],
   "source": [
    "sim_file = Illustris_file_quick\n",
    "\n",
    "f = h5py.File(sim_file, 'r')\n",
    "cat_sh_mstar = np.array(f['catsh_SubhaloMassType'][:, 4])\n",
    "cat_sh_m_dm = np.array(f['catsh_SubhaloMassType'][:, 1])\n",
    "# cen_insitu = np.array(f['map_star_rho_insitu_xy'])\n",
    "# cen_exsitu = np.array(f['map_star_rho_exsitu_xy'])\n",
    "# map_stars_cen = cen_exsitu + cen_insitu\n",
    "\n",
    "# fuzz_insitu = np.array(f['map_star_rho_fuzz_insitu_xy'])\n",
    "# fuzz_exsitu = np.array(f['map_star_rho_fuzz_exsitu_xy'])\n",
    "# map_stars_fuzz = fuzz_exsitu + fuzz_insitu\n",
    "\n",
    "# sats_insitu = np.array(f['map_star_rho_oshs_insitu_xy'])\n",
    "# sats_exsitu = np.array(f['map_star_rho_oshs_exsitu_xy'])\n",
    "# map_stars_sats = sats_exsitu + sats_insitu\n",
    "\n",
    "map_size = f['config'].attrs['map_range_min']\n",
    "n_pixels = f['config'].attrs['map_npixel']\n",
    "pixel_scale=2 * (map_size/n_pixels)"
   ]
  },
  {
   "cell_type": "code",
   "execution_count": 4,
   "metadata": {},
   "outputs": [
    {
     "data": {
      "text/plain": [
       "5.333333333333333"
      ]
     },
     "execution_count": 4,
     "metadata": {},
     "output_type": "execute_result"
    }
   ],
   "source": [
    "pixel_scale"
   ]
  },
  {
   "cell_type": "code",
   "execution_count": 5,
   "metadata": {},
   "outputs": [
    {
     "data": {
      "image/png": "[encoded data removed]",
      "text/plain": [
       "<Figure size 432x288 with 1 Axes>"
      ]
     },
     "metadata": {},
     "output_type": "display_data"
    }
   ],
   "source": [
    "plt.hist(cat_sh_m_dm, bins=np.logspace(12,15,20))\n",
    "plt.xscale('log')\n",
    "plt.show()"
   ]
  },
  {
   "cell_type": "code",
   "execution_count": null,
   "metadata": {
    "collapsed": true
   },
   "outputs": [],
   "source": [
    "# fig, (ax1, ax2, ax3) = plt.subplots(1,3, sharey=False, figsize=(10*3, 10))\n",
    "# fig.subplots_adjust(left=0.22, right=0.995, bottom=0.14, top=0.94, wspace=0.00, hspace=0.00)\n",
    "fig=plt.figure(figsize=(10*6, 10))\n",
    "gs1 = gridspec.GridSpec(1, 3)\n",
    "gs1.update(left=0.05, right=0.48, wspace=0.0)\n",
    "ax1 = plt.subplot(gs1[0, 0])\n",
    "ax2 = plt.subplot(gs1[0, 1])\n",
    "gs2 = gridspec.GridSpec(1, 3)\n",
    "gs2.update(left=0.05, right=0.48, wspace=0.3)\n",
    "ax3 = plt.subplot(gs2[0, -1])\n",
    "\n",
    "\n",
    "######################################################################################################################\n",
    "# plot\n",
    "######################################################################################################################\n",
    "#hsc\n",
    "ax1.plot(RSMA_COMMON, hscMedProf_116_118, linestyle='--', linewidth=4.0, c='k',\n",
    "         alpha=1, zorder=8, label='HSC')\n",
    "ax2.plot(RSMA_COMMON, hscMedProf_118_120, linestyle='--', linewidth=4.0, c='k',\n",
    "         alpha=1, zorder=8, label='HSC')\n",
    "  \n",
    "\n",
    "\n",
    "for masses, iso in zip(tng_masses, tng_isos):   \n",
    "    \n",
    "#     cat_mass = masses[0] \n",
    "#     summed_mass = galaxy[2] \n",
    "#     fit_mass = iso_tng['mag_tot'][0]/-2.5 \n",
    "    m_100_1d = masses[5] \n",
    "    \n",
    "    \n",
    "    if (m_100_1d<11.6) or (m_100_1d>12.0):\n",
    "        continue\n",
    "\n",
    "    elif (m_100_1d>=11.6) and (m_100_1d<11.8):\n",
    "        ngals1+=1\n",
    "\n",
    "        tng_isos1.append(iso)\n",
    "\n",
    "        ax1.plot((iso['sma'] * pixel_scale) ** 0.25,\n",
    "             np.log10(iso['intens'] / (pixel_scale**2))+ np.log10(0.7 ** 2.0) , linewidth=1.0, c=u'#1f77b4', alpha=0.2, \n",
    "                 label='_nolegend_')\n",
    "                 #label='tng Galaxy '+str(i)+': $M_{\\star} = $'+str(round(m_star,1)))\n",
    "            \n",
    "        #cumulative mass  \n",
    "        ax3.plot((iso['sma'] * pixel_scale) ** 0.25,\n",
    "             np.log10(iso['growth_ori']), linewidth=1.0, c=u'#1f77b4', alpha=0.2, label='_nolegend_')\n",
    "                 #label='tng Galaxy '+str(i)+': $M_{\\star} = $'+str(round(m_star,1)))\n",
    "\n",
    "        \n",
    "    elif (m_100_1d>=11.8) and (m_100_1d<12.0):\n",
    "        ngals2+=1\n",
    "        \n",
    "        tng_isos2.append(iso)\n",
    "\n",
    "        ax2.plot((iso['sma'] * pixel_scale) ** 0.25,\n",
    "             np.log10(iso['intens'] / (pixel_scale**2))+ np.log10(0.7 ** 2.0), linewidth=1.0, c=u'#1f77b4', alpha=0.2, \n",
    "                 label='_nolegend_')\n",
    "                 #label='tng Galaxy '+str(i)+': $M_{\\star} = $'+str(round(m_star,1)))\n",
    "\n",
    "        #cumulative mass\n",
    "        ax3.plot((iso['sma'] * pixel_scale) ** 0.25,\n",
    "             np.log10(iso['growth_ori']), linewidth=1.0, c=u'#1f77b4', alpha=0.2, label='_nolegend_')\n",
    "                 #label='tng Galaxy '+str(i)+': $M_{\\star} = $'+str(round(m_star,1)))\n",
    "\n",
    "\n",
    "## median profiles for tng\n",
    "median_sma1, median_mu1 = get_median_profile(tng_isos1, pixel_scale = pixel_scale)\n",
    "median_sma2, median_mu2 = get_median_profile(tng_isos2, pixel_scale = pixel_scale)\n",
    "median_sma, median_mu = get_median_profile(tng_isos1+tng_isos2, \n",
    "                                           pixel_scale = pixel_scale, quantity='growth_ori')\n",
    "\n",
    "ax1.plot(median_sma1, median_mu1+ np.log10(0.7 ** 2.0), linewidth=4.0, c=u'#1f77b4', alpha=1, label='TNG')\n",
    "ax2.plot(median_sma2, median_mu2+ np.log10(0.7 ** 2.0), linewidth=4.0, c=u'#1f77b4', alpha=1, label='TNG')\n",
    "ax3.plot(median_sma, median_mu, linewidth=4.0, c=u'#1f77b4', alpha=1, label='TNG')\n",
    "\n",
    "\n",
    "\n",
    "print ngals1, ngals2\n",
    "\n",
    "\n",
    "######################################################################################################################\n",
    "# plot details\n",
    "######################################################################################################################\n",
    "# # X-Y limits\n",
    "ax1.set_xlim(0.9, 4.5)\n",
    "ax1.set_ylim(4, 10)\n",
    "ax2.set_xlim(0.9, 4.5)\n",
    "ax2.set_ylim(4, 10)\n",
    "ax3.set_xlim(0.9, 4.5)\n",
    "ax3.set_ylim(9.5, 12)\n",
    "\n",
    "# Labels\n",
    "# ax1.set_xlabel(r'$\\log\\ (M_{\\star}/M_{\\odot})$', \n",
    "#                size=60)\n",
    "# ax1.set_ylabel(r'$\\mathrm{d}N/\\mathrm{d}\\log M_{\\star}\\ [{\\mathrm{Mpc}^{-3}}{\\mathrm{dex}^{-1}}]$', \n",
    "#                size=60)\n",
    "ax1.tick_params(axis='both', which='major', labelsize=30)\n",
    "ax2.tick_params(axis='x', which='major', labelsize=30)\n",
    "ax3.tick_params(axis='both', which='major', labelsize=30)\n",
    "\n",
    "# #ax1.text(11.8, -3.7, r'$\\mathrm{Normalized}$', size=60)\n",
    "# ax1.axvline(11.6, linestyle='--', linewidth=4.0, alpha=0.8, zorder=0)\n",
    "\n",
    "#text label\n",
    "ax1.text(1.65, 4.2, r'$11.6<M_{100}<11.8$', size=30)\n",
    "ax2.text(1.65, 4.2, r'$11.8<M_{100}<12.0$', size=30)\n",
    "ax3.text(1.65, 9.6, r'$11.6<M_{100}<12.0$', size=30)\n",
    "\n",
    "ax1.legend(fontsize=20)\n",
    "\n",
    "#add twin x axis in kpc\n",
    "x1, x2 = ax1.get_xlim()\n",
    "ax1_twin = ax1.twiny()\n",
    "ax1_twin.set_xlim(x1, x2)\n",
    "ax1_twin.figure.canvas.draw()\n",
    "ax1_twin.xaxis.set_ticks([2**0.25, 5**0.25, 10**0.25, 50**0.25, 100**0.25, 200**0.25, 300**0.25])\n",
    "ax1_twin.xaxis.set_ticklabels([2, 5, 10, 50, 100, 200, 300])\n",
    "ax1_twin.tick_params(axis='both', which='major', labelsize=15)\n",
    "ax1_twin.set_xlabel(r'$R \\: [kpc]$', fontsize=25)\n",
    "\n",
    "x1, x2 = ax2.get_xlim()\n",
    "ax2_twin = ax2.twiny()\n",
    "ax2_twin.set_xlim(x1, x2)\n",
    "ax2_twin.figure.canvas.draw()\n",
    "ax2_twin.xaxis.set_ticks([2**0.25, 5**0.25, 10**0.25, 50**0.25, 100**0.25, 200**0.25, 300**0.25])\n",
    "ax2_twin.xaxis.set_ticklabels([2, 5, 10, 50, 100, 200, 300])\n",
    "ax2_twin.tick_params(axis='both', which='major', labelsize=15)\n",
    "ax2_twin.set_xlabel(r'$R \\: [kpc]$', fontsize=25)\n",
    "\n",
    "x1, x2 = ax3.get_xlim()\n",
    "ax3_twin = ax3.twiny()\n",
    "ax3_twin.set_xlim(x1, x2)\n",
    "ax3_twin.figure.canvas.draw()\n",
    "ax3_twin.xaxis.set_ticks([2**0.25, 5**0.25, 10**0.25, 50**0.25, 100**0.25, 200**0.25, 300**0.25])\n",
    "ax3_twin.xaxis.set_ticklabels([2, 5, 10, 50, 100, 200, 300])\n",
    "ax3_twin.tick_params(axis='both', which='major', labelsize=15)\n",
    "ax3_twin.set_xlabel(r'$R \\: [kpc]$', fontsize=25)\n",
    "\n",
    "\n",
    "######################################################################################################################\n",
    "\n",
    "#axis labels and vertical lines\n",
    "ax1.set_xlabel(r'$R^{1/4} \\: [kpc^{1/4}]$', fontsize=30)\n",
    "ax2.set_xlabel(r'$R^{1/4} \\: [kpc^{1/4}]$', fontsize=30)\n",
    "ax3.set_xlabel(r'$R^{1/4} \\: [kpc^{1/4}]$', fontsize=30)\n",
    "ax3.set_ylabel(r'$M_{\\star}( < r ) \\: [ \\log (M_{\\odot})]$', fontsize=30)\n",
    "ax1.set_ylabel(r'$\\mu_{\\star}\\ [\\log (M_{\\odot})/\\mathrm{kpc}^2]$', fontsize=30)\n",
    "ax1.axvline(100.0 ** 0.25, linestyle='--', linewidth=3.0, alpha=0.6)\n",
    "ax1.axvline(6.0 ** 0.25, linestyle='-', linewidth=3.0, alpha=0.6, c='r')\n",
    "ax2.axvline(100.0 ** 0.25, linestyle='--', linewidth=3.0, alpha=0.6)\n",
    "ax2.axvline(6.0 ** 0.25, linestyle='-', linewidth=3.0, alpha=0.6, c='r')\n",
    "ax3.axvline(100.0 ** 0.25, linestyle='--', linewidth=3.0, alpha=0.6)\n",
    "ax3.axvline(6.0 ** 0.25, linestyle='-', linewidth=3.0, alpha=0.6, c='r')\n",
    "\n",
    "######################################################################################################################\n",
    "#adjustments to ticks and space between subplots\n",
    "\n",
    "#plt.setp([a.get_yticklabels() for a in fig.axes[1:]], visible=False)\n",
    "plt.setp(ax2.get_yticklabels(), visible=False)\n",
    "#plt.setp(ax2.get_xticklabels()[0], visible=False)\n",
    "\n",
    "#remove last label in x-axis of ax1 to prevent overlaping of labels with ax2\n",
    "labels1 = [item.get_text() for item in ax2.get_xticklabels()[:-1]]\n",
    "ax1.set_xticklabels(labels1)\n",
    "\n",
    "#add a bit of space between subplots\n",
    "# plt.tight_layout()\n",
    "\n",
    "# fig.savefig('/Users/fardila/Documents/GitHub/HSC_vs_hydro/Plots/surface_brightness_TNG.pdf',\n",
    "#             dpi=100, format='pdf', bbox_inches='tight')\n",
    "\n",
    "plt.show()"
   ]
  },
  {
   "cell_type": "markdown",
   "metadata": {},
   "source": [
    "# TNG "
   ]
  },
  {
   "cell_type": "code",
   "execution_count": null,
   "metadata": {},
   "outputs": [],
   "source": []
  }
 ],
 "metadata": {
  "kernelspec": {
   "display_name": "Python 2",
   "language": "python",
   "name": "python2"
  },
  "language_info": {
   "codemirror_mode": {
    "name": "ipython",
    "version": 2
   },
   "file_extension": ".py",
   "mimetype": "text/x-python",
   "name": "python",
   "nbconvert_exporter": "python",
   "pygments_lexer": "ipython2",
   "version": "2.7.15"
  }
 },
 "nbformat": 4,
 "nbformat_minor": 2
}
