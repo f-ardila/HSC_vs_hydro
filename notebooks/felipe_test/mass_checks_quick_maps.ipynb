{
 "cells": [
  {
   "cell_type": "markdown",
   "metadata": {},
   "source": [
    "# Check `quick` maps (histogram maps without smoothing)"
   ]
  },
  {
   "cell_type": "code",
   "execution_count": 1,
   "metadata": {},
   "outputs": [
    {
     "name": "stdout",
     "output_type": "stream",
     "text": [
      "Created TAP+ (v1.0) - Connection:\n",
      "\tHost: gea.esac.esa.int\n",
      "\tUse HTTPS: False\n",
      "\tPort: 80\n",
      "\tSSL Port: 443\n",
      "\n",
      "\n",
      "      +------------------------------------------------------------+\n",
      "      |             Space Telescope Tables Package                 |    \n",
      "      |                  TABLES Version 3.17                       |\n",
      "      |                                                            |\n",
      "      |   Space Telescope Science Institute, Baltimore, Maryland   |\n",
      "      |   Copyright (C) 2014 Association of Universities for       |\n",
      "      |            Research in Astronomy, Inc.(AURA)               |\n",
      "      |       See stsdas$copyright.stsdas for terms of use.        |\n",
      "      |         For help, send e-mail to help@stsci.edu            |\n",
      "      +------------------------------------------------------------+\n",
      "tables/:\n",
      " fitsio/        tbplot/         tobsolete/      ttools/\n",
      "\n",
      "\n",
      "      +------------------------------------------------------------+\n",
      "      |       Space Telescope Science Data Analysis System         |    \n",
      "      |                   STSDAS Version 3.17                      |\n",
      "      |                                                            |\n",
      "      |   Space Telescope Science Institute, Baltimore, Maryland   |\n",
      "      |   Copyright (C) 2014 Association of Universities for       |\n",
      "      |            Research in Astronomy, Inc.(AURA)               |\n",
      "      |       See stsdas$copyright.stsdas for terms of use.        |\n",
      "      |         For help, send e-mail to help@stsci.edu            |\n",
      "      |                                                            |\n",
      "      +------------------------------------------------------------+\n",
      "stsdas/:\n",
      " analysis/      examples        hst_calib/      sobsolete/\n",
      " contrib/       fitsio/         playpen/        toolbox/\n",
      " describe       graphics/       problems\n",
      "isophote/:\n",
      " bmodel         geompar@        isomap          magpar@\n",
      " controlpar@    isoexam         isopall         samplepar@\n",
      " ellipse        isoimap         isoplot\n"
     ]
    }
   ],
   "source": [
    "#import functions from module\n",
    "import sys\n",
    "sys.path.append('/Users/fardila/Documents/GitHub/HSC_vs_hydro/')\n",
    "from functions import *\n",
    "\n",
    "import numpy as np\n",
    "import os\n",
    "import pickle\n",
    "\n",
    "%matplotlib inline \n",
    "%load_ext autoreload \n",
    "%autoreload 2"
   ]
  },
  {
   "cell_type": "code",
   "execution_count": 8,
   "metadata": {
    "collapsed": true
   },
   "outputs": [],
   "source": [
    "Illustris_file_quick = '/Users/fardila/Documents/GitHub/HSC_vs_hydro/Data/Illustris/galaxies_stellarmaps_orig_11.2_quick_500.hdf5'"
   ]
  },
  {
   "cell_type": "code",
   "execution_count": 24,
   "metadata": {},
   "outputs": [
    {
     "name": "stdout",
     "output_type": "stream",
     "text": [
      "number of galaxies:  339\n",
      "map size in pixels:  200\n",
      "map size in kpc:  500.0\n",
      "pixel scale:  5.0\n"
     ]
    }
   ],
   "source": [
    "f = h5py.File(Illustris_file_quick, 'r')\n",
    "n_galaxies = len(f['catsh_id'])\n",
    "cat_sh_mstar = np.array(f['catsh_SubhaloMassType'][:, 4])\n",
    "\n",
    "map_size = f['config'].attrs['map_range_min']\n",
    "n_pixels = f['config'].attrs['map_npixel']\n",
    "pixel_scale=2 * (map_size/n_pixels)\n",
    "f.close()\n",
    "\n",
    "print \"number of galaxies: \", n_galaxies\n",
    "print \"map size in pixels: \", n_pixels\n",
    "print \"map size in kpc: \", map_size\n",
    "print \"pixel scale: \", pixel_scale"
   ]
  },
  {
   "cell_type": "code",
   "execution_count": null,
   "metadata": {
    "collapsed": true
   },
   "outputs": [],
   "source": [
    "def get_masses(sim_file, sim_name, gal_n=0):\n",
    "\n",
    "    # Load general simulation and galaxy properties\n",
    "    f = h5py.File(sim_file, 'r')\n",
    "    cat_sh_mstar = np.array(f['cat_sh_mstar'])\n",
    "\n",
    "    try:\n",
    "        map_stars = np.array(f['map_stars'])\n",
    "    except:\n",
    "        map_stars_insitu = np.array(f['map_stars_insitu'])\n",
    "        map_stars_exsitu = np.array(f['map_stars_exsitu'])\n",
    "        map_stars = map_stars_exsitu + map_stars_insitu\n",
    "\n",
    "    map_size = f.attrs['stellar_map_size']\n",
    "    n_pixels = f.attrs['stellar_map_np']\n",
    "\n",
    "    pixel_scale=2 * (map_size/n_pixels)\n",
    "    f.close()\n",
    "\n",
    "    #make maps\n",
    "    img_cen = map_stars[gal_n, 0, 1] * (pixel_scale ** 2) # Central\n",
    "    img_sat = map_stars[gal_n, 1, 1] * (pixel_scale ** 2) # Satellites\n",
    "    img_icl = map_stars[gal_n, 2, 1] * (pixel_scale ** 2) # Diffuse\n",
    "    img_cen_sat = (img_cen + img_sat)           # Central + Satellites\n",
    "    img_cen_icl = (img_cen + img_icl)           # Central + Satellites\n",
    "    img_all = (img_cen + img_sat + img_icl)           # Central + Satellites + Diffuse\n",
    "\n",
    "    #convert the image into unit of stellar mass instead of mass density\n",
    "    m_cat = np.log10(cat_sh_mstar[gal_n])\n",
    "    m_post = np.log10(np.sum(img_cen))"
   ]
  },
  {
   "cell_type": "code",
   "execution_count": null,
   "metadata": {
    "collapsed": true
   },
   "outputs": [],
   "source": [
    "cat_masses=np.log10(cat_sh_mstar)\n",
    "post_masses=[]\n",
    "\n",
    "for i in range(n_galaxies):\n",
    "    \n",
    "    "
   ]
  },
  {
   "cell_type": "code",
   "execution_count": null,
   "metadata": {
    "collapsed": true
   },
   "outputs": [],
   "source": []
  },
  {
   "cell_type": "code",
   "execution_count": null,
   "metadata": {
    "collapsed": true
   },
   "outputs": [],
   "source": []
  },
  {
   "cell_type": "code",
   "execution_count": null,
   "metadata": {
    "collapsed": true
   },
   "outputs": [],
   "source": []
  }
 ],
 "metadata": {
  "kernelspec": {
   "display_name": "Python 2",
   "language": "python",
   "name": "python2"
  },
  "language_info": {
   "codemirror_mode": {
    "name": "ipython",
    "version": 2
   },
   "file_extension": ".py",
   "mimetype": "text/x-python",
   "name": "python",
   "nbconvert_exporter": "python",
   "pygments_lexer": "ipython2",
   "version": "2.7.14"
  }
 },
 "nbformat": 4,
 "nbformat_minor": 2
}
