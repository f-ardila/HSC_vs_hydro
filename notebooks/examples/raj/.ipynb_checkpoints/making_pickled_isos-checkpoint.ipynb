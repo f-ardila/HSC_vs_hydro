{
 "cells": [
  {
   "cell_type": "markdown",
   "metadata": {},
   "source": [
    "# This notebook measures isos for quick and highres files in insitu and extitu and merges them by resolution"
   ]
  },
  {
   "cell_type": "code",
   "execution_count": 1,
   "metadata": {},
   "outputs": [
    {
     "name": "stdout",
     "output_type": "stream",
     "text": [
      "Created TAP+ (v1.0) - Connection:\n",
      "\tHost: gea.esac.esa.int\n",
      "\tUse HTTPS: False\n",
      "\tPort: 80\n",
      "\tSSL Port: 443\n",
      "\n",
      "\n",
      "      +------------------------------------------------------------+\n",
      "      |             Space Telescope Tables Package                 |\n",
      "      |                  TABLES Version 3.18.3                     |\n",
      "      |                                                            |\n",
      "      |   Space Telescope Science Institute, Baltimore, Maryland   |\n",
      "      |   Copyright (C) 2014 Association of Universities for       |\n",
      "      |            Research in Astronomy, Inc.(AURA)               |\n",
      "      |       See stsdas$copyright.stsdas for terms of use.        |\n",
      "      |         For help, send e-mail to help@stsci.edu            |\n",
      "      +------------------------------------------------------------+\n",
      "tables/:\n",
      " fitsio/        tbplot/         tobsolete/      ttools/\n",
      "\n",
      "\n",
      "      +------------------------------------------------------------+\n",
      "      |       Space Telescope Science Data Analysis System         |\n",
      "      |                   STSDAS Version 3.18.3                    |\n",
      "      |                                                            |\n",
      "      |   Space Telescope Science Institute, Baltimore, Maryland   |\n",
      "      |   Copyright (C) 2014 Association of Universities for       |\n",
      "      |            Research in Astronomy, Inc.(AURA)               |\n",
      "      |       See stsdas$copyright.stsdas for terms of use.        |\n",
      "      |         For help, send e-mail to help@stsci.edu            |\n",
      "      |                                                            |\n",
      "      +------------------------------------------------------------+\n",
      "stsdas/:\n",
      " analysis/      examples        hst_calib/      sobsolete/\n",
      " contrib/       fitsio/         playpen/        toolbox/\n",
      " describe       graphics/       problems\n",
      "isophote/:\n",
      " bmodel         geompar@        isomap          magpar@\n",
      " controlpar@    isoexam         isopall         samplepar@\n",
      " ellipse        isoimap         isoplot\n"
     ]
    }
   ],
   "source": [
    "import sys\n",
    "sys.path.append('/Users/fardila/Documents/GitHub/HSC_vs_hydro/')\n",
    "from functions import *"
   ]
  },
  {
   "cell_type": "markdown",
   "metadata": {},
   "source": [
    "## you will need to change all the file locations to match your computer\n",
    "## make sure to also modify the functions so that file locations *in* the functions match your computer"
   ]
  },
  {
   "cell_type": "code",
   "execution_count": 2,
   "metadata": {},
   "outputs": [],
   "source": [
    "Illustris_file_quick = '/Users/fardila/Documents/GitHub/HSC_vs_hydro/Data/Illustris/galaxies_stellarmaps_orig_11.2.hdf5'\n",
    "TNG_file_quick = '/Users/fardila/Documents/GitHub/HSC_vs_hydro/Data/TNG/galaxies_stellarmaps_tng75_11.2.hdf5'\n",
    "\n",
    "TNG_file_highres = '/Users/fardila/Documents/GitHub/HSC_vs_hydro/Data/TNG/galaxies_stellarmaps_tng75_11.2_highres.hdf5'\n",
    "Illustris_file_highres = '/Users/fardila/Documents/GitHub/HSC_vs_hydro/Data/Illustris/galaxies_stellarmaps_orig_11.2_highres.hdf5'"
   ]
  },
  {
   "cell_type": "markdown",
   "metadata": {},
   "source": [
    "# first run on quick (lowres) "
   ]
  },
  {
   "cell_type": "markdown",
   "metadata": {},
   "source": [
    "## insitu"
   ]
  },
  {
   "cell_type": "code",
   "execution_count": 3,
   "metadata": {},
   "outputs": [
    {
     "name": "stdout",
     "output_type": "stream",
     "text": [
      "^^^^^^^^^^^^^^^^^^^^^^^^^^^^^^\n",
      "^^^^^ILLUSTRIS GALAXY 0^^^^^^\n",
      "^^^^^^^^^^^^^^^^^^^^^^^^^^^^^^\n",
      "----------------------------------------------------------------------------------------------------\n",
      "###      galX, galY :  150.0 150.0\n",
      "###      galR :  20.0\n",
      "###      iniSma, maxSma :  50.0 250\n",
      "###      Stage :  3\n",
      "###      Step :  0.05\n",
      "----------------------------------------------------------------------------------------------------\n",
      "##       Set up the Ellipse configuration\n",
      "----------------------------------------------------------------------------------------------------\n",
      "\n",
      "----------------------------------------------------------------------------------------------------\n",
      "##       Start the Ellipse Run: Attempt  1\n",
      "----------------------------------------------------------------------------------------------------\n",
      "###      Origin Image  : /Users/fardila/Documents/GitHub/HSC_vs_hydro/Figures/fits_files/quick/Illustris_0_xy_cen.fits\n",
      "###      Input Image   : temp_J638Q.fits\n",
      "###      Output Binary : /Users/fardila/Documents/GitHub/HSC_vs_hydro/Figures/fits_files/quick/Illustris_0_xy_cen_ellip_3.bin\n",
      "----------------------------------------------------------------------------------------------------\n",
      "----------------------------------------------------------------------------------------------------\n",
      "###     Input background value   :  0.0\n",
      "###     1-D SBP background value :  286220.8\n",
      "###     Current outer background :  286220.8\n",
      "----------------------------------------------------------------------------------------------------\n",
      "^^^^^^^^^^^^^^^^^^^^^^^^^^^^^^\n",
      "^^^^^ILLUSTRIS GALAXY 1^^^^^^\n",
      "^^^^^^^^^^^^^^^^^^^^^^^^^^^^^^\n"
     ]
    },
    {
     "name": "stderr",
     "output_type": "stream",
     "text": [
      "/Users/fardila/Documents/Github/kungpao/kungpao/galsbp/galSBP.py:1619: RuntimeWarning: divide by zero encountered in log10\n",
      "  expTime))\n",
      "/Users/fardila/Documents/Github/kungpao/kungpao/galsbp/galSBP.py:1619: RuntimeWarning: invalid value encountered in log10\n",
      "  expTime))\n"
     ]
    },
    {
     "name": "stdout",
     "output_type": "stream",
     "text": [
      "----------------------------------------------------------------------------------------------------\n",
      "###      galX, galY :  150.0 150.0\n",
      "###      galR :  20.0\n",
      "###      iniSma, maxSma :  50.0 250\n",
      "###      Stage :  3\n",
      "###      Step :  0.05\n",
      "----------------------------------------------------------------------------------------------------\n",
      "##       Set up the Ellipse configuration\n",
      "----------------------------------------------------------------------------------------------------\n",
      "\n",
      "----------------------------------------------------------------------------------------------------\n",
      "##       Start the Ellipse Run: Attempt  1\n",
      "----------------------------------------------------------------------------------------------------\n",
      "###      Origin Image  : /Users/fardila/Documents/GitHub/HSC_vs_hydro/Figures/fits_files/quick/Illustris_1_xy_cen.fits\n",
      "###      Input Image   : temp_WRB2N.fits\n",
      "###      Output Binary : /Users/fardila/Documents/GitHub/HSC_vs_hydro/Figures/fits_files/quick/Illustris_1_xy_cen_ellip_3.bin\n",
      "----------------------------------------------------------------------------------------------------\n",
      "----------------------------------------------------------------------------------------------------\n",
      "###     Input background value   :  0.0\n",
      "###     1-D SBP background value :  148817.0\n",
      "###     Current outer background :  148817.0\n",
      "----------------------------------------------------------------------------------------------------\n"
     ]
    }
   ],
   "source": [
    "isos_illustris_insitu_quick=[]\n",
    "\n",
    "resolution = 'quick'\n",
    "stars = 'insitu'\n",
    "\n",
    "for i in range(339):\n",
    "\n",
    "    print('^^^^^^^^^^^^^^^^^^^^^^^^^^^^^^')\n",
    "    print('^^^^^ILLUSTRIS GALAXY '+str(i)+'^^^^^^')\n",
    "    print('^^^^^^^^^^^^^^^^^^^^^^^^^^^^^^')\n",
    "\n",
    "    iso = get_iso(Illustris_file_quick,'Illustris', resolution = resolution, stars = stars, intMode='mean', components='cen', gal_n=i)\n",
    "        \n",
    "    isos_illustris_insitu_quick.append(iso)\n",
    "    "
   ]
  },
  {
   "cell_type": "code",
   "execution_count": 4,
   "metadata": {},
   "outputs": [],
   "source": [
    "#save as pickles\n",
    "outfile_loc = '/Users/fardila/Documents/GitHub/HSC_vs_hydro/Data/test/'\n",
    "\n",
    "pkl_isos = open(outfile_loc+'Illustris_isos_{0}_{1}.pkl'.format(stars, resolution),'wb')\n",
    "pickle.dump(isos_illustris_insitu_quick,pkl_isos)\n",
    "pkl_isos.close()"
   ]
  },
  {
   "cell_type": "markdown",
   "metadata": {},
   "source": [
    "## exsitu "
   ]
  },
  {
   "cell_type": "code",
   "execution_count": 5,
   "metadata": {},
   "outputs": [
    {
     "name": "stdout",
     "output_type": "stream",
     "text": [
      "^^^^^^^^^^^^^^^^^^^^^^^^^^^^^^\n",
      "^^^^^ILLUSTRIS GALAXY 0^^^^^^\n",
      "^^^^^^^^^^^^^^^^^^^^^^^^^^^^^^\n",
      "----------------------------------------------------------------------------------------------------\n",
      "###      galX, galY :  150.0 150.0\n",
      "###      galR :  20.0\n",
      "###      iniSma, maxSma :  50.0 250\n",
      "###      Stage :  3\n",
      "###      Step :  0.05\n",
      "----------------------------------------------------------------------------------------------------\n",
      "##       Set up the Ellipse configuration\n",
      "----------------------------------------------------------------------------------------------------\n",
      "\n",
      "----------------------------------------------------------------------------------------------------\n",
      "##       Start the Ellipse Run: Attempt  1\n",
      "----------------------------------------------------------------------------------------------------\n",
      "###      Origin Image  : /Users/fardila/Documents/GitHub/HSC_vs_hydro/Figures/fits_files/quick/Illustris_0_xy_cen.fits\n",
      "###      Input Image   : temp_ANSFP.fits\n",
      "###      Output Binary : /Users/fardila/Documents/GitHub/HSC_vs_hydro/Figures/fits_files/quick/Illustris_0_xy_cen_ellip_3.bin\n",
      "----------------------------------------------------------------------------------------------------\n",
      "----------------------------------------------------------------------------------------------------\n",
      "###     Input background value   :  0.0\n",
      "###     1-D SBP background value :  2686196.5\n",
      "###     Current outer background :  2686196.5\n",
      "----------------------------------------------------------------------------------------------------\n",
      "^^^^^^^^^^^^^^^^^^^^^^^^^^^^^^\n",
      "^^^^^ILLUSTRIS GALAXY 1^^^^^^\n",
      "^^^^^^^^^^^^^^^^^^^^^^^^^^^^^^\n",
      "----------------------------------------------------------------------------------------------------\n",
      "###      galX, galY :  150.0 150.0\n",
      "###      galR :  20.0\n",
      "###      iniSma, maxSma :  50.0 250\n",
      "###      Stage :  3\n",
      "###      Step :  0.05\n",
      "----------------------------------------------------------------------------------------------------\n",
      "##       Set up the Ellipse configuration\n",
      "----------------------------------------------------------------------------------------------------\n",
      "\n",
      "----------------------------------------------------------------------------------------------------\n",
      "##       Start the Ellipse Run: Attempt  1\n",
      "----------------------------------------------------------------------------------------------------\n",
      "###      Origin Image  : /Users/fardila/Documents/GitHub/HSC_vs_hydro/Figures/fits_files/quick/Illustris_1_xy_cen.fits\n",
      "###      Input Image   : temp_BQ3YM.fits\n",
      "###      Output Binary : /Users/fardila/Documents/GitHub/HSC_vs_hydro/Figures/fits_files/quick/Illustris_1_xy_cen_ellip_3.bin\n",
      "----------------------------------------------------------------------------------------------------\n",
      "----------------------------------------------------------------------------------------------------\n",
      "###     Input background value   :  0.0\n",
      "###     1-D SBP background value :  3449169.0\n",
      "###     Current outer background :  3449169.0\n",
      "----------------------------------------------------------------------------------------------------\n"
     ]
    }
   ],
   "source": [
    "isos_illustris_exsitu_quick=[]\n",
    "\n",
    "resolution = 'quick'\n",
    "stars = 'exsitu'\n",
    "\n",
    "for i in range(339):\n",
    "\n",
    "    print('^^^^^^^^^^^^^^^^^^^^^^^^^^^^^^')\n",
    "    print('^^^^^ILLUSTRIS GALAXY '+str(i)+'^^^^^^')\n",
    "    print('^^^^^^^^^^^^^^^^^^^^^^^^^^^^^^')\n",
    "\n",
    "    iso = get_iso(Illustris_file_quick,'Illustris', resolution = resolution, stars = stars, intMode='mean', components='cen', gal_n=i)\n",
    "        \n",
    "    isos_illustris_exsitu_quick.append(iso)\n",
    "    "
   ]
  },
  {
   "cell_type": "code",
   "execution_count": 6,
   "metadata": {},
   "outputs": [],
   "source": [
    "#save as pickles\n",
    "outfile_loc = '/Users/fardila/Documents/GitHub/HSC_vs_hydro/Data/test/'\n",
    "\n",
    "pkl_isos = open(outfile_loc+'Illustris_isos_{0}_{1}.pkl'.format(stars, resolution),'wb')\n",
    "pickle.dump(isos_illustris_exsitu_quick,pkl_isos)\n",
    "pkl_isos.close()"
   ]
  },
  {
   "cell_type": "markdown",
   "metadata": {},
   "source": [
    "# now on highres "
   ]
  },
  {
   "cell_type": "markdown",
   "metadata": {},
   "source": [
    "## insitu "
   ]
  },
  {
   "cell_type": "code",
   "execution_count": 7,
   "metadata": {
    "scrolled": true
   },
   "outputs": [
    {
     "name": "stdout",
     "output_type": "stream",
     "text": [
      "^^^^^^^^^^^^^^^^^^^^^^^^^^^^^^\n",
      "^^^^^ILLUSTRIS GALAXY 0^^^^^^\n",
      "^^^^^^^^^^^^^^^^^^^^^^^^^^^^^^\n",
      "----------------------------------------------------------------------------------------------------\n",
      "###      galX, galY :  150.0 150.0\n",
      "###      galR :  20.0\n",
      "###      iniSma, maxSma :  50.0 250\n",
      "###      Stage :  3\n",
      "###      Step :  0.05\n",
      "----------------------------------------------------------------------------------------------------\n",
      "##       Set up the Ellipse configuration\n",
      "----------------------------------------------------------------------------------------------------\n",
      "\n",
      "----------------------------------------------------------------------------------------------------\n",
      "##       Start the Ellipse Run: Attempt  1\n",
      "----------------------------------------------------------------------------------------------------\n",
      "###      Origin Image  : /Users/fardila/Documents/GitHub/HSC_vs_hydro/Figures/fits_files/highres/Illustris_0_xy_cen.fits\n",
      "###      Input Image   : temp_JWFB7.fits\n",
      "###      Output Binary : /Users/fardila/Documents/GitHub/HSC_vs_hydro/Figures/fits_files/highres/Illustris_0_xy_cen_ellip_3.bin\n",
      "----------------------------------------------------------------------------------------------------\n",
      "----------------------------------------------------------------------------------------------------\n",
      "###     Input background value   :  0.0\n",
      "###     1-D SBP background value :  1147308.0\n",
      "###     Current outer background :  1147308.0\n",
      "----------------------------------------------------------------------------------------------------\n",
      "^^^^^^^^^^^^^^^^^^^^^^^^^^^^^^\n",
      "^^^^^ILLUSTRIS GALAXY 1^^^^^^\n",
      "^^^^^^^^^^^^^^^^^^^^^^^^^^^^^^\n",
      "----------------------------------------------------------------------------------------------------\n",
      "###      galX, galY :  150.0 150.0\n",
      "###      galR :  20.0\n",
      "###      iniSma, maxSma :  50.0 250\n",
      "###      Stage :  3\n",
      "###      Step :  0.05\n",
      "----------------------------------------------------------------------------------------------------\n",
      "##       Set up the Ellipse configuration\n",
      "----------------------------------------------------------------------------------------------------\n",
      "\n",
      "----------------------------------------------------------------------------------------------------\n",
      "##       Start the Ellipse Run: Attempt  1\n",
      "----------------------------------------------------------------------------------------------------\n",
      "###      Origin Image  : /Users/fardila/Documents/GitHub/HSC_vs_hydro/Figures/fits_files/highres/Illustris_1_xy_cen.fits\n",
      "###      Input Image   : temp_IZ3D0.fits\n",
      "###      Output Binary : /Users/fardila/Documents/GitHub/HSC_vs_hydro/Figures/fits_files/highres/Illustris_1_xy_cen_ellip_3.bin\n",
      "----------------------------------------------------------------------------------------------------\n",
      "----------------------------------------------------------------------------------------------------\n",
      "###     Input background value   :  0.0\n",
      "###     1-D SBP background value :  665504.3\n",
      "###     Current outer background :  665504.3\n",
      "----------------------------------------------------------------------------------------------------\n"
     ]
    }
   ],
   "source": [
    "isos_illustris_insitu_highres=[]\n",
    "\n",
    "resolution = 'highres'\n",
    "stars = 'insitu'\n",
    "\n",
    "for i in range(339):\n",
    "\n",
    "    print('^^^^^^^^^^^^^^^^^^^^^^^^^^^^^^')\n",
    "    print('^^^^^ILLUSTRIS GALAXY '+str(i)+'^^^^^^')\n",
    "    print('^^^^^^^^^^^^^^^^^^^^^^^^^^^^^^')\n",
    "\n",
    "    iso = get_iso(Illustris_file_highres,'Illustris', resolution = resolution, stars = stars, intMode='mean', components='cen', gal_n=i)\n",
    "        \n",
    "    isos_illustris_insitu_highres.append(iso)\n",
    "    "
   ]
  },
  {
   "cell_type": "code",
   "execution_count": 8,
   "metadata": {},
   "outputs": [],
   "source": [
    "#save as pickles\n",
    "outfile_loc = '/Users/fardila/Documents/GitHub/HSC_vs_hydro/Data/test/'\n",
    "\n",
    "pkl_isos = open(outfile_loc+'Illustris_isos_{0}_{1}.pkl'.format(stars, resolution),'wb')\n",
    "pickle.dump(isos_illustris_insitu_highres,pkl_isos)\n",
    "pkl_isos.close()"
   ]
  },
  {
   "cell_type": "markdown",
   "metadata": {},
   "source": [
    "##  exsitu"
   ]
  },
  {
   "cell_type": "code",
   "execution_count": 9,
   "metadata": {
    "scrolled": true
   },
   "outputs": [
    {
     "name": "stdout",
     "output_type": "stream",
     "text": [
      "^^^^^^^^^^^^^^^^^^^^^^^^^^^^^^\n",
      "^^^^^ILLUSTRIS GALAXY 0^^^^^^\n",
      "^^^^^^^^^^^^^^^^^^^^^^^^^^^^^^\n",
      "----------------------------------------------------------------------------------------------------\n",
      "###      galX, galY :  150.0 150.0\n",
      "###      galR :  20.0\n",
      "###      iniSma, maxSma :  50.0 250\n",
      "###      Stage :  3\n",
      "###      Step :  0.05\n",
      "----------------------------------------------------------------------------------------------------\n",
      "##       Set up the Ellipse configuration\n",
      "----------------------------------------------------------------------------------------------------\n",
      "\n",
      "----------------------------------------------------------------------------------------------------\n",
      "##       Start the Ellipse Run: Attempt  1\n",
      "----------------------------------------------------------------------------------------------------\n",
      "###      Origin Image  : /Users/fardila/Documents/GitHub/HSC_vs_hydro/Figures/fits_files/highres/Illustris_0_xy_cen.fits\n",
      "###      Input Image   : temp_BC7IH.fits\n",
      "###      Output Binary : /Users/fardila/Documents/GitHub/HSC_vs_hydro/Figures/fits_files/highres/Illustris_0_xy_cen_ellip_3.bin\n",
      "----------------------------------------------------------------------------------------------------\n",
      "----------------------------------------------------------------------------------------------------\n",
      "###     Input background value   :  0.0\n",
      "###     1-D SBP background value :  5943497.0\n",
      "###     Current outer background :  5943497.0\n",
      "----------------------------------------------------------------------------------------------------\n",
      "^^^^^^^^^^^^^^^^^^^^^^^^^^^^^^\n",
      "^^^^^ILLUSTRIS GALAXY 1^^^^^^\n",
      "^^^^^^^^^^^^^^^^^^^^^^^^^^^^^^\n",
      "----------------------------------------------------------------------------------------------------\n",
      "###      galX, galY :  150.0 150.0\n",
      "###      galR :  20.0\n",
      "###      iniSma, maxSma :  50.0 250\n",
      "###      Stage :  3\n",
      "###      Step :  0.05\n",
      "----------------------------------------------------------------------------------------------------\n",
      "##       Set up the Ellipse configuration\n",
      "----------------------------------------------------------------------------------------------------\n",
      "\n",
      "----------------------------------------------------------------------------------------------------\n",
      "##       Start the Ellipse Run: Attempt  1\n",
      "----------------------------------------------------------------------------------------------------\n",
      "###      Origin Image  : /Users/fardila/Documents/GitHub/HSC_vs_hydro/Figures/fits_files/highres/Illustris_1_xy_cen.fits\n",
      "###      Input Image   : temp_AJU52.fits\n",
      "###      Output Binary : /Users/fardila/Documents/GitHub/HSC_vs_hydro/Figures/fits_files/highres/Illustris_1_xy_cen_ellip_3.bin\n",
      "----------------------------------------------------------------------------------------------------\n",
      "----------------------------------------------------------------------------------------------------\n",
      "###     Input background value   :  0.0\n",
      "###     1-D SBP background value :  3942911.5\n",
      "###     Current outer background :  3942911.5\n",
      "----------------------------------------------------------------------------------------------------\n"
     ]
    }
   ],
   "source": [
    "isos_illustris_exsitu_highres=[]\n",
    "\n",
    "resolution = 'highres'\n",
    "stars = 'exsitu'\n",
    "\n",
    "for i in range(339):\n",
    "\n",
    "    print('^^^^^^^^^^^^^^^^^^^^^^^^^^^^^^')\n",
    "    print('^^^^^ILLUSTRIS GALAXY '+str(i)+'^^^^^^')\n",
    "    print('^^^^^^^^^^^^^^^^^^^^^^^^^^^^^^')\n",
    "\n",
    "    iso = get_iso(Illustris_file_highres,'Illustris', resolution = resolution, stars = stars, intMode='mean', components='cen', gal_n=i)\n",
    "        \n",
    "    isos_illustris_exsitu_highres.append(iso)\n",
    "    "
   ]
  },
  {
   "cell_type": "code",
   "execution_count": 10,
   "metadata": {},
   "outputs": [],
   "source": [
    "#save as pickles\n",
    "outfile_loc = '/Users/fardila/Documents/GitHub/HSC_vs_hydro/Data/test/'\n",
    "\n",
    "pkl_isos = open(outfile_loc+'Illustris_isos_{0}_{1}.pkl'.format(stars, resolution),'wb')\n",
    "pickle.dump(isos_illustris_exsitu_highres,pkl_isos)\n",
    "pkl_isos.close()"
   ]
  },
  {
   "cell_type": "markdown",
   "metadata": {},
   "source": [
    "# now merge "
   ]
  },
  {
   "cell_type": "markdown",
   "metadata": {},
   "source": [
    "### if you want to load the isos this is how: "
   ]
  },
  {
   "cell_type": "code",
   "execution_count": 11,
   "metadata": {},
   "outputs": [],
   "source": [
    "# illustris_isos_file_highres='/Users/fardila/Documents/GitHub/HSC_vs_hydro/Data/Illustris/Illustris_isos_highres.pkl'\n",
    "# illustris_isos_file_quick='/Users/fardila/Documents/GitHub/HSC_vs_hydro/Data/Illustris/Illustris_isos_quick.pkl'\n",
    "# illustris_isos_quick = open_pkl(illustris_isos_file_quick)\n",
    "# illustris_isos_highres = open_pkl(illustris_isos_file_highres)"
   ]
  },
  {
   "cell_type": "code",
   "execution_count": 12,
   "metadata": {},
   "outputs": [],
   "source": [
    "def find_nearest(array, value):\n",
    "    array = np.asarray(array)\n",
    "    idx = (np.abs(array - value)).argmin()\n",
    "    return idx\n",
    "\n",
    "def merge_iso(iso_highres,iso_quick, merge_location):\n",
    "    id_highres=find_nearest(iso_highres['sma_kpc'],merge_location)-1\n",
    "    id_quick=find_nearest(iso_quick['sma_kpc'],merge_location)+1\n",
    "    \n",
    "    highres_half = iso_highres[:id_highres]\n",
    "    quick_half = iso_quick[id_quick:]\n",
    "    \n",
    "    return vstack([highres_half,quick_half])"
   ]
  },
  {
   "cell_type": "markdown",
   "metadata": {},
   "source": [
    "## insitu"
   ]
  },
  {
   "cell_type": "code",
   "execution_count": 13,
   "metadata": {},
   "outputs": [],
   "source": [
    "merged_isos_insitu =[merge_iso(isos_illustris_insitu_highres[i],isos_illustris_insitu_quick[i], 100) for i in range(len(isos_illustris_insitu_quick))]"
   ]
  },
  {
   "cell_type": "code",
   "execution_count": 14,
   "metadata": {},
   "outputs": [],
   "source": [
    "outfile_loc = '/Users/fardila/Documents/GitHub/HSC_vs_hydro/Data/test/'\n",
    "\n",
    "pkl_isos = open(outfile_loc+'Illustris_isos_{0}_{1}.pkl'.format('insitu','merged'),'wb')\n",
    "pickle.dump(merged_isos_insitu,pkl_isos)\n",
    "pkl_isos.close()"
   ]
  },
  {
   "cell_type": "markdown",
   "metadata": {},
   "source": [
    "## exsitu"
   ]
  },
  {
   "cell_type": "code",
   "execution_count": 15,
   "metadata": {},
   "outputs": [],
   "source": [
    "merged_isos_exsitu=[merge_iso(isos_illustris_exsitu_highres[i],isos_illustris_exsitu_quick[i], 100) for i in range(len(isos_illustris_exsitu_quick))]"
   ]
  },
  {
   "cell_type": "code",
   "execution_count": 16,
   "metadata": {},
   "outputs": [],
   "source": [
    "outfile_loc = '/Users/fardila/Documents/GitHub/HSC_vs_hydro/Data/test/'\n",
    "\n",
    "pkl_isos = open(outfile_loc+'Illustris_isos_{0}_{1}.pkl'.format('exsitu','merged'),'wb')\n",
    "pickle.dump(merged_isos_exsitu,pkl_isos)\n",
    "pkl_isos.close()"
   ]
  },
  {
   "cell_type": "code",
   "execution_count": 19,
   "metadata": {},
   "outputs": [
    {
     "data": {
      "image/png": "[encoded data removed]",
      "text/plain": [
       "<Figure size 1080x720 with 2 Axes>"
      ]
     },
     "metadata": {},
     "output_type": "display_data"
    }
   ],
   "source": [
    "fig = plt.figure(figsize=(15, 10))\n",
    "ax1 = plt.subplot()\n",
    "\n",
    "for n in range(2):\n",
    "  \n",
    "    merged_iso_exsitu = merged_isos_exsitu[n]\n",
    "    merged_iso_insitu = merged_isos_insitu[n]\n",
    "    \n",
    "    p = ax1.plot((merged_iso_exsitu['sma_kpc']) ** 0.25,\n",
    "         np.log10(merged_iso_exsitu['intens_kpc'])+ np.log10(0.7 ** 2.0) - (n*1.5), linewidth=5, alpha=0.3, \n",
    "             label='_nolegend_', zorder=1, linestyle='-')\n",
    "    \n",
    "#     ax1.plot((iso_highres['sma'] * pixel_scale_highres) ** 0.25,\n",
    "#          np.log10(iso_highres['intens'] / (pixel_scale_highres**2.0))+ np.log10(0.7 ** 2.0) - (n*1.5) , linewidth=1, \n",
    "#                  alpha=1, label='_nolegend_', zorder=2, linestyle='-')\n",
    "\n",
    "#     ax1.plot((iso_quick['sma'] * pixel_scale_quick) ** 0.25,\n",
    "#          np.log10(iso_quick['intens'] / (pixel_scale_quick**2.0))+ np.log10(0.7 ** 2.0) - (n*1.5) , linewidth=2, alpha=1, \n",
    "#              label='_nolegend_', zorder=2, c=p[0].get_color(), linestyle='--')\n",
    "    \n",
    "    ax1.plot((merged_iso_insitu['sma_kpc']) ** 0.25,\n",
    "             np.log10(merged_iso_insitu['intens_kpc'])+ np.log10(0.7 ** 2.0) - (n*1.5), linewidth=2, alpha=0.3, \n",
    "             label='_nolegend_', zorder=1, c=p[0].get_color(), linestyle='--')\n",
    "\n",
    "# no show lines for legend\n",
    "ax1.plot([], linewidth=2, alpha=1, linestyle='--', label='insitu', zorder=1, c='k') \n",
    "ax1.plot([], linewidth=2, alpha=1, label='exsitu', zorder=1, c='k') \n",
    "\n",
    "######################################################################################################################\n",
    "# plot details\n",
    "######################################################################################################################\n",
    "# X-Y limits\n",
    "# ax1.set_xlim(0.9, 4.5)\n",
    "# ax1.set_ylim(-2, 9.5)\n",
    "\n",
    "# Labels\n",
    "ax1.set_xlabel(r'$\\log\\ (M_{\\star}/M_{\\odot})$', \n",
    "               size=60)\n",
    "ax1.set_ylabel(r'$\\mathrm{d}N/\\mathrm{d}\\log M_{\\star}\\ [{\\mathrm{Mpc}^{-3}}{\\mathrm{dex}^{-1}}]$', \n",
    "               size=60)\n",
    "ax1.tick_params(axis='both', which='major', labelsize=30)\n",
    "\n",
    "#text label\n",
    "#ax1.text(1.65, 4.2, r'$11.6<M_{100}<11.8$', size=30)\n",
    "\n",
    "ax1.legend(fontsize=20)\n",
    "\n",
    "#add twin x axis in kpc\n",
    "x1, x2 = ax1.get_xlim()\n",
    "ax1_twin = ax1.twiny()\n",
    "ax1_twin.set_xlim(x1, x2)\n",
    "ax1_twin.figure.canvas.draw()\n",
    "ax1_twin.xaxis.set_ticks([2**0.25, 5**0.25, 10**0.25, 50**0.25, 100**0.25, 200**0.25, 300**0.25])\n",
    "ax1_twin.xaxis.set_ticklabels([2, 5, 10, 50, 100, 200, 300])\n",
    "ax1_twin.tick_params(axis='both', which='major', labelsize=15)\n",
    "ax1_twin.set_xlabel(r'$R \\: [kpc]$', fontsize=25)\n",
    "\n",
    "######################################################################################################################\n",
    "\n",
    "#axis labels and vertical lines\n",
    "ax1.set_xlabel(r'$R^{1/4} \\: [kpc^{1/4}]$', fontsize=30)\n",
    "ax1.set_ylabel(r'$\\mu_{\\star}\\ [\\log (M_{\\odot})/\\mathrm{kpc}^2]$', fontsize=30)\n",
    "ax1.axvline(100.0 ** 0.25, linestyle='--', linewidth=3.0, alpha=0.6)\n",
    "ax1.axvline(6.0 ** 0.25, linestyle='-', linewidth=3.0, alpha=0.6, c='r')\n",
    "ax1.axvline(150.0 ** 0.25, linestyle='-', linewidth=3.0, alpha=0.6, c='k')\n",
    "\n",
    "######################################################################################################################\n",
    "#adjustments to ticks and space between subplots\n",
    "\n",
    "# fig.savefig('/Users/fardila/Documents/GitHub/HSC_vs_hydro/Plots/surface_brightness_Illustris.pdf',\n",
    "#             dpi=100, format='pdf', bbox_inches='tight')\n",
    "\n",
    "plt.show()"
   ]
  },
  {
   "cell_type": "code",
   "execution_count": null,
   "metadata": {},
   "outputs": [],
   "source": []
  }
 ],
 "metadata": {
  "kernelspec": {
   "display_name": "Python 2",
   "language": "python",
   "name": "python2"
  },
  "language_info": {
   "codemirror_mode": {
    "name": "ipython",
    "version": 2
   },
   "file_extension": ".py",
   "mimetype": "text/x-python",
   "name": "python",
   "nbconvert_exporter": "python",
   "pygments_lexer": "ipython2",
   "version": "2.7.15"
  }
 },
 "nbformat": 4,
 "nbformat_minor": 2
}
