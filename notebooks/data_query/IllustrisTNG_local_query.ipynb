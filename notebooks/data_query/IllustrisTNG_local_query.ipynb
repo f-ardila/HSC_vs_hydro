{
 "cells": [
  {
   "cell_type": "markdown",
   "metadata": {},
   "source": [
    "following https://www.illustris-project.org/data/docs/scripts/ as a guide"
   ]
  },
  {
   "cell_type": "code",
   "execution_count": 89,
   "metadata": {},
   "outputs": [],
   "source": [
    "from __future__ import division\n",
    "import illustris_python as il\n",
    "import matplotlib.pyplot as plt\n",
    "import numpy as np"
   ]
  },
  {
   "cell_type": "markdown",
   "metadata": {},
   "source": [
    "```\n",
    "PartType0 - GAS\n",
    "PartType1 - DM\n",
    "PartType2 - (unused)\n",
    "PartType3 - TRACERS\n",
    "PartType4 - STARS & WIND PARTICLES\n",
    "PartType5 - BLACK HOLES\n",
    "```"
   ]
  },
  {
   "cell_type": "code",
   "execution_count": 110,
   "metadata": {},
   "outputs": [],
   "source": [
    "def completeness_statistics(basePath, snap, z):\n",
    "\n",
    "    subhalo_fields = ['SubhaloMassType','SubhaloGrNr']\n",
    "    group_fields = ['Group_M_Crit200', 'GroupMassType','GroupFirstSub']\n",
    "    \n",
    "    subhalos = il.groupcat.loadSubhalos(basePath,snap,fields=subhalo_fields)\n",
    "    groups = il.groupcat.loadHalos(basePath,snap,fields=group_fields)\n",
    "    \n",
    "    subhalos_stellar_masses = subhalos['SubhaloMassType'][:,4]* 1e10 / 0.704 \n",
    "    n_subhalos_Mstar_gt_11p2 = np.sum(subhalos_stellar_masses>10**11.2)\n",
    "    print('{0} subhalos with log M* > 11.2'.format(n_subhalos_Mstar_gt_11p2))\n",
    "    group_id_Mstar_gt_11p2 = np.unique(subhalos['SubhaloGrNr'][subhalos_stellar_masses>(10**11.2)])\n",
    "    n_primary_subhalos_Mstar_gt_11p2 = len(group_id_Mstar_gt_11p2)\n",
    "    print('{0} PRIMARY subhalos with log M* > 11.2'.format(n_primary_subhalos_Mstar_gt_11p2))\n",
    "    \n",
    "    \n",
    "    halo_m200c = groups['Group_M_Crit200']* 1e10 / 0.704 \n",
    "    halo_m200c_gt_10 = halo_m200c[halo_m200c>1e10] #some masses are really low and it raises an error in colossus\n",
    "\n",
    "    #convert to Mvir\n",
    "    halo_m_vir, halo_r_vir, halo_c_vir = mass_adv.changeMassDefinitionCModel(halo_m200c_gt_10, z, '200c', 'vir',\n",
    "                                                                          profile='nfw', c_model='diemer19')\n",
    "\n",
    "    n_Mvir_gt_13 = np.sum(halo_m_vir>1e13)\n",
    "    print('{0} groups with log Mvir > 13'.format(n_Mvir_gt_13))\n",
    "    n_Mvir_gt_13_lt_13p42 = np.sum((halo_m_vir>1e13)&(halo_m_vir<10**(13.42)))    \n",
    "    print('{0} groups with 13.42 > log Mvir > 13'.format(n_Mvir_gt_13_lt_13p42))\n",
    "    \n",
    "    halo_m200c_Mstar_gt_11p2 = halo_m200c[group_id_Mstar_gt_11p2]\n",
    "    halo_m_vir_Mstar_gt_11p2, halo_r_vir, halo_c_vir = mass_adv.changeMassDefinitionCModel(halo_m200c_Mstar_gt_11p2, z_tng,\n",
    "                                                                             '200c', 'vir',\n",
    "                                                                             profile='nfw', c_model='diemer19')\n",
    "\n",
    "    n_Mstar_gt_11p2_AND_Mvir_gt_13 = np.sum(halo_m_vir_Mstar_gt_11p2>1e13)\n",
    "    print('{0} subhalos with log M* > 11.2 AND group log Mvir > 13'.format(n_Mstar_gt_11p2_AND_Mvir_gt_13))\n",
    "    n_Mstar_gt_11p2_AND_Mvir_gt_13_lt_13p42 = np.sum((halo_m_vir_Mstar_gt_11p2>1e13)&(halo_m_vir_Mstar_gt_11p2<10**(13.42))) \n",
    "    print('{0} subhalos with log M* > 11.2 AND group 13.42 > log Mvir > 13'.format(n_Mstar_gt_11p2_AND_Mvir_gt_13_lt_13p42))\n",
    "    \n",
    "    \n",
    "    frac_Mvir_gt_13 = n_Mstar_gt_11p2_AND_Mvir_gt_13 / n_Mvir_gt_13\n",
    "    print('Completenes for log Mvir > 13: {0}'.format(frac_Mvir_gt_13))\n",
    "    \n",
    "    frac_Mvir_gt_13_lt_13p42 = n_Mstar_gt_11p2_AND_Mvir_gt_13_lt_13p42 / n_Mvir_gt_13_lt_13p42\n",
    "    print('Completenes for 13.42 > log Mvir > 13: {0}'.format(frac_Mvir_gt_13_lt_13p42))\n",
    "    \n",
    "    \n",
    "    "
   ]
  },
  {
   "cell_type": "code",
   "execution_count": 111,
   "metadata": {},
   "outputs": [],
   "source": [
    "basePath_TNG = '/Users/fardila/Documents/Data/HSC_vs_hydro/TNG100'\n",
    "basePath_Illustris = '/Users/fardila/Documents/Data/HSC_vs_hydro/Illustris-1'\n",
    "\n",
    "snap_TNG = 72\n",
    "snap_Illustris = 108\n",
    "\n",
    "z_TNG = 0.4\n",
    "z_Illustris = 0.4"
   ]
  },
  {
   "cell_type": "code",
   "execution_count": 112,
   "metadata": {},
   "outputs": [
    {
     "name": "stdout",
     "output_type": "stream",
     "text": [
      "284 subhalos with log M* > 11.2\n",
      "228 PRIMARY subhalos with log M* > 11.2\n",
      "199 groups with log Mvir > 13\n",
      "131 groups with 13.42 > log Mvir > 13\n",
      "176 subhalos with log M* > 11.2 AND group log Mvir > 13\n",
      "108 subhalos with log M* > 11.2 AND group 13.42 > log Mvir > 13\n",
      "Completenes for log Mvir > 13: 0.884422110553\n",
      "Completenes for 13.42 > log Mvir > 13: 0.824427480916\n"
     ]
    }
   ],
   "source": [
    "completeness_statistics(basePath_TNG, snap_TNG, z_TNG)"
   ]
  },
  {
   "cell_type": "code",
   "execution_count": 113,
   "metadata": {},
   "outputs": [
    {
     "name": "stdout",
     "output_type": "stream",
     "text": [
      "449 subhalos with log M* > 11.2\n",
      "344 PRIMARY subhalos with log M* > 11.2\n",
      "144 groups with log Mvir > 13\n",
      "98 groups with 13.42 > log Mvir > 13\n",
      "143 subhalos with log M* > 11.2 AND group log Mvir > 13\n",
      "97 subhalos with log M* > 11.2 AND group 13.42 > log Mvir > 13\n",
      "Completenes for log Mvir > 13: 0.993055555556\n",
      "Completenes for 13.42 > log Mvir > 13: 0.989795918367\n"
     ]
    }
   ],
   "source": [
    "completeness_statistics(basePath_Illustris, snap_Illustris, z_Illustris)"
   ]
  },
  {
   "cell_type": "code",
   "execution_count": null,
   "metadata": {},
   "outputs": [],
   "source": []
  }
 ],
 "metadata": {
  "kernelspec": {
   "display_name": "Python [hsc_hydro]",
   "language": "python",
   "name": "hsc_hydro"
  },
  "language_info": {
   "codemirror_mode": {
    "name": "ipython",
    "version": 2
   },
   "file_extension": ".py",
   "mimetype": "text/x-python",
   "name": "python",
   "nbconvert_exporter": "python",
   "pygments_lexer": "ipython2",
   "version": "2.7.15"
  }
 },
 "nbformat": 4,
 "nbformat_minor": 2
}
